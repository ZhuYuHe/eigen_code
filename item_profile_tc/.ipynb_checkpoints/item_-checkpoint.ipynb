{
 "cells": [
  {
   "cell_type": "code",
   "execution_count": 1,
   "metadata": {
    "collapsed": false
   },
   "outputs": [],
   "source": [
    "import fasttext"
   ]
  },
  {
   "cell_type": "code",
   "execution_count": 2,
   "metadata": {
    "collapsed": false,
    "deletable": true,
    "editable": true
   },
   "outputs": [
    {
     "ename": "ImportError",
     "evalue": "No module named 'fastText'",
     "output_type": "error",
     "traceback": [
      "\u001b[0;31m---------------------------------------------------------------------------\u001b[0m",
      "\u001b[0;31mImportError\u001b[0m                               Traceback (most recent call last)",
      "\u001b[0;32m<ipython-input-2-64c1b4779487>\u001b[0m in \u001b[0;36m<module>\u001b[0;34m()\u001b[0m\n\u001b[0;32m----> 1\u001b[0;31m \u001b[0;32mimport\u001b[0m \u001b[0mfastText\u001b[0m\u001b[0;34m\u001b[0m\u001b[0m\n\u001b[0m\u001b[1;32m      2\u001b[0m \u001b[0;32mimport\u001b[0m \u001b[0mjieba\u001b[0m\u001b[0;34m\u001b[0m\u001b[0m\n",
      "\u001b[0;31mImportError\u001b[0m: No module named 'fastText'"
     ]
    }
   ],
   "source": [
    "import fastText\n",
    "import jieba"
   ]
  },
  {
   "cell_type": "code",
   "execution_count": 60,
   "metadata": {
    "collapsed": true,
    "deletable": true,
    "editable": true
   },
   "outputs": [],
   "source": [
    "class Item(object):\n",
    "    \"\"\"\n",
    "    淘宝商品分类模型\n",
    "    类别包含：\n",
    "    ['__label__全身护理|口腔护理','__label__全身护理|洗发',\n",
    "    \n",
    "     '__label__内衣|保暖内衣', '__label__内衣|女式内裤','__label__内衣|家居', '__label__内衣|情趣内衣', '__label__内衣|文胸',\n",
    "     '__label__内衣|男式内裤','__label__内衣|睡衣','__label__内衣|背心', '__label__内衣|连裤袜',\n",
    "     \n",
    "     '__label__女装|T恤','__label__女装|中老年装','__label__女装|休闲裤','__label__女装|半身裙', '__label__女装|卫衣',\n",
    "     '__label__女装|大码装','__label__女装|大衣', '__label__女装|打底裤','__label__女装|牛仔裤', '__label__女装|羽绒服',\n",
    "     '__label__女装|衬衫','__label__女装|西服', '__label__女装|连衣裙', '__label__女装|针织衫', '__label__女装|风衣', '__label__女装|马甲',\n",
    "     \n",
    "     '__label__女鞋|休闲鞋', '__label__女鞋|凉鞋', '__label__女鞋|单鞋', '__label__女鞋|女靴', '__label__女鞋|高跟鞋',\n",
    "     \n",
    "     '__label__护肤|化妆水/爽肤水', '__label__护肤|洁面', '__label__护肤|眼部护理', '__label__护肤|精华', '__label__护肤|面膜',\n",
    "     '__label__护肤|面霜',\n",
    "     \n",
    "     '__label__男装|POLO衫', '__label__男装|T恤', '__label__男装|休闲裤', '__label__男装|卫衣', '__label__男装|夹克',\n",
    "     '__label__男装|牛仔裤', '__label__男装|短裤', '__label__男装|羽绒服', '__label__男装|衬衫', '__label__男装|针织衫',\n",
    "     \n",
    "     '__label__男鞋|休闲鞋', '__label__男鞋|正装鞋',\n",
    "     \n",
    "     '__label__童装|功能鞋', '__label__童装|单鞋', '__label__童装|运动鞋',\n",
    "     \n",
    "     '__label__运动女鞋|训练鞋', '__label__运动女鞋|跑步鞋', '__label__运动男鞋|篮球鞋', '__label__运动男鞋|训练鞋', '__label__运动男鞋|跑步鞋',\n",
    "     \n",
    "     '__label__配饰|其他配件', '__label__配饰|腰带']\n",
    "    \"\"\"\n",
    "    def __init__(self, model_path = None):\n",
    "        self.punct = set(u''':!),.:;?]}¢'\"、。〉》」』】〕〗〞︰︱︳﹐､﹒﹔﹕﹖﹗﹚/﹜﹞！），．：；？｜｝︴︶︸︺︼︾﹀﹂﹄﹏､～￠々‖•·ˇˉ―--′’”([{£¥'\"‵〈《「『【〔〖（［｛￡￥〝︵︷︹︻︽︿﹁﹃\\t﹙+﹛﹝（｛“‘-—_…''')\n",
    "        self.stopwords = set('的和呢了吧')\n",
    "        self.f = fastText.FastText\n",
    "        if model_path is None:\n",
    "            self.model = self.f.load_model('/home/zhuyuhe/mypackage/fastText/result/model_clothes.bin')\n",
    "        else:\n",
    "            self.model = self.f.load_model(model_path)\n",
    "        \n",
    "    def preprocess(self, text):\n",
    "        \"\"\"\n",
    "        given a string or a list , return the string that can be processed by fasttext\n",
    "        \"\"\"\n",
    "        re = []\n",
    "        if type(text) == str:\n",
    "            return self.preprocess_str(text)\n",
    "        else:\n",
    "            for t in text:\n",
    "                re.append(self.preprocess_str(t))\n",
    "        return re\n",
    "    \n",
    "    def preprocess_str(self, text):\n",
    "        text = self.rmpunct(text)\n",
    "        text = self.rmstopwords(text)\n",
    "        text = self.splitwords(text)\n",
    "        return text\n",
    "    \n",
    "    def predict(self, text, k = 1, prob = True):\n",
    "        \"\"\"\n",
    "        given a string or a list, return their predicted label and probality\n",
    "        \"\"\"\n",
    "        if len(text) == 0:\n",
    "            raise ValueError(\n",
    "            \"Text should not be None\")\n",
    "        if type(text) == list:\n",
    "            labels = []\n",
    "            probas = []\n",
    "            text = self.preprocess(text)\n",
    "            for t in text:\n",
    "                #print(text)\n",
    "                label, proba = self.model.predict(t, k)\n",
    "                labels.append(label)\n",
    "                probas.append(proba)\n",
    "            if prob is True:\n",
    "                return labels, probas\n",
    "            else:\n",
    "                return labels\n",
    "        else:\n",
    "            text = self.preprocess(text)\n",
    "            #print(text)\n",
    "            label, proba = self.model.predict(text, k)\n",
    "            if prob is True:\n",
    "                return label, proba\n",
    "            else:\n",
    "                return label\n",
    "            \n",
    "    def rmpunct(self, text):\n",
    "        \"\"\"\n",
    "        remove punct from given string\n",
    "        \"\"\"\n",
    "        return  ''.join(filter(lambda x: x not in self.punct, text))\n",
    "    \n",
    "    def rmstopwords(self, text):\n",
    "        \"\"\"\n",
    "        remove stopwords from given string\n",
    "        \"\"\"\n",
    "        return  ''.join(filter(lambda x: x not in self.stopwords, text))\n",
    "    \n",
    "    def splitwords(self, text):\n",
    "        \"\"\"\n",
    "        split words from given string using jieba\n",
    "        \"\"\"\n",
    "        return ' '.join(jieba.cut(text))\n",
    "                        \n",
    "                   "
   ]
  },
  {
   "cell_type": "code",
   "execution_count": 50,
   "metadata": {
    "collapsed": false,
    "deletable": true,
    "editable": true
   },
   "outputs": [
    {
     "name": "stdout",
     "output_type": "stream",
     "text": [
      "([('__label__女装|T恤', '__label__男装|T恤'), ('__label__女装|连衣裙', '__label__女装|半身裙')], [array([0.96275787, 0.01264193]), array([9.99886976e-01, 5.69255910e-05])])\n"
     ]
    }
   ],
   "source": [
    "model = Item()\n",
    "print(model.predict(['跑步瑜伽健身服运动短袖T恤女秋季速干健身衣', '茉莉和扶苏原创\"墨渊棕色版\"复古棉麻连衣裙森系高腰长裙'], k=2))"
   ]
  },
  {
   "cell_type": "code",
   "execution_count": 53,
   "metadata": {
    "collapsed": false,
    "deletable": true,
    "editable": true
   },
   "outputs": [
    {
     "name": "stdout",
     "output_type": "stream",
     "text": [
      "('__label__女装|连衣裙', '__label__女装|马甲')\n"
     ]
    }
   ],
   "source": [
    "print(model.predict('大喜自制 春季新品 复古清凉飘逸复古黄色绑带无袖吊带雪纺连衣裙', k = 2, prob = False))"
   ]
  }
 ],
 "metadata": {
  "anaconda-cloud": {},
  "kernelspec": {
   "display_name": "anaconda3",
   "language": "python",
   "name": "anaconda3"
  },
  "language_info": {
   "codemirror_mode": {
    "name": "ipython",
    "version": 3
   },
   "file_extension": ".py",
   "mimetype": "text/x-python",
   "name": "python",
   "nbconvert_exporter": "python",
   "pygments_lexer": "ipython3",
   "version": "3.5.2"
  }
 },
 "nbformat": 4,
 "nbformat_minor": 2
}

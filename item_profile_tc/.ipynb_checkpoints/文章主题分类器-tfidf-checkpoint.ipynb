{
 "cells": [
  {
   "cell_type": "code",
   "execution_count": 14,
   "metadata": {
    "collapsed": false,
    "deletable": true,
    "editable": true
   },
   "outputs": [
    {
     "name": "stdout",
     "output_type": "stream",
     "text": [
      "/mnt/raid1/home/zhuyuhe/.conda/envs/zhuyuheEnv/lib/python3.6/site-packages/simplex\n"
     ]
    }
   ],
   "source": [
    "cd ~/.conda/envs/zhuyuheEnv/lib/python3.6/site-packages/simplex"
   ]
  },
  {
   "cell_type": "code",
   "execution_count": 44,
   "metadata": {
    "collapsed": false,
    "deletable": true,
    "editable": true
   },
   "outputs": [],
   "source": [
    "import simplex\n",
    "from simplex import utils\n",
    "import json\n",
    "import glob\n",
    "from tqdm import tqdm"
   ]
  },
  {
   "cell_type": "code",
   "execution_count": 45,
   "metadata": {
    "collapsed": false,
    "deletable": true,
    "editable": true
   },
   "outputs": [
    {
     "name": "stderr",
     "output_type": "stream",
     "text": [
      "100%|██████████| 8/8 [00:04<00:00,  1.70it/s]\n"
     ]
    },
    {
     "data": {
      "text/plain": [
       "28362"
      ]
     },
     "execution_count": 45,
     "metadata": {},
     "output_type": "execute_result"
    }
   ],
   "source": [
    "hd_articles = []\n",
    "for filename in tqdm(glob.glob(\"/data/xueyou/fashion/sku/taobao_headline_articles/*_0\")):\n",
    "    for line in open(filename):\n",
    "        tokens = line.strip().split('\\x01')\n",
    "        if len(tokens) == 4:\n",
    "            headline = tokens[1]\n",
    "            category = tokens[2]\n",
    "            body = tokens[3]\n",
    "            hd_articles.append((headline,category,json.loads(body)))\n",
    "len(hd_articles)"
   ]
  },
  {
   "cell_type": "code",
   "execution_count": 46,
   "metadata": {
    "collapsed": true,
    "deletable": true,
    "editable": true
   },
   "outputs": [],
   "source": [
    "from collections import Counter"
   ]
  },
  {
   "cell_type": "code",
   "execution_count": 47,
   "metadata": {
    "collapsed": false,
    "deletable": true,
    "editable": true,
    "scrolled": true
   },
   "outputs": [
    {
     "data": {
      "text/plain": [
       "Counter({'型男': 283,\n",
       "         '头条': 12620,\n",
       "         '居家': 438,\n",
       "         '手机': 3464,\n",
       "         '数码': 2340,\n",
       "         '旅行': 5503,\n",
       "         '母婴': 485,\n",
       "         '美容': 517,\n",
       "         '美搭': 2712})"
      ]
     },
     "execution_count": 47,
     "metadata": {},
     "output_type": "execute_result"
    }
   ],
   "source": [
    "Counter([c for _,c,_ in hd_articles])"
   ]
  },
  {
   "cell_type": "code",
   "execution_count": 48,
   "metadata": {
    "collapsed": false,
    "deletable": true,
    "editable": true
   },
   "outputs": [
    {
     "name": "stderr",
     "output_type": "stream",
     "text": [
      "100%|██████████| 28362/28362 [00:00<00:00, 48949.42it/s]\n"
     ]
    }
   ],
   "source": [
    "texts = []\n",
    "for _,c,content in tqdm(hd_articles):\n",
    "    text = []\n",
    "    for i,item in enumerate(content):\n",
    "        if i == 1:\n",
    "            continue\n",
    "        if item['type'] == 'para' and item['value'] != '去购买' and 'securityUtil.unescapeHtml' not in item['value']:\n",
    "            text.append(item['value'])\n",
    "    texts.append((c,\"\\n\".join(text)))"
   ]
  },
  {
   "cell_type": "code",
   "execution_count": 49,
   "metadata": {
    "collapsed": false
   },
   "outputs": [
    {
     "data": {
      "text/plain": [
       "('手机',\n",
       " '有种“红包怪”，组队一起刷经验才多\\n有人说：\\n有红包的地方，就有江湖。\\n江湖在哪？\\n人多的地方！\\n单人抢红包已经out了，组团组队去刷，才有更多的经验值！哦，不对，是红包。\\n本铁蛋给大家一个小消息\\n10月25日，总奖池为4000万元的天猫双11“群战队”现金红包上线，淘气值超过600分的“剁手党们”就可以组“双11群战队”进行组团分享红包。\\n看这里\\n在预售会场页面里找这个全民组战队的入口，就有机会瓜分4000万的红包！\\n规则如下：\\n在11月1日开奖前，只要单个双11“群战队”内所有成员的淘气值总和达到相应的要求，且该战队人数≥5人，所有成员即可瓜分相应面额的双11红包奖励。若群战队内的超级会员人数≥3人的，则该战队所有成员可瓜分的红包金额翻倍。\\n另外，从11月1日起，消费者在群战队里还可以充红包PK争夺1000万现金红包，享受超过200家商家提供的总奖池超过2亿的满返红包。\\n红包要散出去，才好玩')"
      ]
     },
     "execution_count": 49,
     "metadata": {},
     "output_type": "execute_result"
    }
   ],
   "source": [
    "texts[0]"
   ]
  },
  {
   "cell_type": "code",
   "execution_count": 50,
   "metadata": {
    "collapsed": false,
    "deletable": true,
    "editable": true
   },
   "outputs": [],
   "source": [
    "words = open('/data/xueyou/fashion/sku/words/fashion.words.1123.txt').read().split('\\n')[:-1]"
   ]
  },
  {
   "cell_type": "code",
   "execution_count": 51,
   "metadata": {
    "collapsed": true,
    "deletable": true,
    "editable": true
   },
   "outputs": [],
   "source": [
    "stop_words = set(open(\"/tmp/stop_words.txt\").read().split(\"\\n\"))"
   ]
  },
  {
   "cell_type": "code",
   "execution_count": 52,
   "metadata": {
    "collapsed": false,
    "deletable": true,
    "editable": true
   },
   "outputs": [
    {
     "name": "stderr",
     "output_type": "stream",
     "text": [
      "Building prefix dict from the default dictionary ...\n",
      "DEBUG:jieba:Building prefix dict from the default dictionary ...\n",
      "Loading model from cache /tmp/jieba.cache\n",
      "DEBUG:jieba:Loading model from cache /tmp/jieba.cache\n",
      "Loading model cost 0.798 seconds.\n",
      "DEBUG:jieba:Loading model cost 0.798 seconds.\n",
      "Prefix dict has been built succesfully.\n",
      "DEBUG:jieba:Prefix dict has been built succesfully.\n"
     ]
    }
   ],
   "source": [
    "import jieba\n",
    "for w in words:\n",
    "    jieba.add_word(w,1000)"
   ]
  },
  {
   "cell_type": "code",
   "execution_count": 53,
   "metadata": {
    "collapsed": true,
    "deletable": true,
    "editable": true
   },
   "outputs": [],
   "source": [
    "import re\n",
    "split_tokens = \"([，。？！?\\n...])\"\n",
    "\n",
    "def simple_split(text):\n",
    "    for item in re.split(split_tokens, text):\n",
    "        if item:\n",
    "            yield item\n",
    "\n",
    "def tokenize_number(text):\n",
    "    return re.sub(\"\\d+\",'0',text)\n",
    "            \n",
    "def get_sentences(content):\n",
    "    tokens = []\n",
    "    for s in simple_split(content.lower()):\n",
    "        s = re.sub(u'[^\\u4e00-\\u9fa50-9a-zA-Z]+','',s)\n",
    "        if s:\n",
    "            sentence = list([w for w in jieba.cut(s) if w not in stop_words])\n",
    "            tokens.extend(sentence)\n",
    "    return tokens"
   ]
  },
  {
   "cell_type": "code",
   "execution_count": 54,
   "metadata": {
    "collapsed": true,
    "deletable": true,
    "editable": true
   },
   "outputs": [],
   "source": [
    "phone_keywords = [ '手机','全面屏', 'ios11', 'iphone', '华为', '摄像头', 'iphone', '新机', 'mate10', '小米', '手机壳', '一加', 'vivox20', '全面屏手机', 'iphone8',\n",
    " '荣耀', '后置', '魅族', '努比亚', 'note8', '锤子', '前置', '旗舰', '指纹识别', '骁龙', '拍照', '视网膜', 'htcu11', '雷军', '金立', '魅蓝', 'vivo', '机型',\n",
    " '像素', '华为 mate10', '这款 手机', 'oppo']"
   ]
  },
  {
   "cell_type": "code",
   "execution_count": 55,
   "metadata": {
    "collapsed": false,
    "deletable": true,
    "editable": true
   },
   "outputs": [
    {
     "name": "stdout",
     "output_type": "stream",
     "text": [
      "warning:NLP backend server not found, use built in functions.\n"
     ]
    }
   ],
   "source": [
    "from simplex.model import KeyWordClassifier"
   ]
  },
  {
   "cell_type": "code",
   "execution_count": 56,
   "metadata": {
    "collapsed": true,
    "deletable": true,
    "editable": true
   },
   "outputs": [],
   "source": [
    "phone_kw = KeyWordClassifier(weighted=False,keywords=phone_keywords)"
   ]
  },
  {
   "cell_type": "code",
   "execution_count": 57,
   "metadata": {
    "collapsed": false,
    "deletable": true,
    "editable": true
   },
   "outputs": [
    {
     "name": "stderr",
     "output_type": "stream",
     "text": [
      "28362it [00:00, 155304.03it/s]\n"
     ]
    }
   ],
   "source": [
    "for i,(c,s) in tqdm(enumerate(texts)):\n",
    "    if c == '手机':\n",
    "        if phone_kw.predict(s,method=1)[0] >= 4.0:\n",
    "            continue\n",
    "        else:\n",
    "            texts[i] = (\"头条\",s)"
   ]
  },
  {
   "cell_type": "code",
   "execution_count": 58,
   "metadata": {
    "collapsed": false,
    "deletable": true,
    "editable": true
   },
   "outputs": [
    {
     "name": "stderr",
     "output_type": "stream",
     "text": [
      "100%|██████████| 28362/28362 [00:48<00:00, 587.13it/s] \n"
     ]
    }
   ],
   "source": [
    "tokenize_articles = []\n",
    "for c,s in tqdm(texts):\n",
    "    if c!='头条' and c!='旅行':\n",
    "        tokens = get_sentences(s)\n",
    "        content = ' '.join(tokens)\n",
    "        tokenize_articles.append((c,content))"
   ]
  },
  {
   "cell_type": "code",
   "execution_count": 59,
   "metadata": {
    "collapsed": false,
    "deletable": true,
    "editable": true
   },
   "outputs": [
    {
     "data": {
      "text/plain": [
       "Counter({'型男': 283,\n",
       "         '头条': 13514,\n",
       "         '居家': 438,\n",
       "         '手机': 2570,\n",
       "         '数码': 2340,\n",
       "         '旅行': 5503,\n",
       "         '母婴': 485,\n",
       "         '美容': 517,\n",
       "         '美搭': 2712})"
      ]
     },
     "execution_count": 59,
     "metadata": {},
     "output_type": "execute_result"
    }
   ],
   "source": [
    "Counter([c for c,_ in texts])"
   ]
  },
  {
   "cell_type": "code",
   "execution_count": 60,
   "metadata": {
    "collapsed": false,
    "deletable": true,
    "editable": true
   },
   "outputs": [
    {
     "name": "stderr",
     "output_type": "stream",
     "text": [
      "100%|██████████| 28362/28362 [00:47<00:00, 600.19it/s] \n"
     ]
    }
   ],
   "source": [
    "tokenize_articles = []\n",
    "for c,s in tqdm(texts):\n",
    "    if c!='头条' and c!='旅行':\n",
    "        tokens = get_sentences(s)\n",
    "        content = ' '.join(tokens)\n",
    "        tokenize_articles.append((c,content))"
   ]
  },
  {
   "cell_type": "code",
   "execution_count": 61,
   "metadata": {
    "collapsed": false,
    "deletable": true,
    "editable": true
   },
   "outputs": [
    {
     "data": {
      "text/plain": [
       "('手机',\n",
       " '开售 秒 光 高颜值 努比亚 z17s 受欢迎 努比亚 本月 发布 全面屏 2 1 手机 努比亚 z17s 无 边框 全面屏 四摄 光环 加持 下 z17s 首销 网友们 直接 秒 光 今天上午 努比亚 再次 开放 购买 z17s 很快 宣告 售罄 这款 z17s 为啥 会 引起 消费者 高昂 购买 欲望 答案 很 简单 出色 性能 极高 颜值 都 使 鹤立鸡群 骁龙 835 平台 6gb 运存 最 亮眼 屏幕 设计 得益于 无 边框 全面屏 设计 该机 屏 占比 达到 惊人 90 36 全面屏手机 中 独一无二 努比亚 z17s 摄像头 实力 非常 强劲 后置 双 1200 万 像素 摄像头 f1 8 大 光圈 配合 智能 降噪 功能 夜拍 效果 同样 清晰 自主研发 neovision7 0 摄像 引擎 全面 升级 全新 ai 人像 2 0 具有 面部 识别 面部 记忆 智能 边缘 处理 背景 虚化 3d 智能 美颜 像素 级 肤质 增强 技术 人 拍摄 一拍 美 越 拍 越 美 首次 手机 实现 多点 对焦 功能 拥有 25 独立 焦点 摆脱 传统 手机 拍照 对焦 时 常常 出现 对焦 慢失 焦 焦点 错误 问题 强劲 性能 极高 颜值 出众 拍照 之外 努比亚 z17s 2999 元起 售价 相比 全面屏手机 来说 性价比 可谓 相当 出众 颜有 谱 还 不贵 手机 卖 不好 奇怪 没有 买到 朋友 11 月初 z17s 下 一轮 开售 千万 不要错过')"
      ]
     },
     "execution_count": 61,
     "metadata": {},
     "output_type": "execute_result"
    }
   ],
   "source": [
    "tokenize_articles[10]"
   ]
  },
  {
   "cell_type": "code",
   "execution_count": 19,
   "metadata": {
    "collapsed": false,
    "deletable": true,
    "editable": true
   },
   "outputs": [
    {
     "data": {
      "text/plain": [
       "9345"
      ]
     },
     "execution_count": 19,
     "metadata": {},
     "output_type": "execute_result"
    }
   ],
   "source": [
    "len(tokenize_articles)"
   ]
  },
  {
   "cell_type": "code",
   "execution_count": 62,
   "metadata": {
    "collapsed": false,
    "deletable": true,
    "editable": true
   },
   "outputs": [
    {
     "name": "stderr",
     "output_type": "stream",
     "text": [
      "2326it [00:15, 146.99it/s]"
     ]
    }
   ],
   "source": [
    "others = []\n",
    "with open(\"/data/xueyou/fashion/sku/weixin_content_2017_10/000000_0\") as f:\n",
    "    for line in tqdm(f):\n",
    "        content = line.strip().split(\"\\x01\")[1]\n",
    "        if len(content) > 100:\n",
    "            others.append(('其他',\" \".join([w for w in get_sentences(content)])))\n",
    "        if len(others) == 2000:\n",
    "            break"
   ]
  },
  {
   "cell_type": "code",
   "execution_count": 63,
   "metadata": {
    "collapsed": false,
    "deletable": true,
    "editable": true
   },
   "outputs": [
    {
     "data": {
      "text/plain": [
       "('其他',\n",
       " '不 小心 转错 帐 撤回 微信 十大 新 功能 一定 没用过 20170929 法制晚报 法制晚报 讲真 有时候 真的 很 不能 理解 app 老是 出新 版本 更新 完 一点 差别 感受 不到 可能 还 更 不好 国民 app 微信 似乎 不声不响 新 功能 快来看 看 01 设置 延迟 账 好消息 微信 设置 延迟 账 意味着 不 小心 转错 帐 撤回 不 小心 转错 以下 步骤 追回来 1 进入 微信 钱包 2 再 点击 右上角 三个 小 点点 3 点击 支付 管理 4 点击 转账 账 时间 需要 选择 账 时间 5 对方 打开 红包 更 大额 转账 钱 却 进不了 账户 通常 会 得到 以下 界面 钱 未 进账 联系 微信 客服 这笔 资金 追回来 一定 记住 号码 95017 这是 微信 负责 解答 支付 问题 人工 客服 专线 拨通 后 提示 选择 微信 支付 个人 业务 微信 支付 企业 业务 财富 通 业务 接下来 直接 人工 客服 反映 情况 资金 尽快 追回 02 直接 图片 上加 文字 功能 意味着 随时随地 做 表情包 不用 再 保存 下来 app 弄 朋友圈 微信 群里 图片 都 长 进入 编辑 界面 具体操作 参照 以下 动图 03 图片 上 画画 写字 还 图片 上 画画 加 马赛克 都 非常 方便 觉得 图片 留白 太 完全 画画 填满 展示 艺术 天分 天马行空 风格 定 04 识别 谣言 想要 甄别 浏览 信息 是否 属实 只 需要 微信 页面 最 顶端 搜索 栏 搜索 谣言 过滤器 添加 添加 成功 后 公众号 发送 疑虑 信息 文字 鉴别 真是假 输入 关键字 西瓜 搜一 搜 即可 轻松 辨别 从此 远离 谣言 困扰 近期 阅读 转发 文章 里 第三方 进行 辟谣 会 收到 来自 微信 辟谣 小 助手 发送给 辟谣 提醒 还 查看 手 辟谣 提醒 整体 情况 05 领过 红包 会 变色 当群里 发红包 每个 都 点 怕麻烦 可能 错过 下 红包 随机 怕 错过 有点 不 方便 现在 无论是 个人 聊天 群聊 对话 抢 红包 颜色 都 会 变浅 提示 红包 已 领取 超 方便 有木有 06 查 手机号 归属 微信 越来越 6 都 查 号码 归属 微信 首页 最 上方 搜索 栏中 输入 电话号码 即可 查询 07 查 航班 同样 首页 搜索 栏中 输入 航班号 出发地 目的地 快捷 查询 航班信息 还会 出现 相关 文章 08 查 股票 搜索 栏中 只 需 输入 股票代码 名称 直接 看到 最新 股价 玩 股票 小伙伴 随时随地 查 股票 09 某条 朋友圈 互动 不再 提示 点 za n 评论 某条 朋友圈 时 共同 好友 点 za n 评论 时 会 通知 其实 真的 觉得 很 烦躁 不想 收到 提示 好 现在 终于 功能 不想 收到 大量 提醒 ios 用户 这条 消息 左 刮 选择 不再 通知 安卓 用户 长 提醒 选择 不再 通知 终于 愉快 做 点 za n 之交 10 查 汇率 搜索 栏 输入 数字 币种 输入 币种 关键词 直接 得到 换算 购物 先 看看 汇率 看 有没有 买贵 方便 实用 微信 还 出 一款 教会 爸妈 玩 微信 小程序 你造吗 之后 教会 爸妈 微信 上加 好友 发 表情包 打字 发 语音 发 照片 视频 语音 通话 任务 交给 微信 使用 小 助手 小程序 毕竟 身边 手把手 教学 还好 不 身边 远程 指导 操作 简直 不要 太坑 目前 小 助手 共 提供 11 教程 包括 加 好友 调整 字体 发送 图片 发 语音 视频 语音 通话 发 表情包 主要 微信 基础 沟通 功能 为主 父母 最 常用 几个 功能 每个 教程 还 含有 12 分钟 短 视频 示范 详细 分 步骤 图文 说明 小视频 图文 说明 关键步骤 会 突出 演示 有木有 觉得 小程序 很 贴心 吶 照顾 爸爸妈妈 微信 多新 功能 几个 来源 深圳 潮 生活 新 媒体 编辑 张禹')"
      ]
     },
     "execution_count": 63,
     "metadata": {},
     "output_type": "execute_result"
    },
    {
     "name": "stderr",
     "output_type": "stream",
     "text": [
      "\r",
      "2326it [00:30, 77.43it/s] "
     ]
    }
   ],
   "source": [
    "others[10]"
   ]
  },
  {
   "cell_type": "code",
   "execution_count": 64,
   "metadata": {
    "collapsed": true,
    "deletable": true,
    "editable": true
   },
   "outputs": [],
   "source": [
    "tokenize_articles.extend(others)"
   ]
  },
  {
   "cell_type": "code",
   "execution_count": 67,
   "metadata": {
    "collapsed": true,
    "deletable": true,
    "editable": true
   },
   "outputs": [],
   "source": [
    "tags,articles = zip(*tokenize_articles)"
   ]
  },
  {
   "cell_type": "code",
   "execution_count": 74,
   "metadata": {
    "collapsed": false,
    "deletable": true,
    "editable": true
   },
   "outputs": [],
   "source": [
    "from sklearn import model_selection\n",
    "X_train,X_test,Y_train,Y_test = model_selection.train_test_split(articles,tags,test_size=0.1,random_state=18)"
   ]
  },
  {
   "cell_type": "code",
   "execution_count": 77,
   "metadata": {
    "collapsed": false
   },
   "outputs": [
    {
     "data": {
      "text/plain": [
       "list"
      ]
     },
     "execution_count": 77,
     "metadata": {},
     "output_type": "execute_result"
    }
   ],
   "source": [
    "type(X_train)"
   ]
  },
  {
   "cell_type": "code",
   "execution_count": 26,
   "metadata": {
    "collapsed": true,
    "deletable": true,
    "editable": true
   },
   "outputs": [],
   "source": [
    "from sklearn.pipeline import Pipeline\n",
    "from sklearn.linear_model import SGDClassifier\n",
    "from sklearn.svm import SVC\n",
    "from sklearn.feature_extraction.text import CountVectorizer\n",
    "from sklearn.feature_extraction.text import TfidfTransformer\n",
    "from sklearn.multiclass import OneVsRestClassifier\n",
    "from sklearn.neighbors import KNeighborsClassifier\n",
    "from sklearn.ensemble import GradientBoostingClassifier"
   ]
  },
  {
   "cell_type": "code",
   "execution_count": 27,
   "metadata": {
    "collapsed": false,
    "deletable": true,
    "editable": true
   },
   "outputs": [],
   "source": [
    "text_process = Pipeline([('vect', CountVectorizer()),\n",
    "                      ('tfidf', TfidfTransformer()),])"
   ]
  },
  {
   "cell_type": "code",
   "execution_count": 28,
   "metadata": {
    "collapsed": false,
    "deletable": true,
    "editable": true
   },
   "outputs": [],
   "source": [
    "import numpy as np"
   ]
  },
  {
   "cell_type": "code",
   "execution_count": 42,
   "metadata": {
    "collapsed": false,
    "deletable": true,
    "editable": true
   },
   "outputs": [
    {
     "data": {
      "text/plain": [
       "0.93920704845814973"
      ]
     },
     "execution_count": 42,
     "metadata": {},
     "output_type": "execute_result"
    }
   ],
   "source": [
    "text_clf = Pipeline([('vect', CountVectorizer(ngram_range=(1,2),max_df=0.6,min_df=5)),\n",
    "                      ('tfidf', TfidfTransformer()),\n",
    "                      ('clf', SGDClassifier(loss='log', penalty='l2',\n",
    "                                            alpha=1e-5, max_iter=15, random_state=52)),\n",
    " ])\n",
    "_ = text_clf.fit(X_train, Y_train)\n",
    "predicted = text_clf.predict(X_test)\n",
    "np.mean(predicted == Y_test)  "
   ]
  },
  {
   "cell_type": "code",
   "execution_count": 43,
   "metadata": {
    "collapsed": false,
    "deletable": true,
    "editable": true
   },
   "outputs": [
    {
     "name": "stdout",
     "output_type": "stream",
     "text": [
      "             precision    recall  f1-score   support\n",
      "\n",
      "         其他      0.890     0.899     0.895       189\n",
      "         型男      1.000     0.903     0.949        31\n",
      "         居家      0.921     0.875     0.897        40\n",
      "         手机      0.958     0.958     0.958       261\n",
      "         数码      0.949     0.931     0.940       259\n",
      "         母婴      0.854     0.911     0.882        45\n",
      "         美容      0.855     0.952     0.901        62\n",
      "         美搭      0.984     0.976     0.980       248\n",
      "\n",
      "avg / total      0.940     0.939     0.939      1135\n",
      "\n"
     ]
    }
   ],
   "source": [
    "from sklearn import metrics\n",
    "print(metrics.classification_report(Y_test, predicted,digits=3))"
   ]
  },
  {
   "cell_type": "code",
   "execution_count": 32,
   "metadata": {
    "collapsed": false,
    "deletable": true,
    "editable": true
   },
   "outputs": [],
   "source": [
    "test = \" \".join([w for w in get_sentences(texts[12114][1])])"
   ]
  },
  {
   "cell_type": "code",
   "execution_count": 33,
   "metadata": {
    "collapsed": false,
    "deletable": true,
    "editable": true
   },
   "outputs": [
    {
     "data": {
      "text/plain": [
       "array(['其他', '型男', '居家', '手机', '数码', '母婴', '美容', '美搭'],\n",
       "      dtype='<U2')"
      ]
     },
     "execution_count": 33,
     "metadata": {},
     "output_type": "execute_result"
    }
   ],
   "source": [
    "text_clf.classes_"
   ]
  },
  {
   "cell_type": "code",
   "execution_count": 35,
   "metadata": {
    "collapsed": false,
    "deletable": true,
    "editable": true
   },
   "outputs": [
    {
     "data": {
      "text/plain": [
       "array(['居家'],\n",
       "      dtype='<U2')"
      ]
     },
     "execution_count": 35,
     "metadata": {},
     "output_type": "execute_result"
    }
   ],
   "source": [
    "text_clf.predict([test])"
   ]
  },
  {
   "cell_type": "code",
   "execution_count": 96,
   "metadata": {
    "collapsed": false,
    "deletable": true,
    "editable": true
   },
   "outputs": [
    {
     "name": "stdout",
     "output_type": "stream",
     "text": [
      "校园风最in搭配！不要问我为什么这么好看！\n",
      "校园风很简单，充满了学院的气息，也充满了小清新，如果校园里的你，还在苦恼着不知道这么搭配出自己个性的衣服，那么就让小美来支招吧，这次我们来试试毛衣+阔腿裤吧，简单的两款单品，更符合校园风的气息，也更适合青春活泼，同时明亮照人的你哦。\n",
      "圆领套头毛衣\n",
      "清新的、简单的、学院的、青春的，是的，简单的学院气息从衣衣上的小撞色线条就可以充分体现了，下身搭配毛呢直筒的阔腿裤，十足十的学院满分妹纸呀，搭配要简单更是要走心好看！\n",
      "毛呢阔腿裤\n",
      "炒鸡舒适，版型也十分修身的一款阔腿裤，就算是“标准”的腰细胯宽腿粗的东方人体型，也能穿得修身好看哦，上身和红色的毛衣搭配吧，即将到来的新年，就要这样红红亮亮又学院地去迎接呀。\n",
      "开衫毛衣外套\n",
      "外套不需要多么复杂多么浮夸，简单随意，却又充斥着学院气息的毛衣开衫外套，似乎就已经足够了呢。外套内搭衬衣，下身再配上一款西装高腰的阔腿裤，个性的自我，个性的学院风！\n",
      "西装高腰阔腿裤\n",
      "时尚很简单吧，把搭配做好，就能成为最in的校园女神了呀。这款特色的西装款高腰阔腿裤，天气冷的时候就算在里面穿上厚厚的打底袜也不怕把裤子撑起来哦，搭配简单纯色的毛衣即可学院最in啦！\n",
      "高领套头毛衣\n",
      "高领的套头毛衣真的是显气质最直接的单品了，暖到脖子，也暖到心里！冬季的旋律总是带来学院的气息，毕竟学院风也是青春的代表呀，搭配一条吊带阔腿裤吧，你的学院是该来得独特俏皮些！\n",
      "格子毛呢吊带阔腿裤\n",
      "格子的魅力在学院风里更是无所遁形呀，是时候该得意洋洋地出去自我的学院专属风格了，内搭简单的白色或者是黑色的套头毛衣就行，理由很简单：学院风是简单的，更是百搭耐看的！\n",
      "撞色套头毛衣\n",
      "大爱冬季的慵懒，懒懒的心情懒懒的一天，就从套上这款新鲜分明的撞色套头毛衣开始吧，衣服上的撞色明显得很高调呀，学院的气息也是时候来点声色的张扬了，搭配毛呢阔腿裤吧，冬季暖和又chic！\n",
      "加厚棉质阔腿裤\n",
      "谁说复古风不能和学院风融合呢，这款复古版型的阔腿裤来抗议啦。毛呢料十分充实，穿起来暖和不怕冻人！学院气息的小张扬就从搭配撞色亮色系的毛衣上来点亮吧，真的超级chic好看的呢！\n",
      "喇叭袖打底毛衣\n",
      "别总是局限了自己的风格，妹纸们，学院气息里也要加点甜美的味道才能更吸引眼球呀。冬天的搭配要简单更是要时髦，那就搭配上一挑针织的阔腿裤吧，针织的厚实，针织的时髦，从你这里，绽放！\n",
      "加厚针织阔腿裤\n",
      "学院风是不挑人的吗，也许会挑人，但是这款宽松的阔题裤，真的不挑，而且是胖妹纸穿起来也不显胖的那种！松紧腰弹性十足，颜色简洁大方，搭配浅色系的半高领毛衣就能气质非凡！\n",
      "最In的搭配要的就是这么简单，穿好你的毛衣+阔腿裤吧，让你的学院气质100分！\n"
     ]
    }
   ],
   "source": [
    "for c,t in texts:\n",
    "    if c == '美搭':\n",
    "        print(t)\n",
    "        break"
   ]
  },
  {
   "cell_type": "code",
   "execution_count": 49,
   "metadata": {
    "collapsed": true,
    "deletable": true,
    "editable": true
   },
   "outputs": [],
   "source": [
    "def tokenize_article(s):\n",
    "    return \" \".join([w for w in get_sentences(s)])"
   ]
  },
  {
   "cell_type": "code",
   "execution_count": 59,
   "metadata": {
    "collapsed": false,
    "deletable": true,
    "editable": true,
    "scrolled": true
   },
   "outputs": [
    {
     "name": "stderr",
     "output_type": "stream",
     "text": [
      "100%|██████████| 28362/28362 [02:45<00:00, 171.43it/s]\n"
     ]
    }
   ],
   "source": [
    "more_txts = []\n",
    "count = Counter()\n",
    "for c,text in tqdm(texts):\n",
    "    if c == '头条' or c == '旅行':\n",
    "        text = tokenize_article(text)\n",
    "        label = text_clf.predict([text])[0]\n",
    "        count[label] += 1\n",
    "        more_txts.append((label,text))"
   ]
  },
  {
   "cell_type": "code",
   "execution_count": 60,
   "metadata": {
    "collapsed": true,
    "deletable": true,
    "editable": true
   },
   "outputs": [],
   "source": [
    "ml,mt = zip(*more_txts)"
   ]
  },
  {
   "cell_type": "code",
   "execution_count": 66,
   "metadata": {
    "collapsed": false,
    "deletable": true,
    "editable": true
   },
   "outputs": [],
   "source": [
    "X_train_more = X_train + list(mt)"
   ]
  },
  {
   "cell_type": "code",
   "execution_count": 67,
   "metadata": {
    "collapsed": true,
    "deletable": true,
    "editable": true
   },
   "outputs": [],
   "source": [
    "Y_train_more = Y_train + list(ml)"
   ]
  },
  {
   "cell_type": "code",
   "execution_count": 68,
   "metadata": {
    "collapsed": false,
    "deletable": true,
    "editable": true
   },
   "outputs": [
    {
     "data": {
      "text/plain": [
       "0.93656387665198237"
      ]
     },
     "execution_count": 68,
     "metadata": {},
     "output_type": "execute_result"
    }
   ],
   "source": [
    "text_clf_v2 = Pipeline([('vect', CountVectorizer(ngram_range=(1,2),max_df=0.6,min_df=5)),\n",
    "                      ('tfidf', TfidfTransformer()),\n",
    "                      ('clf', SGDClassifier(loss='log', penalty='l2',\n",
    "                                            alpha=1e-5, max_iter=15, random_state=52)),\n",
    " ])\n",
    "_ = text_clf_v2.fit(X_train_more, Y_train_more)\n",
    "predicted = text_clf_v2.predict(X_test)\n",
    "np.mean(predicted == Y_test)"
   ]
  },
  {
   "cell_type": "code",
   "execution_count": 69,
   "metadata": {
    "collapsed": false,
    "deletable": true,
    "editable": true
   },
   "outputs": [
    {
     "name": "stdout",
     "output_type": "stream",
     "text": [
      "             precision    recall  f1-score   support\n",
      "\n",
      "         其他      0.895     0.899     0.897       189\n",
      "         型男      1.000     0.871     0.931        31\n",
      "         居家      0.921     0.875     0.897        40\n",
      "         手机      0.944     0.966     0.955       261\n",
      "         数码      0.952     0.919     0.935       259\n",
      "         母婴      0.854     0.911     0.882        45\n",
      "         美容      0.841     0.935     0.885        62\n",
      "         美搭      0.984     0.976     0.980       248\n",
      "\n",
      "avg / total      0.938     0.937     0.937      1135\n",
      "\n"
     ]
    }
   ],
   "source": [
    "from sklearn import metrics\n",
    "print(metrics.classification_report(Y_test, predicted,digits=3))"
   ]
  },
  {
   "cell_type": "code",
   "execution_count": 37,
   "metadata": {
    "collapsed": true,
    "deletable": true,
    "editable": true
   },
   "outputs": [],
   "source": [
    "import pickle"
   ]
  },
  {
   "cell_type": "code",
   "execution_count": 59,
   "metadata": {
    "collapsed": false,
    "deletable": true,
    "editable": true,
    "scrolled": false
   },
   "outputs": [],
   "source": [
    "fashion_web_articles = pickle.load(open('/data/xueyou/fashion/sku/articles/fashion_web_articles.1122.pkl','rb'))"
   ]
  },
  {
   "cell_type": "code",
   "execution_count": 60,
   "metadata": {
    "collapsed": false,
    "deletable": true,
    "editable": true
   },
   "outputs": [
    {
     "data": {
      "text/plain": [
       "98695"
      ]
     },
     "execution_count": 60,
     "metadata": {},
     "output_type": "execute_result"
    }
   ],
   "source": [
    "len(fashion_web_articles)"
   ]
  },
  {
   "cell_type": "code",
   "execution_count": 61,
   "metadata": {
    "collapsed": false,
    "deletable": true,
    "editable": true
   },
   "outputs": [
    {
     "data": {
      "text/plain": [
       "{'content': '  都说最美的风景是在路上  对于喜欢旅行又要美美美的人来说  最抓狂的问题估计就是—— 穿什么拍照才上镜？！ 额…要是一不小心穿成这样 那就算十级PS都救不了你啊！   那到底要穿什么拍照好呢？ 下面，M小美就和大家聊聊 穿衣拍照好看的几个关键点 ↓↓↓  关键词1：色彩  平时穿搭，我们会更多的考虑衣服款式、设计等细节，但在照片中，给人视觉冲击最大的是衣服的颜色。所以，在旅行拍照里，我们需要重点把握的一点就是色彩搭配。   1.相近色  相近色就是在色彩环里左右相邻比较相近的颜色。 当我们穿的衣服和所处环境颜色相近的时候，拍出来的照片在色调上会相对干净，给人一种和谐、高逼格的感觉。   比如去海边旅行的时候，穿蓝、白色的衣服，正好和蓝天、大海、沙滩颜色相近，整体视觉就十分有美感。   2.对比色  对比色又称为互补色，指的是在色相环中呈180°分布的两种相对的颜色。 对比色能够给人一种强烈的视觉冲击。在旅行拍照的时候，如果你穿的衣服颜色和环境主体颜色形成了对比色，那在照片中你就是焦点啊！   在俄罗斯博主Ninelly的旅行照中，就经常运用到对比色的搭配手法。不管是橘色的裙子配蓝色的天，还是亮眼的红裙配绿色的山地，都能让人眼前一亮。   背景杂色→衣服低调配色  有时候环境就自带多种颜色，这时如果穿得太过colorful的话，很容易被背景色”吃掉“。  这种情况下，建议要么沿用背景其中一种颜色作为服装颜色，要么就尽量穿低调些的配色，如黑色、白色。   关键词2：画风  如果你硬是要穿着东北大棉裤走在法国浪漫的街道上，那……等着哭吧~  拍照除了衣服颜色好看之外，还要关注衣服搭配尽量协调环境的画风。   比如，在一些清新文艺的建筑、小街巷子，可以选择色彩饱和度低一些的简洁款连衣裙。   在满世界撒欢的旅行博主Debi Flügge的INS上，蓝天、白云、沙滩出镜率特别高，而她选择的裙子一般是淡雅的白色、浅蓝色连衣裙。   朋友圈摄影的佼佼者Nicole Warne，穿一身印花红裙，搭配红鞋，坐在满满复古气息的街边小酒馆里，瞬间成了这座城市一道靓丽的风景线。   关键词3：款式  在拍照时候，选择一些比较容易出效果的款式，能够让你在朋友圈摄影大赛中加不少分噢。   像一字肩、吊带款、长裙，阔腿裤等都是自带亮点的款式，上镜效果都是不错的。   悉尼当红博主Jessica Stein在旅行拍照时就大爱飘逸的长裙。   长裙修饰身材，而且裙角飘起来的时候，有一种自带特效的感觉。   没风裙子飘不起来怎么办？穿侧面开叉的长裙啊！穿开叉的长裙，走路的时候裙角就能飘起来了，你还担心照片效果不好看么？   关键词4：配饰  什么？你的衣服都是基础款？莫慌，基础款想要拍照效果好看，可以借助一些设计特别的配饰。   比如，各种富有设计感的耳饰。    童谣虽然只是穿了一件简单的白T恤，但是街拍的时候，照片效果依然杠杆滴，这其中少不了长款耳饰的功劳。   下面这位博主蓝色的短发朋克风十足，搭配上三角形硬朗的蓝色耳饰，一头的蓝，帅气又明朗，不用太多表情和pose，拍出来的照片就已经很抢眼了！   另外，好看的帽子也能成为照片的加分项。   即使是”群拍“，一顶好看的帽子，就能让你在一群人中脱颖而出，成为照片的焦点。   帽子拿着也是好看的！   在拍特写照片的时候，合适的帽子还能显脸小噢，像baby这种高顶的帽子戴上会让脸变长，变小。   或许你还可以像Aimee Song这样拿一个好看的包包。   在拍照的时候，有时候我们会因为不知道摆什么pose而显得尴尬。而拿包包的动作就能化解这一尴尬，让你看起来更加自然。   当然，想要上镜的话，包包的款式得选择比较特别、精致的款式。   除了包包以外，项圈、腰带、丝巾等也能成为拍照上镜的”好帮手“！   穿错了，再美的风景也白搭 穿对了，照片才能美瞎眼 关于拍照的穿衣搭配就分享到这里啦 希望M小美的分享能给大家带来灵感 让你们人和照片都美美哒~  ',\n",
       " 'headline': '拍照衣服穿错了，十级PS都救不了你！学时尚icon这么穿，上镜指数瞬间爆表！',\n",
       " 'id': 'SeeAPP/3565217910_2247484154_4'}"
      ]
     },
     "execution_count": 61,
     "metadata": {},
     "output_type": "execute_result"
    }
   ],
   "source": [
    "fashion_web_articles[43825]"
   ]
  },
  {
   "cell_type": "code",
   "execution_count": 140,
   "metadata": {
    "collapsed": true,
    "deletable": true,
    "editable": true
   },
   "outputs": [],
   "source": [
    "content = '''这款深蓝色色调的卫衣上衣搭配浅蓝色衬衣点缀轻松打造出假两件的感觉尽显休闲个性感，搭配身下的白色修身喇叭裤更是吸睛，搭配起来轻松起范儿。\n",
    "\n",
    "上衣穿在身上轻松显休闲魅力，宽松的版型穿在身上舒适轻松，搭配深蓝色色调更显低调内涵气质，修饰肌肤更显白皙透亮。\n",
    "\n",
    "袖口采用系带收紧的设计随着手臂的摆动更显优雅魅力，浅蓝色衬衣袖子点缀搭配更显个性有型，修饰手臂线条更显纤细修长。\n",
    "\n",
    "衣摆处同样采用浅蓝色牛仔点缀，圆弧型的设计修饰身材更显修长身姿，宽松的版型搭配身下的修身牛仔裤显瘦效果十足。\n",
    "\n",
    "身下的白色牛仔裤穿在身上更显优雅魅力感，上衣深色色调搭配下衣浅色色调更显舒适吸睛，搭配起来合适极了，膝盖以下小腿处喇叭裤裤型的点缀更显优雅魅力。\n",
    "\n",
    "九分裤裤长露出纤细的脚踝线条，搭配毛边的裤腿更显时尚个性，脚下的黑色尖头皮质鞋子更显个性吸睛，整个搭配时尚新潮极了。\n",
    "\n",
    "声明：图片由编辑江小鱼整编而来，文：编辑闪闪原创内容主编M君审核，内容未经允许请勿转载抄袭必究\n",
    "\n",
    "本文为一点号作者原创，未经授权不得转载'''"
   ]
  },
  {
   "cell_type": "code",
   "execution_count": 141,
   "metadata": {
    "collapsed": true,
    "deletable": true,
    "editable": true
   },
   "outputs": [],
   "source": [
    "text = tokenize_article(content)"
   ]
  },
  {
   "cell_type": "code",
   "execution_count": 142,
   "metadata": {
    "collapsed": false,
    "deletable": true,
    "editable": true
   },
   "outputs": [
    {
     "data": {
      "text/plain": [
       "array(['其他', '型男', '居家', '手机', '数码', '母婴', '美容', '美搭'],\n",
       "      dtype='<U2')"
      ]
     },
     "execution_count": 142,
     "metadata": {},
     "output_type": "execute_result"
    }
   ],
   "source": [
    "text_clf.classes_"
   ]
  },
  {
   "cell_type": "code",
   "execution_count": 143,
   "metadata": {
    "collapsed": false,
    "deletable": true,
    "editable": true
   },
   "outputs": [
    {
     "data": {
      "text/plain": [
       "array([[ 0.07105354,  0.02560803,  0.00461678,  0.00778984,  0.01007956,\n",
       "         0.00584711,  0.01190475,  0.86310039]])"
      ]
     },
     "execution_count": 143,
     "metadata": {},
     "output_type": "execute_result"
    }
   ],
   "source": [
    "text_clf.predict_proba([text])"
   ]
  },
  {
   "cell_type": "code",
   "execution_count": 144,
   "metadata": {
    "collapsed": false,
    "deletable": true,
    "editable": true
   },
   "outputs": [
    {
     "data": {
      "text/plain": [
       "array(['美搭'],\n",
       "      dtype='<U2')"
      ]
     },
     "execution_count": 144,
     "metadata": {},
     "output_type": "execute_result"
    }
   ],
   "source": [
    "text_clf.predict([text])"
   ]
  },
  {
   "cell_type": "code",
   "execution_count": 94,
   "metadata": {
    "collapsed": false,
    "deletable": true,
    "editable": true,
    "scrolled": true
   },
   "outputs": [
    {
     "name": "stderr",
     "output_type": "stream",
     "text": [
      "100%|██████████| 1000/1000 [00:07<00:00, 126.60it/s]\n"
     ]
    }
   ],
   "source": [
    "fashion_web_filter = []\n",
    "for item in tqdm(fashion_web_articles[:1000]):\n",
    "    content = item['content']\n",
    "    if len(content) > 100:\n",
    "        text = tokenize_article(content)\n",
    "        label = text_clf.predict_proba([text])[0][-1]\n",
    "        if label >= 0.3:\n",
    "            fashion_web_filter.append((label,item))"
   ]
  },
  {
   "cell_type": "code",
   "execution_count": 92,
   "metadata": {
    "collapsed": false,
    "deletable": true,
    "editable": true
   },
   "outputs": [
    {
     "data": {
      "text/plain": [
       "42"
      ]
     },
     "execution_count": 92,
     "metadata": {},
     "output_type": "execute_result"
    }
   ],
   "source": [
    "len(fashion_web_filter)"
   ]
  },
  {
   "cell_type": "code",
   "execution_count": 83,
   "metadata": {
    "collapsed": false,
    "deletable": true,
    "editable": true
   },
   "outputs": [
    {
     "data": {
      "text/plain": [
       "4762"
      ]
     },
     "execution_count": 83,
     "metadata": {},
     "output_type": "execute_result"
    }
   ],
   "source": [
    "sum([label=='美搭' for label,_ in fashion_web_filter])"
   ]
  },
  {
   "cell_type": "code",
   "execution_count": 102,
   "metadata": {
    "collapsed": false,
    "deletable": true,
    "editable": true
   },
   "outputs": [
    {
     "name": "stderr",
     "output_type": "stream",
     "text": [
      "20960it [02:43, 128.30it/s]\n"
     ]
    }
   ],
   "source": [
    "wx = []\n",
    "with open(\"/data/xueyou/fashion/sku/weixin_content_2017_10/000000_0\") as f:\n",
    "    for line in tqdm(f):\n",
    "        content = line.strip().split(\"\\x01\")[1]\n",
    "        if len(content) > 100:\n",
    "            content = tokenize_article(content)\n",
    "            label = text_clf.predict_proba([content])[0][-1]\n",
    "            if label >= 0.3:\n",
    "                wx.append((label,line.strip()))"
   ]
  },
  {
   "cell_type": "code",
   "execution_count": 103,
   "metadata": {
    "collapsed": false,
    "deletable": true,
    "editable": true
   },
   "outputs": [
    {
     "data": {
      "text/plain": [
       "92"
      ]
     },
     "execution_count": 103,
     "metadata": {},
     "output_type": "execute_result"
    }
   ],
   "source": [
    "len(wx)"
   ]
  },
  {
   "cell_type": "code",
   "execution_count": 145,
   "metadata": {
    "collapsed": false,
    "deletable": true,
    "editable": true
   },
   "outputs": [
    {
     "data": {
      "text/plain": [
       "array(['其他', '型男', '居家', '手机', '数码', '母婴', '美容', '美搭'],\n",
       "      dtype='<U2')"
      ]
     },
     "execution_count": 145,
     "metadata": {},
     "output_type": "execute_result"
    }
   ],
   "source": [
    "text_clf.classes_"
   ]
  },
  {
   "cell_type": "code",
   "execution_count": 44,
   "metadata": {
    "collapsed": false,
    "deletable": true,
    "editable": true
   },
   "outputs": [],
   "source": [
    "vectorizer = text_clf.steps[0][1]"
   ]
  },
  {
   "cell_type": "code",
   "execution_count": 109,
   "metadata": {
    "collapsed": false,
    "deletable": true,
    "editable": true
   },
   "outputs": [],
   "source": [
    "features = vectorizer.get_feature_names()"
   ]
  },
  {
   "cell_type": "code",
   "execution_count": 110,
   "metadata": {
    "collapsed": false,
    "deletable": true,
    "editable": true
   },
   "outputs": [
    {
     "data": {
      "text/plain": [
       "(8, 115344)"
      ]
     },
     "execution_count": 110,
     "metadata": {},
     "output_type": "execute_result"
    }
   ],
   "source": [
    "text_clf.steps[2][1].coef_.shape"
   ]
  },
  {
   "cell_type": "code",
   "execution_count": 111,
   "metadata": {
    "collapsed": false,
    "deletable": true,
    "editable": true
   },
   "outputs": [
    {
     "name": "stdout",
     "output_type": "stream",
     "text": [
      "class 其他\n",
      "['原文', '阅读', '阅读 原文', '20170929', '微信', '公众号', '点击', '二维码', '20170928', '原创', '关注', '20170930', '活动', '生活', '20170927', '10', '联系', '国庆', '发动机', '免费', '跑步机', '车型', '一起', '装修', '微信号', '文章', '文化', '车辆', '建设', '秋天', '腾讯', '城市', '十一', 'end', '福利', '朋友圈', '查看', '地址', '发生', '人生', '每日', '互联网', '朋友', '健身', '汽车', '来源', '对方', '最后', '20170926', '车主']\n",
      "class 型男\n",
      "['男士', '男生', '潮男', '男装', '剃须刀', '迷彩', '日系', 'fro', 'fro mm', '潮流', '青年', '发型', '遮瑕', '潮牌', '胡须', '剃须', '休闲', '钱包', '定型', '束脚裤', '之道', '洁面', '头发', '修身', '发蜡', '中国风', 'hm', '男神', '冲锋衣', '夹克', '通关', '洗面奶', '男人', '工装', '控油', '品牌', '男女', '胡子', '情侣', '马丁靴', '水洗', '街头', '男鞋', '毛孔', '瑞士', '布洛克', '复古', '领带', '帅气', '皮肤']\n",
      "class 居家\n",
      "['家用', '收纳', '洗衣机', '台灯', '厨房', '全自动', '家里', '清洁', '三招', '收纳盒', '密封', '空气', '除湿', '电动牙刷', '方便', '水龙头', '不锈钢', '果汁', '冰箱', '椅子', '吸力', '收纳袋', '洗碗机', '智能', '妙用', '置物架', '烤箱', '加热', '多功能', '拖把', '洗碗', '迷你', '果汁机', '首饰盒', '衣服', '衣柜', '吸尘器', '料理', '空调', '恒温', '清洗', '浴室', '电饭煲', '空气净化器', '静音', '毛发', '柠檬', '挂钩', '净化', '除湿机']\n",
      "class 手机\n",
      "['手机', '全面屏', '华为', '摄像头', '小米', '新机', '手机壳', 'mate10', 'iphone', 'iphon ex', 'iphon', '一加', 'vivox20', 'pixel2', '全面屏手机', '旗舰', '拍照', '机型', '魅族', '双十一', '后置', '坚果', '前置', '努比亚', '配置', '锤子', '像素', '骁龙', '魅蓝', '王者荣耀', '诺基亚', 'esim', 'ios11', '指纹识别', '外观', 'iphone8', '屏幕', '荣耀', '配色', 'oppo', '取消', '金立', '双11', '智能手机', '这款 手机', '黑莓', '雷军', 'vivo', '系统', '升级']\n",
      "class 数码\n",
      "['显卡', '设备', '用户', '耳机', '产品', '手表', '笔记本', 'vr', '微软', '硬盘', '相机', '机器人', '接口', '无人机', '电脑', '电视', '支架', '键盘', '显示器', 'windows10', '充电宝', '语音', 'ces', 'dr', '无线', '音箱', '使用', '智能', '进行', 'intel', '鼠标', '打印', 'pa', '亿美元', 'amd', '平板', 'mac', '雷锋', 'app', '蓝牙', '游戏', '路由器', '更新', '报道', '公布', '目前', '公司', '推出', '美元', '显示']\n",
      "class 母婴\n",
      "['产后', '宝宝', '孩子', '儿童', '婆婆', '孕妇', '女童', '郑渊洁', '月子', '妈妈', '玩具', '童装', '婴儿', '宝贝', '孕期', '肥皂', '瑜伽', '童话', '孕妈妈', '产妇', '男童', '水彩笔', '妈咪', '积木', '怀孕', '恢复', '磨牙', '坐月子', '男孩', '奶粉', '加湿器', '莱尔', '奶爸', '生完', '凹槽', '家长', '妻子', '大王', '营养', '早教', '绘本', '书籍', '文具', '肺炎', '妈妈们', '事情', '收腹', '新生儿', '卫生巾', '豆豆']\n",
      "class 美容\n",
      "['香水', '美甲', '脱毛', '指甲油', '纹身', '皮肤', '指甲', '肌肤', '保湿', '发型', '妆容', '口红', '眼妆', '滋润', '持久', '头发', '腮红', '眼线', '美白', '双眼皮', '狐臭', 'st ep', '护手霜', '洗发水', '妹子', '身体乳', '刘海', '手部', '夏日', '发色', '沐浴露', '精油', '甲油', '花束', '痘痘', '试色', '唇膏', 'o型腿', '香氛', '浴盐', '粉扑', '女生', '夏天', '温和', '面膜', '香味', '香皂', '脱毛膏', '死皮', '腋下']\n",
      "class 美搭\n",
      "['显瘦', '新款', '宽松', '2017', '百搭', '胖mm', '时尚', '性感', '包包', '衣服', '女装', '中长款', '气质', '丝袜', '西装', '高腰', '连衣裙', '短款', '裙子', '优雅', '文胸', '睡衣', '内衣', '韩版', '春夏', '韩国', '独自', '单鞋', '穿搭', '女鞋', '手链', '戒指', '挥舞', '职场', '项链', '姑娘', '甜美', '上衣', '双肩包', '刺绣', '打底衫', '袖子', '设计', '珍珠', '平底', 'no', '推荐理由', '女士', '耳环', '单品']\n"
     ]
    }
   ],
   "source": [
    "for i,c in enumerate(text_clf.classes_):\n",
    "    print(\"class\",c,sep=' ')\n",
    "    tops = [features[idx] for idx in np.argsort(text_clf.steps[2][1].coef_[i])[-50:][::-1]]\n",
    "    print(tops,sep=' ')\n",
    "        "
   ]
  },
  {
   "cell_type": "code",
   "execution_count": null,
   "metadata": {
    "collapsed": true,
    "deletable": true,
    "editable": true
   },
   "outputs": [],
   "source": []
  }
 ],
 "metadata": {
  "anaconda-cloud": {},
  "kernelspec": {
   "display_name": "Python [zhuyuheEnv]",
   "language": "python",
   "name": "Python [zhuyuheEnv]"
  },
  "language_info": {
   "codemirror_mode": {
    "name": "ipython",
    "version": 3
   },
   "file_extension": ".py",
   "mimetype": "text/x-python",
   "name": "python",
   "nbconvert_exporter": "python",
   "pygments_lexer": "ipython3",
   "version": "3.6.2"
  }
 },
 "nbformat": 4,
 "nbformat_minor": 2
}

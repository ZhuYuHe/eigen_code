{
 "cells": [
  {
   "cell_type": "code",
   "execution_count": 139,
   "metadata": {
    "collapsed": false,
    "deletable": true,
    "editable": true
   },
   "outputs": [],
   "source": [
    "import eigen_fastText\n",
    "from fastText import load_model\n",
    "from jieba import Tokenizer"
   ]
  },
  {
   "cell_type": "code",
   "execution_count": 46,
   "metadata": {
    "collapsed": true,
    "deletable": true,
    "editable": true
   },
   "outputs": [],
   "source": [
    "class Item(object):\n",
    "    \"\"\"\n",
    "    淘宝商品分类模型\n",
    "    类别包含：\n",
    "    ['__label__全身护理|口腔护理','__label__全身护理|洗发',\n",
    "    \n",
    "     '__label__内衣|保暖内衣', '__label__内衣|女式内裤','__label__内衣|家居', '__label__内衣|情趣内衣', '__label__内衣|文胸',\n",
    "     '__label__内衣|男式内裤','__label__内衣|睡衣','__label__内衣|背心', '__label__内衣|连裤袜',\n",
    "     \n",
    "     '__label__女装|T恤','__label__女装|中老年装','__label__女装|休闲裤','__label__女装|半身裙', '__label__女装|卫衣',\n",
    "     '__label__女装|大码装','__label__女装|大衣', '__label__女装|打底裤','__label__女装|牛仔裤', '__label__女装|羽绒服',\n",
    "     '__label__女装|衬衫','__label__女装|西服', '__label__女装|连衣裙', '__label__女装|针织衫', '__label__女装|风衣', '__label__女装|马甲',\n",
    "     \n",
    "     '__label__女鞋|休闲鞋', '__label__女鞋|凉鞋', '__label__女鞋|单鞋', '__label__女鞋|女靴', '__label__女鞋|高跟鞋',\n",
    "     \n",
    "     '__label__护肤|化妆水/爽肤水', '__label__护肤|洁面', '__label__护肤|眼部护理', '__label__护肤|精华', '__label__护肤|面膜',\n",
    "     '__label__护肤|面霜',\n",
    "     \n",
    "     '__label__男装|POLO衫', '__label__男装|T恤', '__label__男装|休闲裤', '__label__男装|卫衣', '__label__男装|夹克',\n",
    "     '__label__男装|牛仔裤', '__label__男装|短裤', '__label__男装|羽绒服', '__label__男装|衬衫', '__label__男装|针织衫',\n",
    "     \n",
    "     '__label__男鞋|休闲鞋', '__label__男鞋|正装鞋',\n",
    "     \n",
    "     '__label__童装|功能鞋', '__label__童装|单鞋', '__label__童装|运动鞋',\n",
    "     \n",
    "     '__label__运动女鞋|训练鞋', '__label__运动女鞋|跑步鞋', '__label__运动男鞋|篮球鞋', '__label__运动男鞋|训练鞋', '__label__运动男鞋|跑步鞋',\n",
    "     \n",
    "     '__label__配饰|其他配件', '__label__配饰|腰带']\n",
    "    \"\"\"\n",
    "    def __init__(self, model_path = None):\n",
    "        self.punct = set(u''':!),.:;?]}¢'\"、。〉》」』】〕〗〞︰︱︳﹐､﹒﹔﹕﹖﹗﹚/﹜﹞！），．：；？｜｝︴︶︸︺︼︾﹀﹂﹄﹏､～￠々‖•·ˇˉ―--′’”([{£¥'\"‵〈《「『【〔〖（［｛￡￥〝︵︷︹︻︽︿﹁﹃\\t﹙+﹛﹝（｛“‘-—_…''')\n",
    "        self.stopwords = set('的和呢了吧')\n",
    "        if model_path is None:\n",
    "            self.model = eigen_fastText.load_model('/data/share/model_clothes_others.bin')\n",
    "        else:\n",
    "            self.model = eigen_fastText.load_model(model_path)\n",
    "            \n",
    "    def preprocess(self, text):\n",
    "        \"\"\"\n",
    "        given a string or a list , return the string that can be processed by fasttext\n",
    "        \"\"\"\n",
    "        re = []\n",
    "        if type(text) == str:\n",
    "            return self.preprocess_str(text)\n",
    "        else:\n",
    "            for t in text:\n",
    "                re.append(self.preprocess_str(t))\n",
    "        return re\n",
    "    \n",
    "    def preprocess_str(self, text):\n",
    "        text = self.rmpunct(text)\n",
    "        text = self.rmstopwords(text)\n",
    "        text = self.splitwords(text)\n",
    "        return text\n",
    "    \n",
    "    def predict(self, text, k = 1, prob = True):\n",
    "        \"\"\"\n",
    "        given a string or a list, return their predicted label and probality\n",
    "        \"\"\"\n",
    "        if len(text) == 0:\n",
    "            raise ValueError(\n",
    "            \"Text should not be None\")\n",
    "        if type(text) == list:\n",
    "            labels = []\n",
    "            probas = []\n",
    "            text = self.preprocess(text)\n",
    "            for t in text:\n",
    "                #print(text)\n",
    "                label, proba = self.model.predict(t, k)\n",
    "                labels.append(label)\n",
    "                probas.append(proba)\n",
    "            if prob is True:\n",
    "                return labels, probas\n",
    "            else:\n",
    "                return labels\n",
    "        else:\n",
    "            text = self.preprocess(text)\n",
    "            #print(text)\n",
    "            label, proba = self.model.predict(text, k)\n",
    "            if prob is True:\n",
    "                return label, proba\n",
    "            else:\n",
    "                return label\n",
    "            \n",
    "    def rmpunct(self, text):\n",
    "        \"\"\"\n",
    "        remove punct from given string\n",
    "        \"\"\"\n",
    "        return  ''.join(filter(lambda x: x not in self.punct, text))\n",
    "    \n",
    "    def rmstopwords(self, text):\n",
    "        \"\"\"\n",
    "        remove stopwords from given string\n",
    "        \"\"\"\n",
    "        return  ''.join(filter(lambda x: x not in self.stopwords, text))\n",
    "    \n",
    "    def splitwords(self, text):\n",
    "        \"\"\"\n",
    "        split words from given string using jieba\n",
    "        \"\"\"\n",
    "        return ' '.join(jieba.cut(text))\n",
    "                        \n",
    "                   "
   ]
  },
  {
   "cell_type": "code",
   "execution_count": 91,
   "metadata": {
    "collapsed": false,
    "deletable": true,
    "editable": true
   },
   "outputs": [
    {
     "name": "stdout",
     "output_type": "stream",
     "text": [
      "([('__label__汽车用品', '__label__手机/手机配件'), ('__label__女装|连衣裙', '__label__女装|半身裙')], [array([1.00000811e+00, 1.11995787e-05]), array([1.00000906e+00, 1.10001511e-05])])\n"
     ]
    }
   ],
   "source": [
    "model = Item()\n",
    "print(model.predict(['车载手机架汽车手机支架车用导航支撑架磁性吸盘式出风口万能通用', '茉莉和扶苏原创\"墨渊棕色版\"复古棉麻连衣裙森系高腰长裙'], k=2))"
   ]
  },
  {
   "cell_type": "code",
   "execution_count": 90,
   "metadata": {
    "collapsed": false,
    "deletable": true,
    "editable": true
   },
   "outputs": [
    {
     "data": {
      "text/plain": [
       "([('__label__男装|针织衫', '__label__男装|卫衣', '__label__内衣|保暖内衣'),\n",
       "  ('__label__女装|连衣裙', '__label__女装|半身裙', '__label__女装|衬衫')],\n",
       " [array([9.99980569e-01, 2.11532370e-05, 1.68814859e-05]),\n",
       "  array([9.99753296e-01, 2.45982694e-04, 2.06450422e-05])])"
      ]
     },
     "execution_count": 90,
     "metadata": {},
     "output_type": "execute_result"
    }
   ],
   "source": [
    "model.predict(['冬季情侣高领毛衣男韩版潮流个性宽松羊毛针织衫男士外套加厚线衣', '喜黛姿2018新款女装春装小香风名媛气质显瘦修身蕾丝连衣裙a字裙'], k = 3)"
   ]
  },
  {
   "cell_type": "code",
   "execution_count": 89,
   "metadata": {
    "collapsed": true
   },
   "outputs": [
    {
     "data": {
      "text/plain": [
       "['__label__女装|连衣裙',\n",
       " '__label__女装|衬衫',\n",
       " '__label__运动男鞋|训练鞋',\n",
       " '__label__女装|针织衫',\n",
       " '__label__女鞋|单鞋',\n",
       " '__label__运动女鞋|训练鞋',\n",
       " '__label__女装|T恤',\n",
       " '__label__童装|运动鞋',\n",
       " '__label__男装|衬衫',\n",
       " '__label__童装|功能鞋',\n",
       " '__label__童装|单鞋',\n",
       " '__label__女装|大衣',\n",
       " '__label__内衣|文胸',\n",
       " '__label__女装|半身裙',\n",
       " '__label__运动男鞋|跑步鞋',\n",
       " '__label__女装|休闲裤',\n",
       " '__label__男鞋|休闲鞋',\n",
       " '__label__男装|夹克',\n",
       " '__label__男装|T恤',\n",
       " '__label__女装|牛仔裤',\n",
       " '__label__女装|风衣',\n",
       " '__label__男装|休闲裤',\n",
       " '__label__护肤|面膜',\n",
       " '__label__内衣|女式内裤',\n",
       " '__label__男装|针织衫',\n",
       " '__label__女装|卫衣',\n",
       " '__label__箱包',\n",
       " '__label__数码',\n",
       " '__label__游戏',\n",
       " '__label__运动户外',\n",
       " '__label__珠宝钟表',\n",
       " '__label__汽车用品',\n",
       " '__label__美食特产',\n",
       " '__label__医疗保健',\n",
       " '__label__电脑/办公',\n",
       " '__label__家用电器',\n",
       " '__label__家居家纺',\n",
       " '__label__手机/手机配件',\n",
       " '__label__家具建材',\n",
       " '__label__日用百货',\n",
       " '__label__文化娱乐',\n",
       " '__label__母婴用品',\n",
       " '__label__运动男鞋|篮球鞋',\n",
       " '__label__女鞋|女靴',\n",
       " '__label__男装|牛仔裤',\n",
       " '__label__运动女鞋|跑步鞋',\n",
       " '__label__内衣|睡衣',\n",
       " '__label__男鞋|正装鞋',\n",
       " '__label__全身护理|口腔护理',\n",
       " '__label__男装|卫衣',\n",
       " '__label__内衣|保暖内衣',\n",
       " '__label__女装|羽绒服',\n",
       " '__label__内衣|家居',\n",
       " '__label__男装|POLO衫',\n",
       " '__label__男装|短裤',\n",
       " '__label__女鞋|休闲鞋',\n",
       " '__label__女装|西服',\n",
       " '__label__内衣|男式内裤',\n",
       " '__label__女装|马甲',\n",
       " '__label__配饰|其他配件',\n",
       " '__label__全身护理|洗发',\n",
       " '__label__护肤|洁面',\n",
       " '__label__女装|打底裤',\n",
       " '__label__女鞋|高跟鞋',\n",
       " '__label__护肤|化妆水/爽肤水',\n",
       " '__label__内衣|情趣内衣',\n",
       " '__label__女鞋|凉鞋',\n",
       " '__label__护肤|眼部护理',\n",
       " '__label__护肤|面霜',\n",
       " '__label__女装|大码装',\n",
       " '__label__配饰|腰带',\n",
       " '__label__内衣|背心',\n",
       " '__label__男装|羽绒服',\n",
       " '__label__女装|中老年装',\n",
       " '__label__护肤|精华',\n",
       " '__label__内衣|连裤袜']"
      ]
     },
     "execution_count": 89,
     "metadata": {},
     "output_type": "execute_result"
    }
   ],
   "source": [
    "model.model.get_labels()"
   ]
  },
  {
   "cell_type": "code",
   "execution_count": 67,
   "metadata": {
    "collapsed": false
   },
   "outputs": [
    {
     "data": {
      "text/plain": [
       "[(('__label__游戏', '__label__文化娱乐', '__label__电脑/办公'),\n",
       "  array([9.95380580e-01, 3.41625558e-03, 7.60550553e-04])),\n",
       " (('__label__男装|T恤', '__label__运动户外', '__label__男装|卫衣'),\n",
       "  array([9.99994874e-01, 2.47645767e-05, 1.02627673e-05]))]"
      ]
     },
     "execution_count": 67,
     "metadata": {},
     "output_type": "execute_result"
    }
   ],
   "source": [
    "list(zip(labels, probs))"
   ]
  },
  {
   "cell_type": "code",
   "execution_count": 69,
   "metadata": {
    "collapsed": false
   },
   "outputs": [
    {
     "name": "stdout",
     "output_type": "stream",
     "text": [
      "0 [('__label__游戏', 0.9953805804252625), ('__label__文化娱乐', 0.003416255582123995), ('__label__电脑/办公', 0.0007605505525134504)]\n",
      "1 [('__label__男装|T恤', 0.9999948740005493), ('__label__运动户外', 2.4764576664892957e-05), ('__label__男装|卫衣', 1.0262767318636179e-05)]\n"
     ]
    }
   ],
   "source": [
    " for i,(label,prob) in enumerate(zip(labels,probs)):\n",
    "        print(i, list(zip(label,prob)))"
   ]
  },
  {
   "cell_type": "code",
   "execution_count": 84,
   "metadata": {
    "collapsed": false
   },
   "outputs": [
    {
     "data": {
      "text/plain": [
       "{'name': 'shenjiajia', 'prob': 2}"
      ]
     },
     "execution_count": 84,
     "metadata": {},
     "output_type": "execute_result"
    }
   ],
   "source": [
    "predict = [{'prob' : 1, 'name': 'zhuyuhe'}, {'prob': 2, 'name': 'shenjiajia'}]\n",
    "max(predict, key = lambda x: x['prob'])"
   ]
  },
  {
   "cell_type": "code",
   "execution_count": 140,
   "metadata": {
    "collapsed": false
   },
   "outputs": [],
   "source": [
    "class TaobaoCommodityCategory():\n",
    "    def __init__(self, config):\n",
    "        model_path = config.get('model_path', '/data/share/model_clothes_others.bin')\n",
    "        self.model = eigen_fastText.load_model(model_path)\n",
    "        labels = self.model.get_labels()\n",
    "        self.k = len(labels)\n",
    "        self.category2id = {name:i for i, name in enumerate(labels)}\n",
    "        self.id2category = {v:k for k, v in self.category2id.items()}\n",
    "        self.punct = set(u''':!),.:;?]}¢'\"、。〉》」』】〕〗〞︰︱︳﹐､﹒﹔﹕﹖﹗﹚/﹜﹞！），．：；？｜｝︴︶︸︺︼︾﹀﹂﹄﹏､～￠々‖•·ˇˉ―--′’”([{£¥'\"‵〈《「『【〔〖（［｛￡￥〝︵︷︹︻︽︿﹁﹃\\t﹙+﹛﹝（｛“‘-—_…''')\n",
    "        self.stopwords = set('的和呢了吧')\n",
    "            \n",
    "    def preprocess(self, text):\n",
    "        \"\"\"\n",
    "        given a string or a list , return the string that can be processed by fasttext\n",
    "        \"\"\"\n",
    "        res = []\n",
    "        if isinstance(text, str):\n",
    "            return self.preprocess_str(text)\n",
    "        elif isinstance(text, list):\n",
    "            for t in text:\n",
    "                res.append(self.preprocess_str(t))\n",
    "        return res\n",
    "    \n",
    "    def preprocess_str(self, text):\n",
    "        text = self.rmpunct(text)\n",
    "        text = self.rmstopwords(text)\n",
    "        text = self.splitwords(text)\n",
    "        return text\n",
    "\n",
    "    def rmpunct(self, text):\n",
    "        \"\"\"\n",
    "        remove punct from given string\n",
    "        \"\"\"\n",
    "        if not isinstance(text, str):\n",
    "            return text\n",
    "        return  ''.join(filter(lambda x: x not in self.punct, text))\n",
    "    \n",
    "    def rmstopwords(self, text):\n",
    "        \"\"\"\n",
    "        remove stopwords from given string\n",
    "        \"\"\"\n",
    "        if not isinstance(text, str):\n",
    "            return text\n",
    "        return  ''.join(filter(lambda x: x not in self.stopwords, text))\n",
    "    \n",
    "    def splitwords(self, text):\n",
    "        \"\"\"\n",
    "        split words from given string using jieba\n",
    "        \"\"\"\n",
    "        if not isinstance(text, str):\n",
    "            return text\n",
    "        cutter = Tokenizer().cut\n",
    "        return ' '.join(cutter(text))\n",
    "    \n",
    "    def classification(self, query, k = 3, version = 0, **kwargs):\n",
    "        \"\"\"\n",
    "        given a string or a list, return their predicted label and probality\n",
    "        \"\"\"\n",
    "        if not query:\n",
    "            return None\n",
    "\n",
    "        is_list = True\n",
    "        if not isinstance(query, list):\n",
    "            query = [query]\n",
    "            is_list = False\n",
    "\n",
    "        tokenize_query = self.preprocess(query)\n",
    "        labels, probs = self.model.predict(tokenize_query, k)\n",
    "        res = []\n",
    "\n",
    "        for i, (label, prob) in enumerate(zip(labels, probs)):\n",
    "            predict = [{\"category\": self.category2id[l], \"prob\": p, \"name\": l.replace('__label__', '').replace('|', '_')} for l,p in zip(label, prob)]\n",
    "            res.append({\"query\": query[i], \"version\": version, \"predict\": predict})\n",
    "\n",
    "        if is_list:\n",
    "            return res\n",
    "        else:\n",
    "            return res[0]\n",
    "        "
   ]
  },
  {
   "cell_type": "code",
   "execution_count": 141,
   "metadata": {
    "collapsed": false
   },
   "outputs": [
    {
     "name": "stderr",
     "output_type": "stream",
     "text": [
      "Building prefix dict from the default dictionary ...\n",
      "DEBUG:jieba:Building prefix dict from the default dictionary ...\n",
      "Loading model from cache /tmp/jieba.cache\n",
      "DEBUG:jieba:Loading model from cache /tmp/jieba.cache\n",
      "Loading model cost 0.688 seconds.\n",
      "DEBUG:jieba:Loading model cost 0.688 seconds.\n",
      "Prefix dict has been built succesfully.\n",
      "DEBUG:jieba:Prefix dict has been built succesfully.\n"
     ]
    },
    {
     "data": {
      "text/plain": [
       "True"
      ]
     },
     "execution_count": 141,
     "metadata": {},
     "output_type": "execute_result"
    }
   ],
   "source": [
    "config = {'model_path': \"/data/share/model_clothes_others_0209.bin\"}\n",
    "model = TaobaoCommodityCategory(config)\n",
    "\n",
    "query1 = \"喜黛姿2018新款女装春装小香风名媛气质显瘦修身蕾丝连衣裙a字裙\"\n",
    "predict1 = model.classification(query1)\n",
    "max(predict1['predict'], key = lambda x: x['prob'])['name'] == '女装_连衣裙'"
   ]
  },
  {
   "cell_type": "code",
   "execution_count": 116,
   "metadata": {
    "collapsed": false
   },
   "outputs": [
    {
     "data": {
      "text/plain": [
       "{'predict': [{'category': 24, 'name': '男装_针织衫', 'prob': 0.9999386072158813},\n",
       "  {'category': 17, 'name': '男装_夹克', 'prob': 3.9851820474723354e-05},\n",
       "  {'category': 3, 'name': '女装_针织衫', 'prob': 2.735344423854258e-05}],\n",
       " 'query': '冬季情侣高领毛衣男韩版潮流个性宽松羊毛针织衫男士外套加厚线衣',\n",
       " 'version': 0}"
      ]
     },
     "execution_count": 116,
     "metadata": {},
     "output_type": "execute_result"
    }
   ],
   "source": [
    "query2 = \"冬季情侣高领毛衣男韩版潮流个性宽松羊毛针织衫男士外套加厚线衣\"\n",
    "predict2 = model.classification(query2)\n",
    "predict2"
   ]
  },
  {
   "cell_type": "code",
   "execution_count": 118,
   "metadata": {
    "collapsed": false
   },
   "outputs": [
    {
     "name": "stdout",
     "output_type": "stream",
     "text": [
      "<__main__.TaobaoCommodityCategory object at 0x7f655d393a20>\n"
     ]
    }
   ],
   "source": [
    "print(str(model))"
   ]
  },
  {
   "cell_type": "code",
   "execution_count": 131,
   "metadata": {
    "collapsed": false
   },
   "outputs": [],
   "source": [
    "items = 'oss://modelzoo/fashion/model_sku.bin'.split('/')"
   ]
  },
  {
   "cell_type": "code",
   "execution_count": 132,
   "metadata": {
    "collapsed": true
   },
   "outputs": [],
   "source": [
    "prefix = '/'.join(items[3:])"
   ]
  },
  {
   "cell_type": "code",
   "execution_count": 133,
   "metadata": {
    "collapsed": false
   },
   "outputs": [
    {
     "data": {
      "text/plain": [
       "'fashion/model_sku.bin'"
      ]
     },
     "execution_count": 133,
     "metadata": {},
     "output_type": "execute_result"
    }
   ],
   "source": [
    "prefix"
   ]
  },
  {
   "cell_type": "code",
   "execution_count": 134,
   "metadata": {
    "collapsed": false
   },
   "outputs": [
    {
     "data": {
      "text/plain": [
       "(('__label__女装|牛仔裤', '__label__女装|休闲裤', '__label__女装|西服'),\n",
       " array([0.20534591, 0.15200402, 0.1284312 ]))"
      ]
     },
     "execution_count": 134,
     "metadata": {},
     "output_type": "execute_result"
    }
   ],
   "source": [
    "model.model.predict('喜黛姿 20 18 新款 女装 春装 小香风 名媛气质 显瘦 修身 蕾丝连衣裙 a字裙', 3)"
   ]
  },
  {
   "cell_type": "code",
   "execution_count": null,
   "metadata": {
    "collapsed": true
   },
   "outputs": [],
   "source": [
    "['喜黛姿 20 18 新款 女装 春装 小香风 名媛气质 显瘦 修身 蕾丝连衣裙 a字裙']\n",
    "ENV: 调试环境\n",
    "['冬季 情侣 高领毛衣 男 韩版 潮流 个性 宽松 羊毛 针织衫 男士 外套 加厚 线衣']\n",
    "ENV: 调试环境\n",
    "['车载 手机 架 汽车 手机 支架 车用 导航 支撑架 磁性 吸盘式 出风口 万能 通用']\n",
    "ENV: 调试环境"
   ]
  },
  {
   "cell_type": "code",
   "execution_count": null,
   "metadata": {
    "collapsed": true
   },
   "outputs": [],
   "source": [
    "['喜黛姿 2018 新款 女装 春装 小 香风 名媛 气质 显瘦 修身 蕾丝 连衣裙 a 字 裙']\n",
    "ENV: 调试环境\n",
    "['冬季 情侣 高领 毛衣 男 韩版 潮流 个性 宽松 羊毛 针织衫 男士 外套 加厚 线衣']\n",
    "ENV: 调试环境\n",
    "['车载 手机 架 汽车 手机 支架 车用 导航 支撑架 磁性 吸盘式 出风口 万能 通用']\n",
    "ENV: 调试环境"
   ]
  },
  {
   "cell_type": "code",
   "execution_count": 143,
   "metadata": {
    "collapsed": false
   },
   "outputs": [
    {
     "data": {
      "text/plain": [
       "{'predict': [{'intent': 0, 'name': '女装_连衣裙', 'prob': 0.9996693134307861},\n",
       "  {'intent': 12, 'name': '女装_半身裙', 'prob': 0.0003374156658537686},\n",
       "  {'intent': 1, 'name': '女装_衬衫', 'prob': 1.5870700735831633e-05}],\n",
       " 'query': '喜黛姿2018新款女装春装小香风名媛气质显瘦修身蕾丝连衣裙a字裙',\n",
       " 'version': '0'}"
      ]
     },
     "execution_count": 143,
     "metadata": {},
     "output_type": "execute_result"
    }
   ],
   "source": [
    "import requests\n",
    "test = '喜黛姿2018新款女装春装小香风名媛气质显瘦修身蕾丝连衣裙a字裙'\n",
    "requests.post(\"https://alpha-surreal.aidigger.com/api/v1/classification/category/sku/0\",json={\"query\":test}).json()"
   ]
  },
  {
   "cell_type": "code",
   "execution_count": null,
   "metadata": {
    "collapsed": true
   },
   "outputs": [],
   "source": []
  }
 ],
 "metadata": {
  "anaconda-cloud": {},
  "kernelspec": {
   "display_name": "Py3(ZhuyuheEnv)",
   "language": "python",
   "name": "zhuyuheenv"
  },
  "language_info": {
   "codemirror_mode": {
    "name": "ipython",
    "version": 3
   },
   "file_extension": ".py",
   "mimetype": "text/x-python",
   "name": "python",
   "nbconvert_exporter": "python",
   "pygments_lexer": "ipython3",
   "version": "3.6.2"
  }
 },
 "nbformat": 4,
 "nbformat_minor": 2
}

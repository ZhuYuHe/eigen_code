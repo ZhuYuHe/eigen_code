{
 "cells": [
  {
   "cell_type": "code",
   "execution_count": 1,
   "metadata": {
    "collapsed": false
   },
   "outputs": [
    {
     "name": "stdout",
     "output_type": "stream",
     "text": [
      "/mnt/raid1/home/zhuyuhe/mydata/item_profilt_classification\n"
     ]
    }
   ],
   "source": [
    "cd ~/mydata/item_profilt_classification/"
   ]
  },
  {
   "cell_type": "code",
   "execution_count": 31,
   "metadata": {
    "collapsed": true
   },
   "outputs": [],
   "source": [
    "import pandas as pd\n",
    "import numpy as np"
   ]
  },
  {
   "cell_type": "code",
   "execution_count": 8,
   "metadata": {
    "collapsed": false
   },
   "outputs": [],
   "source": [
    "items_train = pd.read_csv('modeldata/item_info_fasttext_train_clothes_others.txt', sep = '\\t', header = None)\n",
    "items_test = pd.read_csv('modeldata/item_info_fasttext_valid_clothes_others.txt', sep = '\\t',  header = None)"
   ]
  },
  {
   "cell_type": "code",
   "execution_count": 18,
   "metadata": {
    "collapsed": false
   },
   "outputs": [],
   "source": [
    "X_train, Y_train = list(items_train.loc[:, 0]), list(items_train.loc[:, 1])"
   ]
  },
  {
   "cell_type": "code",
   "execution_count": 26,
   "metadata": {
    "collapsed": false
   },
   "outputs": [],
   "source": [
    "X_test, Y_test = list(items_test.loc[:,0]), list(items_test.loc[:, 1])"
   ]
  },
  {
   "cell_type": "code",
   "execution_count": 45,
   "metadata": {
    "collapsed": true
   },
   "outputs": [],
   "source": [
    "from sklearn.pipeline import Pipeline\n",
    "from sklearn.linear_model import SGDClassifier\n",
    "from sklearn.svm import LinearSVC\n",
    "from sklearn.linear_model import SGDClassifier\n",
    "from sklearn.feature_extraction.text import CountVectorizer\n",
    "from sklearn.feature_extraction.text import TfidfTransformer"
   ]
  },
  {
   "cell_type": "code",
   "execution_count": 65,
   "metadata": {
    "collapsed": false
   },
   "outputs": [],
   "source": [
    "text_clf = Pipeline([('vect', CountVectorizer(ngram_range = (1,2), max_df = 0.6, min_df = 5)),\n",
    "                     ('tfidf', TfidfTransformer()),\n",
    "                     ('clf', SGDClassifier(loss = 'log', penalty = 'none', alpha= 1e-5, max_iter=15, random_state=52))])\n",
    "text_clf.fit(X_train, Y_train)\n",
    "predicted = text_clf.predict(X_test)"
   ]
  },
  {
   "cell_type": "code",
   "execution_count": 66,
   "metadata": {
    "collapsed": false
   },
   "outputs": [
    {
     "data": {
      "text/plain": [
       "0.9617288346213724"
      ]
     },
     "execution_count": 66,
     "metadata": {},
     "output_type": "execute_result"
    }
   ],
   "source": [
    "predicted_train = text_clf.predict(X_train)\n",
    "np.mean(predicted_train == Y_train)"
   ]
  },
  {
   "cell_type": "code",
   "execution_count": 67,
   "metadata": {
    "collapsed": false
   },
   "outputs": [
    {
     "data": {
      "text/plain": [
       "0.9346675836128616"
      ]
     },
     "execution_count": 67,
     "metadata": {},
     "output_type": "execute_result"
    }
   ],
   "source": [
    "np.mean(predicted == Y_test)"
   ]
  },
  {
   "cell_type": "code",
   "execution_count": 71,
   "metadata": {
    "collapsed": true
   },
   "outputs": [
    {
     "name": "stdout",
     "output_type": "stream",
     "text": [
      "                     precision    recall  f1-score   support\n",
      "\n",
      " __label__全身护理|口腔护理      0.990     0.995     0.993       611\n",
      "   __label__全身护理|洗发      0.991     0.988     0.989       327\n",
      "   __label__内衣|保暖内衣      0.940     0.936     0.938       564\n",
      "   __label__内衣|女式内裤      0.972     0.971     0.971       882\n",
      "     __label__内衣|家居      0.891     0.791     0.838       507\n",
      "   __label__内衣|情趣内衣      0.961     0.943     0.952       263\n",
      "     __label__内衣|文胸      0.988     0.998     0.993      1513\n",
      "   __label__内衣|男式内裤      0.975     0.956     0.965       363\n",
      "     __label__内衣|睡衣      0.948     0.949     0.948       647\n",
      "     __label__内衣|背心      0.954     0.776     0.856       214\n",
      "    __label__内衣|连裤袜      0.951     0.965     0.958       200\n",
      "      __label__医疗保健      0.952     0.917     0.934       800\n",
      "     __label__女装|T恤      0.901     0.925     0.913      2150\n",
      "   __label__女装|中老年装      0.953     0.971     0.962       210\n",
      "    __label__女装|休闲裤      0.863     0.890     0.876      1182\n",
      "    __label__女装|半身裙      0.943     0.913     0.928      1488\n",
      "     __label__女装|卫衣      0.927     0.897     0.911       802\n",
      "    __label__女装|大码装      0.881     0.802     0.840       222\n",
      "     __label__女装|大衣      0.914     0.958     0.935      1581\n",
      "    __label__女装|打底裤      0.856     0.831     0.843       308\n",
      "    __label__女装|牛仔裤      0.905     0.920     0.912      1092\n",
      "    __label__女装|羽绒服      0.929     0.946     0.937       522\n",
      "     __label__女装|衬衫      0.898     0.931     0.914      2807\n",
      "     __label__女装|西服      0.975     0.910     0.941       378\n",
      "    __label__女装|连衣裙      0.943     0.965     0.954      5523\n",
      "    __label__女装|针织衫      0.943     0.961     0.952      2618\n",
      "     __label__女装|风衣      0.962     0.937     0.949      1094\n",
      "     __label__女装|马甲      0.840     0.803     0.821       360\n",
      "    __label__女鞋|休闲鞋      0.888     0.844     0.865       449\n",
      "     __label__女鞋|凉鞋      0.982     0.882     0.929       246\n",
      "     __label__女鞋|单鞋      0.967     0.989     0.978      2297\n",
      "     __label__女鞋|女靴      0.910     0.942     0.926       701\n",
      "    __label__女鞋|高跟鞋      0.899     0.808     0.851       307\n",
      "      __label__家具建材      0.906     0.859     0.882       800\n",
      "      __label__家居家纺      0.888     0.866     0.877       800\n",
      "      __label__家用电器      0.939     0.959     0.949       800\n",
      "   __label__手机/手机配件      0.875     0.899     0.887       800\n",
      "__label__护肤|化妆水/爽肤水      0.978     0.944     0.961       285\n",
      "     __label__护肤|洁面      0.957     0.951     0.954       326\n",
      "   __label__护肤|眼部护理      0.987     0.962     0.974       234\n",
      "     __label__护肤|精华      0.966     0.947     0.957       209\n",
      "     __label__护肤|面膜      0.979     0.983     0.981       899\n",
      "     __label__护肤|面霜      0.903     0.922     0.913       232\n",
      "        __label__数码      0.892     0.912     0.902       800\n",
      "      __label__文化娱乐      0.688     0.856     0.763       800\n",
      "      __label__日用百货      0.858     0.814     0.835       800\n",
      "      __label__母婴用品      0.907     0.769     0.832       800\n",
      "      __label__汽车用品      0.898     0.873     0.885       800\n",
      "        __label__游戏      0.965     0.954     0.959       800\n",
      "      __label__珠宝钟表      0.917     0.953     0.934       800\n",
      "     __label__电脑/办公      0.866     0.809     0.836       800\n",
      "  __label__男装|POLO衫      0.975     0.985     0.980       467\n",
      "     __label__男装|T恤      0.948     0.927     0.938      1126\n",
      "    __label__男装|休闲裤      0.963     0.955     0.959      1050\n",
      "     __label__男装|卫衣      0.963     0.921     0.941       592\n",
      "     __label__男装|夹克      0.972     0.974     0.973      1136\n",
      "    __label__男装|牛仔裤      0.961     0.936     0.949       692\n",
      "     __label__男装|短裤      0.993     0.952     0.972       457\n",
      "    __label__男装|羽绒服      0.974     0.883     0.926       214\n",
      "     __label__男装|衬衫      0.968     0.969     0.969      1865\n",
      "    __label__男装|针织衫      0.959     0.934     0.946       843\n",
      "    __label__男鞋|休闲鞋      0.911     0.904     0.908      1170\n",
      "    __label__男鞋|正装鞋      0.938     0.939     0.938       623\n",
      "    __label__童装|功能鞋      0.992     0.987     0.990      1668\n",
      "     __label__童装|单鞋      0.949     0.953     0.951      1628\n",
      "    __label__童装|运动鞋      0.942     0.956     0.949      2022\n",
      "        __label__箱包      0.974     0.969     0.971       800\n",
      "      __label__美食特产      0.893     0.924     0.908       800\n",
      "  __label__运动女鞋|训练鞋      0.959     0.969     0.964      2295\n",
      "  __label__运动女鞋|跑步鞋      0.945     0.920     0.933       654\n",
      "      __label__运动户外      0.878     0.820     0.848       800\n",
      "  __label__运动男鞋|篮球鞋      0.997     0.989     0.993       722\n",
      "  __label__运动男鞋|训练鞋      0.958     0.962     0.960      2815\n",
      "  __label__运动男鞋|跑步鞋      0.951     0.967     0.959      1234\n",
      "   __label__配饰|其他配件      0.893     0.788     0.837       349\n",
      "     __label__配饰|腰带      0.958     0.944     0.951       216\n",
      "\n",
      "        avg / total      0.935     0.935     0.935     71251\n",
      "\n"
     ]
    }
   ],
   "source": [
    "from sklearn import metrics\n",
    "print(metrics.classification_report(Y_test, predicted, digits = 3))"
   ]
  },
  {
   "cell_type": "code",
   "execution_count": null,
   "metadata": {
    "collapsed": true
   },
   "outputs": [],
   "source": []
  }
 ],
 "metadata": {
  "anaconda-cloud": {},
  "kernelspec": {
   "display_name": "Python [zhuyuheEnv]",
   "language": "python",
   "name": "Python [zhuyuheEnv]"
  },
  "language_info": {
   "codemirror_mode": {
    "name": "ipython",
    "version": 3
   },
   "file_extension": ".py",
   "mimetype": "text/x-python",
   "name": "python",
   "nbconvert_exporter": "python",
   "pygments_lexer": "ipython3",
   "version": "3.6.2"
  }
 },
 "nbformat": 4,
 "nbformat_minor": 2
}

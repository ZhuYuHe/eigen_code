{
 "cells": [
  {
   "cell_type": "code",
   "execution_count": 3,
   "metadata": {
    "collapsed": false
   },
   "outputs": [
    {
     "name": "stdout",
     "output_type": "stream",
     "text": [
      "/mnt/raid1/home/zhuyuhe/mydata/item_profilt_classification\n"
     ]
    }
   ],
   "source": [
    "cd ~/mydata/item_profilt_classification/"
   ]
  },
  {
   "cell_type": "code",
   "execution_count": 69,
   "metadata": {
    "collapsed": true
   },
   "outputs": [],
   "source": [
    "import jieba\n",
    "import pickle\n",
    "import pandas as pd\n",
    "import jieba.analyse"
   ]
  },
  {
   "cell_type": "code",
   "execution_count": 4,
   "metadata": {
    "collapsed": true
   },
   "outputs": [],
   "source": [
    "tfidf = pickle.load(open('rawdata/tfidf_3million_1208.pkl', 'rb'))"
   ]
  },
  {
   "cell_type": "code",
   "execution_count": 16,
   "metadata": {
    "collapsed": false
   },
   "outputs": [],
   "source": [
    "countV = tfidf['vectorizer']"
   ]
  },
  {
   "cell_type": "code",
   "execution_count": 17,
   "metadata": {
    "collapsed": false
   },
   "outputs": [],
   "source": [
    "tfidfT = tfidf['transformer']"
   ]
  },
  {
   "cell_type": "code",
   "execution_count": 25,
   "metadata": {
    "collapsed": false
   },
   "outputs": [],
   "source": [
    "sub_item_join = pd.read_csv('modeldata/sub_item_join.txt', sep = '\\t', header = None)\n",
    "sub_item_join.columns = ['content', 'label']"
   ]
  },
  {
   "cell_type": "code",
   "execution_count": 29,
   "metadata": {
    "collapsed": false
   },
   "outputs": [],
   "source": [
    "labels = sub_item_join.label.unique()"
   ]
  },
  {
   "cell_type": "code",
   "execution_count": 36,
   "metadata": {
    "collapsed": false
   },
   "outputs": [
    {
     "data": {
      "text/plain": [
       "'__label__女装|西服'"
      ]
     },
     "execution_count": 36,
     "metadata": {},
     "output_type": "execute_result"
    }
   ],
   "source": [
    "labels[0]"
   ]
  },
  {
   "cell_type": "code",
   "execution_count": 75,
   "metadata": {
    "collapsed": false
   },
   "outputs": [
    {
     "name": "stderr",
     "output_type": "stream",
     "text": [
      "  0%|          | 0/76 [00:00<?, ?it/s]/home/zhuyuhe/.conda/envs/zhuyuheEnv/lib/python3.6/site-packages/pandas/core/generic.py:3643: SettingWithCopyWarning: \n",
      "A value is trying to be set on a copy of a slice from a DataFrame.\n",
      "Try using .loc[row_indexer,col_indexer] = value instead\n",
      "\n",
      "See the caveats in the documentation: http://pandas.pydata.org/pandas-docs/stable/indexing.html#indexing-view-versus-copy\n",
      "  self[name] = value\n",
      "100%|██████████| 76/76 [01:23<00:00,  1.10s/it]\n"
     ]
    }
   ],
   "source": [
    "import re\n",
    "from tqdm import tqdm\n",
    "fl = open('item_keywords.txt', 'w')\n",
    "for label in tqdm(labels):\n",
    "    item = sub_item_join[sub_item_join.label == label]\n",
    "    item.content = item.content.apply(lambda x: x + ' ')\n",
    "    content = ''\n",
    "    for i in item.content.values:\n",
    "        content += i\n",
    "    content = re.sub('\\s+', ' ', content)\n",
    "    keyword = ', '.join(jieba.analyse.extract_tags(content, topK=5))\n",
    "    fl.write(label)\n",
    "    fl.write('\\t')\n",
    "    fl.write(keyword)\n",
    "    fl.write('\\n')\n",
    "\n",
    "fl.close()"
   ]
  },
  {
   "cell_type": "code",
   "execution_count": 47,
   "metadata": {
    "collapsed": false
   },
   "outputs": [
    {
     "data": {
      "text/plain": [
       "{str}"
      ]
     },
     "execution_count": 47,
     "metadata": {},
     "output_type": "execute_result"
    }
   ],
   "source": [
    "set([type(x) for x in item.content.values])"
   ]
  },
  {
   "cell_type": "code",
   "execution_count": 49,
   "metadata": {
    "collapsed": false
   },
   "outputs": [],
   "source": [
    "lst = item.content.values"
   ]
  },
  {
   "cell_type": "code",
   "execution_count": 51,
   "metadata": {
    "collapsed": false
   },
   "outputs": [
    {
     "data": {
      "text/plain": [
       "array(['海贝      女  连衣裙海贝 ', 'KUBITU  酷比兔  针织  连衣裙酷比 ',\n",
       "       '恩瑞妮  2016  秋季  新款  抽绳  圆领  无袖  黑白花  连衣裙  女恩瑞妮 ', ...,\n",
       "       '复古  大花  丝绒  打底  吊带裙  女  韩版  宽松  中长款  无袖  连衣裙  A  字  裙  鱼尾  裙  A7  SEVEN  定制女装 ',\n",
       "       'PINZIKO          中长款  针织  裙女  秋冬  加厚  保暖  毛  衣裙  过膝  打底  长裙  CM73073  PINZIKO  小兔独家定制 ',\n",
       "       '竖  条纹  修身  显瘦  针织  打底  裙子  女  冬季  韩版  百搭半  高领  套头毛衣  连衣裙  A7  SEVEN  定制女装 '],\n",
       "      dtype=object)"
      ]
     },
     "execution_count": 51,
     "metadata": {},
     "output_type": "execute_result"
    }
   ],
   "source": [
    "item.content.values"
   ]
  },
  {
   "cell_type": "code",
   "execution_count": 52,
   "metadata": {
    "collapsed": false
   },
   "outputs": [],
   "source": [
    "res = ''\n",
    "for l in lst:\n",
    "    res += l"
   ]
  },
  {
   "cell_type": "code",
   "execution_count": 71,
   "metadata": {
    "collapsed": false
   },
   "outputs": [
    {
     "name": "stdout",
     "output_type": "stream",
     "text": [
      "['连衣裙', '新款', '女装', '修身', '长袖', '显瘦', '韩版', '印花', '拼接', '气质']\n"
     ]
    }
   ],
   "source": [
    "import re\n",
    "res = re.sub('\\\\s+', ' ', res)\n",
    "print(jieba.analyse.extract_tags(res, topK=10))"
   ]
  },
  {
   "cell_type": "code",
   "execution_count": 63,
   "metadata": {
    "collapsed": false
   },
   "outputs": [
    {
     "name": "stdout",
     "output_type": "stream",
     "text": [
      "\\s\n"
     ]
    }
   ],
   "source": []
  },
  {
   "cell_type": "code",
   "execution_count": null,
   "metadata": {
    "collapsed": true
   },
   "outputs": [],
   "source": []
  }
 ],
 "metadata": {
  "kernelspec": {
   "display_name": "Python [zhuyuheEnv]",
   "language": "python",
   "name": "Python [zhuyuheEnv]"
  },
  "language_info": {
   "codemirror_mode": {
    "name": "ipython",
    "version": 3
   },
   "file_extension": ".py",
   "mimetype": "text/x-python",
   "name": "python",
   "nbconvert_exporter": "python",
   "pygments_lexer": "ipython3",
   "version": "3.6.2"
  }
 },
 "nbformat": 4,
 "nbformat_minor": 2
}

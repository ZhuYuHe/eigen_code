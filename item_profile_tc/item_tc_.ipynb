{
 "cells": [
  {
   "cell_type": "code",
   "execution_count": 143,
   "metadata": {
    "collapsed": false,
    "deletable": true,
    "editable": true
   },
   "outputs": [],
   "source": [
    "import jieba\n",
    "import pandas as pd\n",
    "import numpy as np\n",
    "from sklearn.utils import shuffle\n",
    "import csv"
   ]
  },
  {
   "cell_type": "raw",
   "metadata": {
    "deletable": true,
    "editable": true
   },
   "source": [
    "服装配饰，个护化妆，鞋"
   ]
  },
  {
   "cell_type": "code",
   "execution_count": 80,
   "metadata": {
    "collapsed": true,
    "deletable": true,
    "editable": true
   },
   "outputs": [],
   "source": [
    "def rmpunct(s):\n",
    "    punct = set(u''':!),.:;?]}¢'\"、。〉》」』】〕〗〞︰︱︳/﹐､﹒﹔﹕﹖﹗﹚﹜﹞！），．：；？｜｝︴︶︸︺︼︾﹀﹂﹄﹏､～￠々‖•·ˇˉ―--′’”([{£¥'\"‵〈《「『【〔〖（［｛￡￥〝︵︷︹︻︽︿﹁﹃\\t﹙+﹛﹝（｛“‘-—_…''')\n",
    "    return ''.join(filter(lambda x: x not in punct, s))\n",
    "\n",
    "def extractUrl(url):\n",
    "    if url.split('.').__len__() < 2:\n",
    "        return ''\n",
    "    return url.split('.')[1]\n",
    "\n",
    "def rmstopwords(s):\n",
    "    stopwords = set('的和呢了吧')\n",
    "    return ''.join(filter(lambda x: x not in stopwords, s))\n",
    "\n",
    "def splitwords(s):\n",
    "    return ' '.join(jieba.cut(s))"
   ]
  },
  {
   "cell_type": "code",
   "execution_count": 132,
   "metadata": {
    "collapsed": false,
    "deletable": true,
    "editable": true
   },
   "outputs": [],
   "source": [
    "item_info = pd.read_csv('/home/zhuyuhe/mydata/item_profilt_classification/item_profile.txt', sep='\\t', header=None)\n",
    "item_info.columns = ['商品标题', '商品url', '商品价格', '商品描述', '品牌', '类目']\n",
    "#填充缺失值\n",
    "item_info.商品标题.fillna('', inplace=True)\n",
    "item_info.商品url.fillna('', inplace=True)\n",
    "item_info.商品描述.fillna('', inplace = True)\n",
    "item_info.品牌.fillna('', inplace = True)\n",
    "item_info.类目.fillna('',inplace = True)\n",
    "item_info.商品价格.fillna('', inplace = True)\n",
    "#滤除行\n",
    "item_info.drop(item_info[item_info.类目.apply(lambda x: x == '')].index, inplace= True)\n",
    "item_info.drop(item_info[item_info.商品标题.apply(lambda x: x == '')].index, inplace= True)\n",
    "item_info.drop(item_info[item_info.类目.apply(lambda x: x.split('$').__len__() == 2)].index, inplace=True)\n",
    "\n",
    "#取特定类目样本\n",
    "item_list = ['服装配饰', '个护化妆', '鞋']\n",
    "sub_item = pd.DataFrame()\n",
    "for i in item_list:\n",
    "    sub_item = pd.concat([sub_item, item_info[item_info.类目.apply(lambda x: i in x)]])\n",
    "    \n",
    "#取样本数大于1000的标签进行分类训练    \n",
    "sub_item.index = range(len(sub_item))\n",
    "labels = sub_item.类目.value_counts()[:60]\n",
    "sub_item = sub_item[sub_item.类目.apply(lambda x: x in labels)]\n",
    "\n",
    "#去符号，抽rul，处理label，去停止词\n",
    "sub_item.商品标题 = sub_item.商品标题.apply(lambda x: rmpunct(x))\n",
    "sub_item.商品url = sub_item.商品url.apply(lambda x: extractUrl(x))\n",
    "sub_item.商品描述 = sub_item.商品描述.apply(lambda x: rmpunct(x))\n",
    "sub_item.类目 = sub_item.类目.apply(lambda x: '|'.join(x.split('$')[1:]))\n",
    "\n",
    "sub_item.商品标题 = sub_item.商品标题.apply(lambda x: rmstopwords(x))\n",
    "sub_item.商品描述 = sub_item.商品描述.apply(lambda x: rmstopwords(x))\n",
    "\n",
    "sub_item.商品标题 = sub_item.商品标题.apply(lambda x: splitwords(x))\n",
    "sub_item.商品描述 = sub_item.商品描述.apply(lambda x: splitwords(x))\n",
    "\n",
    "sub_item['label'] = sub_item.类目.apply(lambda x: '__label__' + x)\n",
    "\n",
    "#划分数据集，80%训练集，20%测试\n",
    "labels = sub_item.label.unique()\n",
    "item_train = pd.DataFrame()\n",
    "item_valid = pd.DataFrame()\n",
    "for l in labels:\n",
    "    sample_train = sub_item[sub_item.label == l].sample(frac = 0.8)\n",
    "    sample_valid = sub_item[sub_item.label == l].drop(sample_train.index)\n",
    "    item_train = pd.concat([item_train, sample_train])\n",
    "    item_valid = pd.concat([item_valid, sample_valid])\n",
    "    \n",
    "item_train = shuffle(item_train)\n",
    "item_valid = shuffle(item_valid)\n",
    "\n",
    "item_train[['商品标题', '商品url', '商品描述', '品牌', 'label']].to_csv('/home/zhuyuhe/mydata/item_profilt_classification/item_info_fasttext_train_clothes.txt', sep = ' ', header = None, index = None)\n",
    "item_valid[['商品标题', '商品url', '商品描述', '品牌', 'label']].to_csv('/home/zhuyuhe/mydata/item_profilt_classification/item_info_fasttext_valid_clothes.txt', sep = ' ', header = None, index = None)\n"
   ]
  },
  {
   "cell_type": "code",
   "execution_count": 146,
   "metadata": {
    "collapsed": false
   },
   "outputs": [],
   "source": [
    "item_train[['商品标题', '商品描述', '品牌', 'label']].to_csv('/home/zhuyuhe/mydata/item_profilt_classification/item_info_fasttext_train_clothes.txt', sep = ' ', header = None, index = None, quoting = csv.QUOTE_NONE, escapechar = ' ')\n",
    "item_valid[['商品标题', '商品描述', '品牌', 'label']].to_csv('/home/zhuyuhe/mydata/item_profilt_classification/item_info_fasttext_valid_clothes.txt', sep = ' ', header = None, index = None, quoting = csv.QUOTE_NONE, escapechar = ' ')"
   ]
  },
  {
   "cell_type": "code",
   "execution_count": null,
   "metadata": {
    "collapsed": true
   },
   "outputs": [],
   "source": []
  }
 ],
 "metadata": {
  "anaconda-cloud": {},
  "kernelspec": {
   "display_name": "Python [zhuyuheEnv]",
   "language": "python",
   "name": "Python [zhuyuheEnv]"
  },
  "language_info": {
   "codemirror_mode": {
    "name": "ipython",
    "version": 3
   },
   "file_extension": ".py",
   "mimetype": "text/x-python",
   "name": "python",
   "nbconvert_exporter": "python",
   "pygments_lexer": "ipython3",
   "version": "3.6.2"
  }
 },
 "nbformat": 4,
 "nbformat_minor": 2
}

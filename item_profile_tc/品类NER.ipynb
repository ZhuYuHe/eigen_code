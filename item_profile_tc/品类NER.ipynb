{
 "cells": [
  {
   "cell_type": "code",
   "execution_count": 1,
   "metadata": {
    "collapsed": true
   },
   "outputs": [],
   "source": [
    "from flashtext import KeywordProcessor"
   ]
  },
  {
   "cell_type": "code",
   "execution_count": 2,
   "metadata": {
    "collapsed": true
   },
   "outputs": [],
   "source": [
    "keyword_processor = KeywordProcessor()"
   ]
  },
  {
   "cell_type": "code",
   "execution_count": 3,
   "metadata": {
    "collapsed": false
   },
   "outputs": [],
   "source": [
    "keyword_processor.add_keyword_from_file(\"/data/xueyou/fashion/words/category_words_0130.txt\")"
   ]
  },
  {
   "cell_type": "code",
   "execution_count": 4,
   "metadata": {
    "collapsed": false
   },
   "outputs": [
    {
     "data": {
      "text/plain": [
       "295"
      ]
     },
     "execution_count": 4,
     "metadata": {},
     "output_type": "execute_result"
    }
   ],
   "source": [
    "len(keyword_processor)"
   ]
  },
  {
   "cell_type": "code",
   "execution_count": 5,
   "metadata": {
    "collapsed": false
   },
   "outputs": [
    {
     "data": {
      "text/plain": [
       "[('沙滩裤', 10, 13), ('牛仔裤', 22, 25)]"
      ]
     },
     "execution_count": 5,
     "metadata": {},
     "output_type": "execute_result"
    }
   ],
   "source": [
    "keyword_processor.extract_keywords('我今天去沙滩穿了一条沙滩裤，看到一个男生穿了牛仔裤。', span_info=True)"
   ]
  },
  {
   "cell_type": "code",
   "execution_count": 6,
   "metadata": {
    "collapsed": true
   },
   "outputs": [],
   "source": [
    "import json\n",
    "import glob\n",
    "from tqdm import tqdm"
   ]
  },
  {
   "cell_type": "code",
   "execution_count": 7,
   "metadata": {
    "collapsed": false
   },
   "outputs": [
    {
     "name": "stderr",
     "output_type": "stream",
     "text": [
      "100%|██████████| 8/8 [00:04<00:00,  1.67it/s]\n"
     ]
    },
    {
     "data": {
      "text/plain": [
       "28362"
      ]
     },
     "execution_count": 7,
     "metadata": {},
     "output_type": "execute_result"
    }
   ],
   "source": [
    "hd_articles = []\n",
    "for filename in tqdm(glob.glob(\"/data/xueyou/fashion/sku/taobao_headline_articles/*_0\")):\n",
    "    for line in open(filename):\n",
    "        tokens = line.strip().split('\\x01')\n",
    "        if len(tokens) == 4:\n",
    "            headline = tokens[1]\n",
    "            category = tokens[2]\n",
    "            body = tokens[3]\n",
    "            hd_articles.append((headline,category,json.loads(body)))\n",
    "len(hd_articles)"
   ]
  },
  {
   "cell_type": "code",
   "execution_count": 8,
   "metadata": {
    "collapsed": false
   },
   "outputs": [
    {
     "name": "stderr",
     "output_type": "stream",
     "text": [
      "100%|██████████| 28362/28362 [00:00<00:00, 42663.29it/s]\n"
     ]
    }
   ],
   "source": [
    "texts = []\n",
    "for _,c,content in tqdm(hd_articles):\n",
    "    text = []\n",
    "    for i,item in enumerate(content):\n",
    "        if i == 1:\n",
    "            continue\n",
    "        if item['type'] == 'para' and item['value'] != '去购买' and 'securityUtil.unescapeHtml' not in item['value']:\n",
    "            text.append(item['value'])\n",
    "    texts.append((c,\"\".join(text)))"
   ]
  },
  {
   "cell_type": "code",
   "execution_count": 9,
   "metadata": {
    "collapsed": false
   },
   "outputs": [
    {
     "data": {
      "text/plain": [
       "[('外套', 96, 98),\n",
       " ('针织衫', 128, 131),\n",
       " ('包臀裙', 136, 139),\n",
       " ('棉衣', 163, 165),\n",
       " ('白衬衫', 192, 195),\n",
       " ('短裙', 200, 202),\n",
       " ('外套', 233, 235),\n",
       " ('针织衫', 252, 255),\n",
       " ('t恤', 256, 258),\n",
       " ('牛仔裤', 263, 266),\n",
       " ('外套', 291, 293),\n",
       " ('毛衣', 299, 301),\n",
       " ('短裙', 306, 308),\n",
       " ('外套', 346, 348),\n",
       " ('棒球服', 349, 352),\n",
       " ('外套', 366, 368),\n",
       " ('外套', 384, 386),\n",
       " ('紧身裤', 395, 398),\n",
       " ('棉服', 417, 419),\n",
       " ('打底衫', 455, 458),\n",
       " ('短裙', 464, 466)]"
      ]
     },
     "execution_count": 9,
     "metadata": {},
     "output_type": "execute_result"
    }
   ],
   "source": [
    "keyword_processor.extract_keywords(texts[3550][1],span_info=True)"
   ]
  },
  {
   "cell_type": "code",
   "execution_count": 126,
   "metadata": {
    "collapsed": true
   },
   "outputs": [],
   "source": [
    "import re\n",
    "split_tokens = \"([。？！])\"\n",
    "\n",
    "def split_sentences(content):\n",
    "    sentences = re.split(split_tokens,content.replace(\" \",\"\").replace(\"\\n\",\"\"))\n",
    "    sentences = [\"\".join(i) for i in zip(sentences[0::2],sentences[1::2])]\n",
    "    return sentences"
   ]
  },
  {
   "cell_type": "code",
   "execution_count": 127,
   "metadata": {
    "collapsed": false
   },
   "outputs": [
    {
     "name": "stderr",
     "output_type": "stream",
     "text": [
      "100%|██████████| 28362/28362 [00:09<00:00, 3087.81it/s]\n"
     ]
    }
   ],
   "source": [
    "sentences = []\n",
    "others = []\n",
    "for c,t in tqdm(texts):\n",
    "    if c == '美搭' or c=='头条':\n",
    "        sents = split_sentences(t)\n",
    "        for s in sents:\n",
    "            if len(s)>=5:\n",
    "                kws = keyword_processor.extract_keywords(s,span_info=True)\n",
    "                if len(kws) > 0:\n",
    "                    sentences.append((s,kws))\n",
    "                elif len(others)<20000:\n",
    "                    others.append((s,[]))"
   ]
  },
  {
   "cell_type": "code",
   "execution_count": 128,
   "metadata": {
    "collapsed": false
   },
   "outputs": [
    {
     "data": {
      "text/plain": [
       "64340"
      ]
     },
     "execution_count": 128,
     "metadata": {},
     "output_type": "execute_result"
    }
   ],
   "source": [
    "len(sentences)"
   ]
  },
  {
   "cell_type": "code",
   "execution_count": 129,
   "metadata": {
    "collapsed": false
   },
   "outputs": [
    {
     "data": {
      "text/plain": [
       "[('爱得堡马丁靴男靴子高帮复古工装靴男军靴皮靴男高帮保暖毛靴子男这款的设计还有点军靴的感觉，上脚尽显霸气，无论是搭配牛仔裤还是迷彩系列都很气场，金属的拉链装饰，还增添了几分不羁与洒脱的感觉。',\n",
       "  [('牛仔裤', 56, 59)]),\n",
       " ('—?—霸气外套显气场提到硬汉风几乎所有人都会想到迷彩系列，但是在选择迷彩系列的时候也是不能随意的，一个不小心你就变成了军训风格。',\n",
       "  [('外套', 5, 7)]),\n",
       " ('TRENDIANO新男装冬装潮纯棉迷彩字母中长夹克外套大衣3HC4040930基本款的夹克可以说是怎么穿都不会错了，穿多了总觉得有点无趣，但是加入了迷彩元素之后就不一样了，略微宽松的版型增添了几分街头范，运动风的连帽显得活力十足，型男气场瞬间就出来了。',\n",
       "  [('冬装', 12, 14), ('夹克', 23, 25), ('夹克', 43, 45)]),\n",
       " ('相比于一般的夹克，运动风衣反而更能彰显硬汉气场，即使没有任何装饰也有强大的气场，这大概就是属于户外的魅力。',\n",
       "  [('夹克', 6, 8), ('风衣', 11, 13)]),\n",
       " ('美特斯邦威夹克男2017秋季新款宽松户外运动风衣短外套潮夏之光R运动衣给人的印象是丑丑的，但是这款却完全不会，合身的剪裁、防水的面料上身显得挺拔有型，专为户外设计的帽子更添个性。',\n",
       "  [('夹克', 5, 7), ('风衣', 22, 24), ('外套', 25, 27)]),\n",
       " ('—?—简洁长裤不可少最近两年工装风是很火的，想要穿出硬汉气场，那么你一定要试试工装风，比如工装风的裤子。',\n",
       "  [('长裤', 5, 7), ('裤子', 49, 51)]),\n",
       " ('AK男装特工裤收口男士休闲裤长裤夏季工装裤修身潮流裤子这款的风格是比较偏向于户外风的，但是这并不代表它只能在户外穿，只要你搭配的好，型男气场也是手到擒来的。',\n",
       "  [('休闲裤', 11, 14), ('工装裤', 18, 21), ('裤子', 25, 27)]),\n",
       " ('对于走小清新风的男生来说，户外裤可能不太敢尝试，那么你可以试试用这种直筒裤来打造专属于你的硬汉气场。', [('直筒裤', 34, 37)]),\n",
       " ('工装裤男潮牌收脚裤加绒加厚多口袋宽松小脚哈伦裤九分束脚裤长裤这款的设计就比较简洁了，宽松的裤型看似不起眼却能将腿型修饰的更加完美，各种不完美腿型都能统统隐藏，小个子男生的话可以试试卷起一个裤脚，又潮又显高。',\n",
       "  [('工装裤', 0, 3), ('哈伦裤', 20, 23), ('束脚裤', 25, 28)]),\n",
       " ('【小Q原创】我可不是什么好人中国风个性潮男酷抓绒外衣上衣卫衣领口、袖口、下摆都是罗纹制作的，特别有防风保暖的作用。',\n",
       "  [('上衣', 26, 28)]),\n",
       " ('特别是后面的印花的字，很意思呢，圆领的卫衣很好搭配，单穿也行，里面搭配衬衫来穿也行的，实用性很强。',\n",
       "  [('卫衣', 19, 21), ('衬衫', 35, 37)]),\n",
       " ('浪客行井上雄彦手写书法汉字复刻必胜中国风抓绒卫衣长袖上衣外套一眼就被“必胜”两个字吸引住了，这样的单品回头率很高的哟，纯色的底色也是极易搭配的，防风的罗纹袖口，再冷的冬季也不怕啦。',\n",
       "  [('卫衣', 22, 24), ('上衣', 26, 28)]),\n",
       " ('集云2017冬季新款棉衣加厚棒球领青年外套中国风男装短款棉服男采用大热的棒球领元素制作的这款棉服，胸前的盘扣设计很吸睛，穿搭很潮很保暖。',\n",
       "  [('棉衣', 10, 12), ('外套', 19, 21), ('棉服', 28, 30), ('棉服', 46, 48)]),\n",
       " ('中国风刺绣日系潮牌印花嘻哈胖子加大套头男连帽卫衣潮大码民族风栩栩如生，精致不失个性，波浪印花采用透气印花，即使机洗也不易掉色，经过多重工艺精心制作。',\n",
       "  [('连帽卫衣', 20, 24)]),\n",
       " ('PINLI品立卫衣男圆领男士套头中国风黑色男生外套男潮套头衫男装个性的中国风图案印花设计，版型也是O型宽松的，穿着很有街头潮感，而且很吸睛哦。',\n",
       "  [('卫衣', 7, 9), ('外套', 23, 25)]),\n",
       " ('原创棉麻休闲裤秋季中国风男装修身收脚裤束脚裤长裤子亚麻小脚裤精选柔软厚实的亚麻面料，亲肤舒适，保暖性强，裤脚处为当下流行的收脚设计，剪接合体流畅的版型，大方简单，左右前片，加有中国风刺绣，彰显民族腔调，松紧腰头的设计，使得穿着起来更加合理方便。',\n",
       "  [('休闲裤', 4, 7), ('束脚裤', 19, 22), ('裤子', 23, 25), ('小脚裤', 27, 30)]),\n",
       " ('御寒清单中，少不了一件潮大牌的羽绒服在寒冷萧瑟的秋冬时节，想要带给自己一百分的温暖，还是需要一款靠谱的羽绒棉服哦，轻薄的质地，温软的填充，仿佛可以融化掉所有的不美好，并且可以打破一切的沉寂哦。',\n",
       "  [('羽绒服', 15, 18), ('羽绒', 51, 53)]),\n",
       " ('简约的版型设计更显气场和大牌感，欢迎种草~张大奕2017秋冬新款双面绒长款90鸭绒双层内胆长款挂件羽绒服外套纯色调的款式设计丝毫没有单调感哦，亮点设计是衣身的配件修饰，属于重工打造的，真的潮吸睛耐看的了。',\n",
       "  [('羽绒服', 49, 52)]),\n",
       " ('FFAN泛泛小被子加厚羽绒服女短款2017新款纯色宽松冬季外套两色经典的立领身造型可以很好的凸显气质，面包服的既视感上身穿着效果非常可爱，呈现出满满的青春少女韵味，十分减龄。',\n",
       "  [('羽绒服', 11, 14), ('外套', 29, 31), ('面包服', 51, 54)]),\n",
       " ('西西小可秋冬新款立领短款羽绒棉衣外套女装宽松加厚面包服棉服自带光感属性的丝绒质地，是比较抢眼靓丽的，充满了时尚和科技色彩，袖口和下摆的造型做了较为精细的工艺处理，显得更加见解利落十分干练。',\n",
       "  [('羽绒', 12, 14), ('外套', 16, 18), ('面包服', 24, 27)])]"
      ]
     },
     "execution_count": 129,
     "metadata": {},
     "output_type": "execute_result"
    }
   ],
   "source": [
    "sentences[200:220]"
   ]
  },
  {
   "cell_type": "code",
   "execution_count": 130,
   "metadata": {
    "collapsed": false
   },
   "outputs": [],
   "source": [
    "from collections import Counter"
   ]
  },
  {
   "cell_type": "code",
   "execution_count": 131,
   "metadata": {
    "collapsed": false
   },
   "outputs": [
    {
     "name": "stderr",
     "output_type": "stream",
     "text": [
      "100%|██████████| 64340/64340 [00:00<00:00, 218489.77it/s]\n"
     ]
    }
   ],
   "source": [
    "cate_count = Counter()\n",
    "\n",
    "for s,kws in tqdm(sentences):\n",
    "    cate_count.update([w for w,_,_ in kws])"
   ]
  },
  {
   "cell_type": "code",
   "execution_count": 132,
   "metadata": {
    "collapsed": false
   },
   "outputs": [
    {
     "data": {
      "text/plain": [
       "[('连衣裙', 10559),\n",
       " ('外套', 9909),\n",
       " ('衬衫', 8722),\n",
       " ('卫衣', 6564),\n",
       " ('上衣', 6021),\n",
       " ('毛衣', 5903),\n",
       " ('裙子', 5455),\n",
       " ('牛仔裤', 5345),\n",
       " ('套装', 5316),\n",
       " ('西装', 4444),\n",
       " ('裤子', 4093),\n",
       " ('t恤', 3854),\n",
       " ('针织衫', 3595),\n",
       " ('风衣', 3279),\n",
       " ('阔腿裤', 3248),\n",
       " ('大衣', 3142),\n",
       " ('半身裙', 3126),\n",
       " ('长裙', 2424),\n",
       " ('打底衫', 2390),\n",
       " ('衬衣', 2343),\n",
       " ('内衣', 2288),\n",
       " ('夹克', 1818),\n",
       " ('长裤', 1799),\n",
       " ('九分裤', 1786),\n",
       " ('短裙', 1764),\n",
       " ('牛仔外套', 1735),\n",
       " ('吊带', 1700),\n",
       " ('a字裙', 1563),\n",
       " ('小脚裤', 1355),\n",
       " ('休闲裤', 1350),\n",
       " ('羽绒服', 1305),\n",
       " ('百褶裙', 1274),\n",
       " ('文胸', 1122),\n",
       " ('马甲', 1117),\n",
       " ('棒球服', 1050),\n",
       " ('背带裤', 964),\n",
       " ('白衬衫', 945),\n",
       " ('短裤', 944),\n",
       " ('背心', 912),\n",
       " ('睡衣', 900),\n",
       " ('皮衣', 884),\n",
       " ('西服', 873),\n",
       " ('连帽卫衣', 855),\n",
       " ('哈伦裤', 851),\n",
       " ('吊带裙', 835),\n",
       " ('打底裤', 825),\n",
       " ('喇叭裤', 797),\n",
       " ('针织开衫', 767),\n",
       " ('裙装', 754),\n",
       " ('雪纺连衣裙', 704),\n",
       " ('冬装', 634),\n",
       " ('条纹衬衫', 578),\n",
       " ('羽绒', 569),\n",
       " ('破洞牛仔裤', 541),\n",
       " ('套头卫衣', 536),\n",
       " ('毛呢大衣', 533),\n",
       " ('裤装', 520),\n",
       " ('包臀裙', 520),\n",
       " ('运动裤', 512),\n",
       " ('蕾丝连衣裙', 510),\n",
       " ('短袖t恤', 509),\n",
       " ('套头毛衣', 500),\n",
       " ('直筒裤', 488),\n",
       " ('棉服', 466),\n",
       " ('打底裙', 464),\n",
       " ('衬衫裙', 458),\n",
       " ('棉衣', 450),\n",
       " ('半裙', 438),\n",
       " ('高领毛衣', 437),\n",
       " ('铅笔裤', 437),\n",
       " ('纱裙', 436),\n",
       " ('职业装', 424),\n",
       " ('牛仔裙', 408),\n",
       " ('下装', 398),\n",
       " ('小黑裙', 391),\n",
       " ('西装裤', 385),\n",
       " ('家居服', 376),\n",
       " ('呢大衣', 375),\n",
       " ('紧身裤', 367),\n",
       " ('蓬蓬裙', 336),\n",
       " ('背心裙', 331),\n",
       " ('毛衣外套', 317),\n",
       " ('伞裙', 306),\n",
       " ('西裤', 299),\n",
       " ('帽衫', 292),\n",
       " ('旗袍', 283),\n",
       " ('鱼尾裙', 277),\n",
       " ('礼服', 276),\n",
       " ('皮夹克', 253),\n",
       " ('连体裤', 246),\n",
       " ('飞行员夹克', 240),\n",
       " ('胸罩', 239),\n",
       " ('印花连衣裙', 237),\n",
       " ('束脚裤', 234),\n",
       " ('蕾丝裙', 232),\n",
       " ('毛衫', 227),\n",
       " ('条纹t', 222),\n",
       " ('牛仔短裤', 210),\n",
       " ('皮裙', 203),\n",
       " ('polo衫', 196),\n",
       " ('针织外套', 189),\n",
       " ('牛仔夹克', 187),\n",
       " ('小衫', 182),\n",
       " ('运动套装', 179),\n",
       " ('工装裤', 167),\n",
       " ('雪纺裙', 166),\n",
       " ('婚纱', 161),\n",
       " ('高腰裤', 160),\n",
       " ('抹胸', 157),\n",
       " ('皮裤', 153),\n",
       " ('中裙', 151),\n",
       " ('直筒牛仔裤', 151),\n",
       " ('印花t', 144),\n",
       " ('加绒卫衣', 140),\n",
       " ('面包服', 139),\n",
       " ('a字连衣裙', 135),\n",
       " ('七分裤', 134),\n",
       " ('吊带背心', 126),\n",
       " ('热裤', 123),\n",
       " ('羊毛衫', 122),\n",
       " ('tee', 120),\n",
       " ('白衬衣', 117),\n",
       " ('印花裙', 117),\n",
       " ('泳衣', 113),\n",
       " ('线衣', 112),\n",
       " ('夹克衫', 111),\n",
       " ('马夹', 111),\n",
       " ('职业套装', 108),\n",
       " ('纯色t', 104),\n",
       " ('裙裤', 104),\n",
       " ('比基尼', 101),\n",
       " ('拼接连衣裙', 101),\n",
       " ('机车皮衣', 97),\n",
       " ('收腰连衣裙', 97),\n",
       " ('工装外套', 95),\n",
       " ('校服裤', 93),\n",
       " ('竖条纹衬衫', 91),\n",
       " ('冲锋衣', 90),\n",
       " ('修身连衣裙', 89),\n",
       " ('铅笔裙', 88),\n",
       " ('烟管裤', 86),\n",
       " ('宽松t', 83),\n",
       " ('微喇裤', 83),\n",
       " ('小黑裤', 79),\n",
       " ('锥形裤', 79),\n",
       " ('bra', 78),\n",
       " ('运动外套', 77),\n",
       " ('公主裙', 76),\n",
       " ('卫衣外套', 73),\n",
       " ('包裙', 71),\n",
       " ('长风衣', 71),\n",
       " ('筒裙', 71),\n",
       " ('西服套装', 70),\n",
       " ('长款t', 66),\n",
       " ('筒裤', 64),\n",
       " ('飞行夹克', 64),\n",
       " ('纸袋裤', 62),\n",
       " ('大毛衣', 61),\n",
       " ('黑裙', 60),\n",
       " ('棉马甲', 58),\n",
       " ('短袖t', 57),\n",
       " ('雪纺衬衣', 57),\n",
       " ('蕾丝上衣', 55),\n",
       " ('茄克', 54),\n",
       " ('蛋糕裙', 53),\n",
       " ('灯笼裤', 51),\n",
       " ('机车夹克', 51),\n",
       " ('休闲风衣', 50),\n",
       " ('t恤裙', 50),\n",
       " ('短袖衬衫', 49),\n",
       " ('晚礼服', 49),\n",
       " ('牛仔衬衣', 47),\n",
       " ('格纹西装', 45),\n",
       " ('睡袍', 44),\n",
       " ('背心连衣裙', 44),\n",
       " ('喇叭袖连衣裙', 44),\n",
       " ('裹胸', 42),\n",
       " ('字母t', 41),\n",
       " ('衬衣裙', 41),\n",
       " ('格纹衬衫', 40),\n",
       " ('泳装', 39),\n",
       " ('羊绒衫', 38),\n",
       " ('直筒连衣裙', 38),\n",
       " ('碎花雪纺衫', 37),\n",
       " ('露肩连衣裙', 37),\n",
       " ('连帽羽绒服', 36),\n",
       " ('胸衣', 36),\n",
       " ('礼服裙', 35),\n",
       " ('超短裙', 33),\n",
       " ('棉外套', 32),\n",
       " ('复古连衣裙', 32),\n",
       " ('睡裙', 32),\n",
       " ('吊带衫', 31),\n",
       " ('羽绒马甲', 29),\n",
       " ('鱼尾连衣裙', 28),\n",
       " ('五分裤', 28),\n",
       " ('连身裙', 28),\n",
       " ('无钢圈内衣', 27),\n",
       " ('纯色连衣裙', 27),\n",
       " ('高腰短裤', 27),\n",
       " ('羽绒衣', 24),\n",
       " ('超短裤', 21),\n",
       " ('迷笛裙', 21),\n",
       " ('海魂衫', 20),\n",
       " ('迷你裙', 20),\n",
       " ('一字肩连衣裙', 20),\n",
       " ('胸贴', 20),\n",
       " ('中裤', 20),\n",
       " ('中袖t', 20),\n",
       " ('低腰裤', 19),\n",
       " ('针织t', 19),\n",
       " ('卡其裤', 18),\n",
       " ('沙滩裤', 18),\n",
       " ('刺绣衬衣', 18),\n",
       " ('泳裤', 17),\n",
       " ('婚纱礼服', 15),\n",
       " ('羊毛外套', 15),\n",
       " ('修身t', 15),\n",
       " ('游泳衣', 15),\n",
       " ('短袖衬衣', 15),\n",
       " ('教练夹克', 15),\n",
       " ('裹身裙', 14),\n",
       " ('抹胸裙', 14),\n",
       " ('过膝裙', 14),\n",
       " ('睡裤', 13),\n",
       " ('连体泳衣', 13),\n",
       " ('旗袍裙', 13),\n",
       " ('宽裤', 12),\n",
       " ('婚礼服', 12),\n",
       " ('超长裙', 12),\n",
       " ('牛仔背带连衣裙', 12),\n",
       " ('乳贴', 12),\n",
       " ('绑带连衣裙', 12),\n",
       " ('拉链卫衣', 10),\n",
       " ('及膝裙', 10),\n",
       " ('分体泳衣', 10),\n",
       " ('慢跑裤', 9),\n",
       " ('连身裤', 9),\n",
       " ('经典风衣', 8),\n",
       " ('抹胸连衣裙', 8),\n",
       " ('牛津纺衬衣', 7),\n",
       " ('开衩裙', 7),\n",
       " ('棉麻裙', 7),\n",
       " ('礼裙', 6),\n",
       " ('格纹连衣裙', 6),\n",
       " ('波西米亚连衣裙', 6),\n",
       " ('皮大衣', 5),\n",
       " ('晚装', 5),\n",
       " ('马裤', 5),\n",
       " ('nubra', 5),\n",
       " ('荷叶领雪纺衫', 5),\n",
       " ('小礼服裙', 5),\n",
       " ('校服外套', 5),\n",
       " ('燕尾服', 4),\n",
       " ('打底内衣', 4),\n",
       " ('超长裤', 4),\n",
       " ('羊绒外套', 4),\n",
       " ('文艺棉麻连衣裙', 4),\n",
       " ('简约连衣裙', 4),\n",
       " ('一字领雪纺衫', 4),\n",
       " ('网球裙', 4),\n",
       " ('棉大衣', 3),\n",
       " ('兔毛毛衣', 3),\n",
       " ('娃娃连衣裙', 3),\n",
       " ('拼接雪纺衫', 2),\n",
       " ('凤冠霞帔', 2),\n",
       " ('绣花t', 2),\n",
       " ('马球衫', 2),\n",
       " ('v领显瘦连衣裙', 2),\n",
       " ('学院风套装', 2),\n",
       " ('婚服', 1),\n",
       " ('女衫', 1),\n",
       " ('网球衫', 1),\n",
       " ('高尔夫球衫', 1),\n",
       " ('貂绒外套', 1),\n",
       " ('无袖衬衣', 1),\n",
       " ('newbra', 1)]"
      ]
     },
     "execution_count": 132,
     "metadata": {},
     "output_type": "execute_result"
    }
   ],
   "source": [
    "cate_count.most_common()"
   ]
  },
  {
   "cell_type": "code",
   "execution_count": 133,
   "metadata": {
    "collapsed": true
   },
   "outputs": [],
   "source": [
    "data = sentences + others"
   ]
  },
  {
   "cell_type": "code",
   "execution_count": 134,
   "metadata": {
    "collapsed": true
   },
   "outputs": [],
   "source": [
    "from random import shuffle"
   ]
  },
  {
   "cell_type": "code",
   "execution_count": 135,
   "metadata": {
    "collapsed": false
   },
   "outputs": [],
   "source": [
    "shuffle(data)"
   ]
  },
  {
   "cell_type": "code",
   "execution_count": 136,
   "metadata": {
    "collapsed": false
   },
   "outputs": [
    {
     "data": {
      "text/plain": [
       "84340"
      ]
     },
     "execution_count": 136,
     "metadata": {},
     "output_type": "execute_result"
    }
   ],
   "source": [
    "len(data)"
   ]
  },
  {
   "cell_type": "code",
   "execution_count": 137,
   "metadata": {
    "collapsed": true
   },
   "outputs": [],
   "source": [
    "train = data[:80000]"
   ]
  },
  {
   "cell_type": "code",
   "execution_count": 138,
   "metadata": {
    "collapsed": true
   },
   "outputs": [],
   "source": [
    "train_data = train[:75000]"
   ]
  },
  {
   "cell_type": "code",
   "execution_count": 139,
   "metadata": {
    "collapsed": true
   },
   "outputs": [],
   "source": [
    "dev_data = train[75000:]"
   ]
  },
  {
   "cell_type": "code",
   "execution_count": 140,
   "metadata": {
    "collapsed": true
   },
   "outputs": [],
   "source": [
    "test_data = data[80000:]"
   ]
  },
  {
   "cell_type": "code",
   "execution_count": 141,
   "metadata": {
    "collapsed": false
   },
   "outputs": [
    {
     "data": {
      "text/plain": [
       "75000"
      ]
     },
     "execution_count": 141,
     "metadata": {},
     "output_type": "execute_result"
    }
   ],
   "source": [
    "len(train_data)"
   ]
  },
  {
   "cell_type": "code",
   "execution_count": 142,
   "metadata": {
    "collapsed": false
   },
   "outputs": [
    {
     "data": {
      "text/plain": [
       "5000"
      ]
     },
     "execution_count": 142,
     "metadata": {},
     "output_type": "execute_result"
    }
   ],
   "source": [
    "len(dev_data)"
   ]
  },
  {
   "cell_type": "code",
   "execution_count": 143,
   "metadata": {
    "collapsed": false
   },
   "outputs": [
    {
     "data": {
      "text/plain": [
       "4340"
      ]
     },
     "execution_count": 143,
     "metadata": {},
     "output_type": "execute_result"
    }
   ],
   "source": [
    "len(test_data)"
   ]
  },
  {
   "cell_type": "code",
   "execution_count": 144,
   "metadata": {
    "collapsed": true
   },
   "outputs": [],
   "source": [
    "def write_data(dataset,name='category.ner.train.txt'):\n",
    "    with open(\"/data/xueyou/fashion/data/\"+name,'w') as f:\n",
    "        for s,kws in tqdm(dataset):\n",
    "            tags = ['O'] * len(s)\n",
    "            for w,start,end in kws:\n",
    "                for i in range(start,end):\n",
    "                    tags[i] = 'I-CAT'\n",
    "                tags[start] = 'B-CAT'\n",
    "            for c,t in zip(s,tags):\n",
    "                f.write(\"{0} {1}\\n\".format(c,t))\n",
    "            f.write(\" \\n\")"
   ]
  },
  {
   "cell_type": "code",
   "execution_count": 145,
   "metadata": {
    "collapsed": false
   },
   "outputs": [
    {
     "name": "stderr",
     "output_type": "stream",
     "text": [
      "100%|██████████| 75000/75000 [00:03<00:00, 20886.39it/s]\n"
     ]
    }
   ],
   "source": [
    "write_data(train_data)"
   ]
  },
  {
   "cell_type": "code",
   "execution_count": 146,
   "metadata": {
    "collapsed": false
   },
   "outputs": [
    {
     "name": "stderr",
     "output_type": "stream",
     "text": [
      "100%|██████████| 5000/5000 [00:00<00:00, 20230.58it/s]\n"
     ]
    }
   ],
   "source": [
    "write_data(dev_data,'category.ner.dev.txt')"
   ]
  },
  {
   "cell_type": "code",
   "execution_count": 147,
   "metadata": {
    "collapsed": false
   },
   "outputs": [
    {
     "name": "stderr",
     "output_type": "stream",
     "text": [
      "100%|██████████| 4340/4340 [00:00<00:00, 20282.43it/s]\n"
     ]
    }
   ],
   "source": [
    "write_data(test_data,'category.ner.test.txt')"
   ]
  },
  {
   "cell_type": "code",
   "execution_count": null,
   "metadata": {
    "collapsed": true
   },
   "outputs": [],
   "source": []
  }
 ],
 "metadata": {
  "kernelspec": {
   "display_name": "Python [jason_py3]",
   "language": "python",
   "name": "Python [jason_py3]"
  },
  "language_info": {
   "codemirror_mode": {
    "name": "ipython",
    "version": 3
   },
   "file_extension": ".py",
   "mimetype": "text/x-python",
   "name": "python",
   "nbconvert_exporter": "python",
   "pygments_lexer": "ipython3",
   "version": "3.6.1"
  }
 },
 "nbformat": 4,
 "nbformat_minor": 2
}

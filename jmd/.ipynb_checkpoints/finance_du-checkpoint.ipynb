{
 "cells": [
  {
   "cell_type": "code",
   "execution_count": 115,
   "metadata": {
    "collapsed": false,
    "deletable": true,
    "editable": true
   },
   "outputs": [
    {
     "name": "stderr",
     "output_type": "stream",
     "text": [
      "/opt/anaconda/anaconda3/lib/python3.5/site-packages/simplejson/encoder.py:291: DeprecationWarning: Interpreting naive datetime as local 2018-02-06 17:20:53.137541. Please add timezone info to timestamps.\n",
      "  chunks = self.iterencode(o, _one_shot=True)\n"
     ]
    }
   ],
   "source": [
    "# -*- coding: utf-8 -*-\n",
    "from __future__ import division\n",
    "import pickle\n",
    "import requests\n",
    "\n",
    "import jieba\n",
    "import re\n",
    "import operator\n",
    "import time\n",
    "\n",
    "import eigen_config\n",
    "from simplex import utils, logger\n",
    "from simplex.model import KeyWordClassifier\n",
    "from simplex.utils.finance_util import parse_report\n",
    "\n",
    "class FinancePreprocessV2(object):\n",
    "    '''\n",
    "    财报文章生成V2\n",
    "    - 添加规则辅助生成文章\n",
    "    '''\n",
    "    def __init__(self):\n",
    "#         config = app_config\n",
    "#         self.finance_du_host = config.get(\"finance_du_host\")\n",
    "        self.finance_du_host = \"https://surreal.aidigger.com/api/v1/du/finance\"\n",
    "#         self.version = config.get('version')\n",
    "#         self.reason = config.get('reason')\n",
    "        self.reason = ['原因', '因为', '因此']\n",
    "        #mode = 'article' or 'full'\n",
    "        self.mode = 'article'\n",
    "        \n",
    "        self.labels = ['导语', '业绩变动原因', '主营业务$业务进展', '未来计划', 'other']\n",
    "        self.labelmap = {\n",
    "                         '导语': ['导语','意图_企业基本信息介绍_企业基本信息介绍', '意图_企业活动_公司公告信息', '意图_企业业绩_现状偏好', '意图_企业业绩_现状偏坏'],\n",
    "                         '业绩变动原因': ['意图_企业业绩_业绩变动原因'],\n",
    "                         '主营业务$业务进展': ['意图_企业业务_业务介绍', '意图_企业业务_业务规模', '意图_企业业务_业务规划'],\n",
    "                         '未来计划': ['意图_企业业务_业务前景', '意图_企业业绩_前景偏好','意图_企业业绩_前景偏坏'],\n",
    "                         'other': ['其他', '意图_评论_风险提示','意图_评论_投资建议', '意图_评论_盈利预测', '意图_企业活动_人事活动', '意图_企业活动_融资活动','意图_企业活动_投资活动']\n",
    "                        }\n",
    "        self.labelmapR = {}\n",
    "        for key, value in self.labelmap.items():\n",
    "            for v in value:\n",
    "                self.labelmapR[v] = key\n",
    "    \n",
    "    def _get_features_from_du_host(self, docs):\n",
    "        '''\n",
    "        根据docs，返回其预测的类别及概率\n",
    "        '''\n",
    "        try:\n",
    "            ret = requests.post(self.finance_du_host, json = docs, timeout = 30)\n",
    "        except requests.ReadTimeout:\n",
    "            print('Timeout')\n",
    "            logger.warning(\"Time out when try to get finance docs features\")\n",
    "            return []\n",
    "        if ret.status_code == 200:\n",
    "            return ret.json()\n",
    "        \n",
    "    def get_features(self, docs):\n",
    "        \"\"\"\n",
    "        20一组调用分类api\n",
    "        \"\"\"\n",
    "        batch_size = 20\n",
    "        batch = []\n",
    "        results = []\n",
    "        for doc in docs:\n",
    "            batch.append(doc)\n",
    "            if len(batch) == batch_size:\n",
    "                ret = self._get_features_from_du_host(batch)\n",
    "                if ret:\n",
    "                    results.extend(ret)\n",
    "                batch = []\n",
    "        if len(batch) != 0:\n",
    "            ret = self._get_features_from_du_host(batch)\n",
    "            if ret:\n",
    "                results.extend(ret)\n",
    "        return results\n",
    "    \n",
    "    def _match(self, pattern, lst):\n",
    "        l = ''.join(lst)\n",
    "        for p in pattern:\n",
    "            if p in l:\n",
    "                return True\n",
    "        return False\n",
    "\n",
    "    def _isReason(self, text):\n",
    "        for r in self.reason:\n",
    "            if r in text:\n",
    "                return True\n",
    "        return False\n",
    "    \n",
    "    def _intentMap(self, predict):\n",
    "        \"\"\"\n",
    "        将现有意图映射到芥末堆所给的意图上去, 并将权重求和\n",
    "        return:\n",
    "            {content1: {intent1: prob1, intent2: prob2}, content2: ...}\n",
    "        \"\"\"\n",
    "        intent = {x['content']: x['features']['intents'] for x in predict}\n",
    "        for key, value in intent.items():\n",
    "            intent[key] = {x['name']: x['prob'] for x in value}\n",
    "            result = {}\n",
    "            for l in self.labels:\n",
    "                result[l] = 0\n",
    "            for k in intent[key].keys():\n",
    "                result[self.labelmapR[k]] += intent[key][k]\n",
    "            intent[key] = result\n",
    "        return intent\n",
    "    \n",
    "    def _getParabyIntent(self, docs, itt, num, threshold = 0.5):\n",
    "        \"\"\"\n",
    "        返回给定意图概率（>threshold）前num的文本，\n",
    "        \"\"\"\n",
    "        intent = self._intentMap(docs)\n",
    "        intentL = {}\n",
    "        for l in self.labels:\n",
    "            intentL[l] = {}\n",
    "        for k, v in intent.items():\n",
    "            for i, p in v.items():\n",
    "                intentL[i][k] = p\n",
    "        for i in intentL.keys():\n",
    "            intentL[i] = sorted(intentL[i].items(), key=operator.itemgetter(1))\n",
    "        return [p[0] for p in intentL[itt][-num:] if (p[1] > threshold)]\n",
    "\n",
    "    def _getPara(self, match, style, paragraphs, filter_headline = True, crap = None):\n",
    "        \"\"\"\n",
    "        给定条件，返回符合条件的段落。\n",
    "        \"\"\"\n",
    "        paras_raw = [p for p in paragraphs if p['name'] == style \n",
    "                if p['parents'] if self._match(match, p['parents'])\n",
    "                if not p['content'].startswith('公司是否需要')]\n",
    "        paras = [p['content'] for p in paras_raw]\n",
    "        if crap is not None:\n",
    "            index = len(paras)\n",
    "            indexcontent = ''\n",
    "            flag = False\n",
    "            for i in range(len(paras)):\n",
    "                for parent in paras_raw[i]['parents']:\n",
    "                    if crap in parent:\n",
    "                        indexcontent = paras_raw[i]['content']\n",
    "                        flag = True\n",
    "                if flag is True:\n",
    "                    break\n",
    "            if indexcontent != '':\n",
    "                index = paras.index(indexcontent)\n",
    "            paras = paras[0:index]\n",
    "            paras_raw = paras_raw[0:index]\n",
    "        if not filter_headline:\n",
    "            for i, p in enumerate(paras_raw):\n",
    "                if not p['parents'][0] in paras:\n",
    "                    index = paras.index(p['content'])\n",
    "                    paras.insert(index, p['parents'][0])\n",
    "        return paras\n",
    "\n",
    "    def _filter_text(self, text):\n",
    "        if '商业模式' in text and '未发生' in text:\n",
    "            return True\n",
    "        if '年度内变化统计' in text:\n",
    "            return True\n",
    "        if len(text) <= 15:\n",
    "            return True\n",
    "        if u'□' in text or u'√' in text:\n",
    "            return True\n",
    "        return False\n",
    "        \n",
    "        \n",
    "    def extractFromRow(self, row, changeIndex = 3):\n",
    "        try:\n",
    "            num = float(row[1]['text'].strip('）元 ').replace(',', ''))\n",
    "        except:\n",
    "            return '__', '__'\n",
    "        income = ''\n",
    "        change = ''\n",
    "        if num >= 100000000:\n",
    "            income = str(round(num / 100000000, 2)) + '亿元'\n",
    "        else:\n",
    "            income = str(round(num / 10000, 2)) + '万元'\n",
    "        if '-' in row[changeIndex]['text']:\n",
    "            change = '减少' + row[changeIndex]['text'].strip('%- ') + '%'\n",
    "        else:\n",
    "            change = '增长' + row[changeIndex]['text'].strip('% ') + '%'\n",
    "        return income, change\n",
    "\n",
    "        \n",
    "    def _getLeadLanguage(self, table, finance_type, companyname, year, quarter):\n",
    "        localtime = time.localtime(time.time()) \n",
    "        finance_data = {'营业收入': '', '营业收入变动': '', '净利润': '', '净利润变动': '', '总资产': ''}\n",
    "        profit_type = {'hushen': '归属于上市公司股东的净利润', 'xsb': '归属于挂牌公司股东的净利润'}\n",
    "        quarter_map = {'1': '第一季度', '2': '半年度', '3': '第三季度', '4': '年度'}\n",
    "        if len(table) <= 1:\n",
    "            return companyname + year + quarter_map[quarter] + '财报', []\n",
    "        changeIndex = 3\n",
    "        for t in table:\n",
    "            for i in range(len(t)):\n",
    "                if '增减' in t[i]['text']:\n",
    "                    changeIndex = i\n",
    "            if '营业收入' in t[0]['text'] or '收入（元）' in t[0]['text']:\n",
    "                finance_data['营业收入'], finance_data['营业收入变动'] = self.extractFromRow(t, changeIndex)\n",
    "            elif '归属于上市公司股东的净利润' in t[0]['text'] or '归属于挂牌公司股东的净利润' == t[0]['text'].strip():\n",
    "                finance_data['净利润'], finance_data['净利润变动'] = self.extractFromRow(t, changeIndex)\n",
    "            elif '总资产' in t[0]['text'] or '资产总' in t[0]['text']:\n",
    "                finance_data['总资产'], _ = self.extractFromRow(t)\n",
    "        ll = '芥末堆' + str(localtime.tm_mon) + '月' + str(localtime.tm_mday) + '日讯，近日，' + companyname + '发布' + year + '年' + quarter_map[quarter] + '报告， 报告期内，' + companyname +  '营业收入为' + finance_data['营业收入'] + '， 同比' + finance_data['营业收入变动'] + '， ' + profit_type[finance_type] + '为'  +  finance_data['净利润'] + '， 同比' + finance_data['净利润变动'] + '。'\n",
    "        title = companyname + year + quarter_map[quarter] + '财报: 营收' + finance_data['营业收入'] + '，净利润' + finance_data['净利润']\n",
    "        if finance_data['总资产'] == '':\n",
    "            return title, [ll]\n",
    "        else:\n",
    "            ll = ll + '截至报告期末，' + companyname + '总资产' + finance_data['总资产'] + '。'\n",
    "            return title, [ll]    \n",
    "        \n",
    "    def _get_reason(self, finance_type, style, paragraphs, mode = None):\n",
    "        '''根据finance_type({'hushen', 'xinsanban'})和style({'season', 'year'}，目前只做year), \n",
    "        返回由规则及模型生成的 *业绩变动原因* 意图段落\n",
    "        return type: list(str)\n",
    "        '''\n",
    "        #A股规则\n",
    "        if finance_type == 'hushen':\n",
    "            if style == 'year':\n",
    "#                 paras_raw = [{'content': p} for p in self._getPara(['经营情况讨论与分析'], 'Paragraph', paragraphs)]\n",
    "#                 headline_raw = [{'content': p} for p in self._getPara(['、概述'], 'Headline', paragraphs)]\n",
    "#                 docs = self.get_features(paras_raw)\n",
    "#                 paras = self._getParabyIntent(docs, '业绩变动原因', 2)\n",
    "                paras = [p for p in self._getPara(['经营情况讨论与分析'], 'Paragraph', paragraphs)\n",
    "                     if ('营业收入' in p or '净利润' in p) and self._isReason(p)\n",
    "                     if not self._filter_text(p)]\n",
    "                return paras\n",
    "            else:\n",
    "                paras = [p['content'] for p in paragraphs if self._match(['变动的情况及原因'], p['parents']) \n",
    "                         if '营业收入' in p['content'] or '净利润' in p['content'] or '主营业务收入' in p['content']]\n",
    "                return paras\n",
    "        #新三板规则\n",
    "        else:\n",
    "            paras = [p['content'] for p in paragraphs if p['name'] == 'Paragraph' \n",
    "                     if ('营业收入' in p['content'] or '净利润' in p['content']) and \n",
    "                     self._isReason(p['content'])]\n",
    "            return paras\n",
    "    \n",
    "    def _get_mainB(self, finance_type, style, paragraphs, mode = None):\n",
    "        if finance_type == 'hushen':\n",
    "            if style == 'year':\n",
    "                paras = self._getPara(['从事的主要业务'], 'Paragraph', paragraphs)\n",
    "                if mode == 'article':\n",
    "                    if len(paras) > 0:\n",
    "                        return [paras[0]]\n",
    "                    else:\n",
    "                        return []\n",
    "                else:\n",
    "                    return paras\n",
    "            else:\n",
    "                return []\n",
    "        else:\n",
    "            paras = self._getPara(['商业模式'], 'Paragraph', paragraphs)\n",
    "            paras = [p for p in paras if not self._filter_text(p)]\n",
    "            return paras\n",
    "    \n",
    "    def _get_BProgress(self, finance_type, style, paragraphs, mode = None):\n",
    "        if finance_type == 'hushen':\n",
    "            if style == 'year':\n",
    "                if mode == 'article':\n",
    "#                     paras1_raw = [{'content': p} for p in self._getPara(['核心竞争力分析'], 'Paragraph', paragraphs)]\n",
    "#                     paras1 = self._getParabyIntent(self.get_features(paras1_raw), '主营业务$业务进展', 2)\n",
    "#                     paras2_raw = [{'content': p} for p in self._getPara(['、概述', '经营情况的讨论与分析'], 'Paragraph', paragraphs)]\n",
    "#                     paras2 = self._getParabyIntent(self.get_features(paras2_raw), '主营业务$业务进展', 2)\n",
    "#                     paras = paras1 + paras2\n",
    "#                     return \n",
    "                    # paras1_raw = [{'content': p} for p in self._getPara(['核心竞争力分析'], 'Paragraph', paragraphs)]\n",
    "                    # paras1 = self._getParabyIntent(self.get_features(paras1_raw), '主营业务$业务进展', 2)\n",
    "                    paras2_raw = [{'content': p} for p in self._getPara(['、概述', '经营情况的讨论与分析'], 'Paragraph', paragraphs)]\n",
    "                    # paras2 = self._getParabyIntent(self.get_features(paras2_raw), '主营业务$业务进展', 2)\n",
    "                    # paras = paras1 + paras2\n",
    "                    paras2 = self.get_features(paras2_raw)\n",
    "                    paras2_intent = [{x['content']: x['features']['intents']} for x in paras2]\n",
    "                    paras2_intent = [{x: {z['name']: z['prob'] for z in y} for x, y in p.items()} for p in paras2_intent]\n",
    "                    paras2_intent = [{x: sorted(y.items(), key = operator.itemgetter(1))[-1][0] for x, y in p.items()} for p in paras2_intent]\n",
    "                    paras = [x for p in paras2_intent for x, y in p.items() if y != '其他']\n",
    "                    if len(paras) >= 3:\n",
    "                        return paras[:3]\n",
    "                    else:\n",
    "                        return paras\n",
    "                else:\n",
    "                    paras1 = [p['content'] for p in self._getPara(['核心竞争力分析'], 'Paragraph', paragraphs)]\n",
    "                    paras2 = [p['content'] for p in self._getPara(['、概述', '经营情况的讨论与分析'], 'Paragraph', paragraphs)]\n",
    "                    return paras1 + ['\\n'] + paras2\n",
    "            else:\n",
    "                return []\n",
    "        else:\n",
    "            paras = self._getPara(['经营情况', '总体回顾'], 'Paragraph', paragraphs, filter_headline = False, crap = '主营业务分析')\n",
    "            paras = [p for p in paras if not self._filter_text(p) if not self._isReason(p)]\n",
    "            return paras\n",
    "    \n",
    "    def _get_future(self, finance_type, style, paragraphs, mode = None):\n",
    "        if finance_type == 'hushen':\n",
    "            if style == 'year':\n",
    "                return self._getPara(['经营计划', '发展计划', '经营工作计划', '经营管理计划', '发展战略'], 'Paragraph', paragraphs)\n",
    "            else:\n",
    "                return []\n",
    "        else:\n",
    "            paras = self._getPara(['发展战略', '经营计划'], 'Paragraph', paragraphs)\n",
    "            return paras\n",
    "    \n",
    "        \n",
    "    def feature_process(self, item):\n",
    "        '''处理财报pdf，解析为段落，标注意图\n",
    "        Args:\n",
    "            item: 原始财报pdf内容，应该包括\n",
    "                - pdf_id: id\n",
    "                - year: 年份\n",
    "                - quarter: 季度\n",
    "                - name：股票名称\n",
    "                - code：股票代码\n",
    "                - finance_type： hushen 和 xsb 两种类型\n",
    "                - pubdate： 发布日期\n",
    "                - url：财报链接\n",
    "                - tables： 表格数据， json string\n",
    "                - paragraphs： 段落数据，json string\n",
    "        return：\n",
    "            article：\n",
    "                根据paragraphs生成的文章\n",
    "        '''\n",
    "        if item['paragraphs'] is None:\n",
    "            paragraphs = []\n",
    "        elif type(item['paragraphs']) == str:\n",
    "            paragraphs = json.loads(item['paragraphs'])\n",
    "        else:\n",
    "            paragraphs = item['paragraphs']\n",
    "        \n",
    "        if item['tables'] is None:\n",
    "            tables = []\n",
    "        elif type(item['tables']) == str:\n",
    "            tables = json.loads(item['tables'])\n",
    "        else:\n",
    "            tables = item['tables']\n",
    "\n",
    "        finance_type = item['finance_type']\n",
    "        quarter = item['quarter']\n",
    "        companyname = item['name']\n",
    "\n",
    "        table = [t['body'] for t in tables if t['name'] == 'finance-main']\n",
    "        if len(table) != 0:\n",
    "            table = table[0]\n",
    "\n",
    "        year = item['year']\n",
    "        style = 'year'\n",
    "        if int(quarter) == 1 or int(quarter) == 3:\n",
    "            style = 'season'\n",
    "        #获取导语\n",
    "        title, ll = self._getLeadLanguage(table, finance_type, companyname, str(year), str(quarter))\n",
    "        #获取业绩变动原因段落\n",
    "        reason = self._get_reason(finance_type, style, paragraphs, self.mode)\n",
    "        #获取主营业务段落\n",
    "        mainB = self._get_mainB(finance_type, style, paragraphs, self.mode)\n",
    "        #获取业务进展段落\n",
    "        BProgress = self._get_BProgress(finance_type, style, paragraphs, self.mode)\n",
    "        #获取未来计划段落\n",
    "        future = self._get_future(finance_type, style, paragraphs, self.mode)\n",
    "        result = {'标题': title,'导语': ll, '业绩变动原因': reason, '主营业务': mainB, '业务进展': BProgress, '未来计划': future}       \n",
    "        for key in ['业绩变动原因', '主营业务', '业务进展', '未来计划']:\n",
    "            for i in range(len(result[key])):\n",
    "                result[key][i] = result[key][i].replace('公司', companyname)\n",
    "        return result"
   ]
  },
  {
   "cell_type": "code",
   "execution_count": 24,
   "metadata": {
    "collapsed": true,
    "deletable": true,
    "editable": true
   },
   "outputs": [
    {
     "data": {
      "text/plain": [
       "[[{'text': ' ', 'width': '158.45'},\n",
       "  {'text': '本报告期 ', 'width': '104.54'},\n",
       "  {'text': '上年同期 ', 'width': '104.52'},\n",
       "  {'text': '本报告期比上年同期增减', 'width': '104.43'}],\n",
       " [{'text': '营业总收入（元） ', 'width': '158.45'},\n",
       "  {'text': '305,935,911.04', 'width': '106.1'},\n",
       "  {'text': ' 186,380,346.17', 'width': '106.08'},\n",
       "  {'text': ' 64.15', 'width': '104.43'}],\n",
       " [{'text': '归属于上市公司股东的净利润（元） ', 'width': '158.45'},\n",
       "  {'text': '23,848,749.03', 'width': '106.1'},\n",
       "  {'text': ' 12,270,430.65', 'width': '106.08'},\n",
       "  {'text': ' 94.36', 'width': '104.43'}],\n",
       " [{'text': '归属于上市公司股东的扣除非经常性损益的净利润（元） ', 'width': '158.45'},\n",
       "  {'text': '18,880,993.26', 'width': '104.54'},\n",
       "  {'text': ' 10,172,159.87', 'width': '104.52'},\n",
       "  {'text': ' 85.61', 'width': '104.43'}],\n",
       " [{'text': '经营活动产生的现金流量净额（元） ', 'width': '158.45'},\n",
       "  {'text': '-265,341,423.61', 'width': '106.1'},\n",
       "  {'text': ' -67,155,653.66', 'width': '106.08'},\n",
       "  {'text': ' -295.11', 'width': '104.43'}],\n",
       " [{'text': '基本每股收益（元/股） ', 'width': '158.45'},\n",
       "  {'text': '0.0273', 'width': '106.1'},\n",
       "  {'text': ' 0.0179', 'width': '106.08'},\n",
       "  {'text': ' 52.51', 'width': '104.43'}],\n",
       " [{'text': '稀释每股收益（元/股） ', 'width': '158.45'},\n",
       "  {'text': '0.0273', 'width': '106.1'},\n",
       "  {'text': ' 0.0179', 'width': '106.08'},\n",
       "  {'text': ' 52.51', 'width': '104.43'}],\n",
       " [{'text': '加权平均净资产收益率 ', 'width': '158.45'},\n",
       "  {'text': '0.44', 'width': '104.54'},\n",
       "  {'text': ' 0.70', 'width': '104.52'},\n",
       "  {'text': ' -0.26', 'width': '104.43'}],\n",
       " [{'text': ' ', 'width': '158.45'},\n",
       "  {'text': '本报告期末 ', 'width': '104.54'},\n",
       "  {'text': '上年度末 ', 'width': '104.52'},\n",
       "  {'text': '本报告期末比上年度末增减 ', 'width': '104.43'}],\n",
       " [{'text': '总资产（元） ', 'width': '158.45'},\n",
       "  {'text': '7,404,615,771.60', 'width': '106.1'},\n",
       "  {'text': ' 7,585,793,010.97', 'width': '106.08'},\n",
       "  {'text': ' -2.39', 'width': '104.43'}],\n",
       " [{'text': '归属于上市公司股东的净资产（元） ', 'width': '158.45'},\n",
       "  {'text': '5,399,896,057.60', 'width': '106.1'},\n",
       "  {'text': ' 5,375,152,530.17', 'width': '106.08'},\n",
       "  {'text': ' 0.46', 'width': '104.43'}]]"
      ]
     },
     "execution_count": 24,
     "metadata": {},
     "output_type": "execute_result"
    },
    {
     "name": "stderr",
     "output_type": "stream",
     "text": [
      "/opt/anaconda/anaconda3/lib/python3.5/site-packages/simplejson/encoder.py:291: DeprecationWarning: Interpreting naive datetime as local 2018-02-05 10:40:36.791319. Please add timezone info to timestamps.\n",
      "  chunks = self.iterencode(o, _one_shot=True)\n"
     ]
    }
   ],
   "source": [
    "[t['body'] for t in items[3]['tables'] if t['name'] == 'finance-main'][0]"
   ]
  },
  {
   "cell_type": "code",
   "execution_count": 62,
   "metadata": {
    "collapsed": false
   },
   "outputs": [
    {
     "name": "stdout",
     "output_type": "stream",
     "text": [
      "[{'name': 'finance-main', 'body': [[{'text': ' ', 'width': '158.45'}, {'text': '本报告期 ', 'width': '104.54'}, {'text': '上年同期 ', 'width': '104.52'}, {'text': '本报告期比上年同期增减', 'width': '104.43'}], [{'text': '营业总收入（元） ', 'width': '158.45'}, {'text': '305,935,911.04', 'width': '106.1'}, {'text': ' 186,380,346.17', 'width': '106.08'}, {'text': ' 64.15', 'width': '104.43'}], [{'text': '归属于上市公司股东的净利润（元） ', 'width': '158.45'}, {'text': '23,848,749.03', 'width': '106.1'}, {'text': ' 12,270,430.65', 'width': '106.08'}, {'text': ' 94.36', 'width': '104.43'}], [{'text': '归属于上市公司股东的扣除非经常性损益的净利润（元） ', 'width': '158.45'}, {'text': '18,880,993.26', 'width': '104.54'}, {'text': ' 10,172,159.87', 'width': '104.52'}, {'text': ' 85.61', 'width': '104.43'}], [{'text': '经营活动产生的现金流量净额（元） ', 'width': '158.45'}, {'text': '-265,341,423.61', 'width': '106.1'}, {'text': ' -67,155,653.66', 'width': '106.08'}, {'text': ' -295.11', 'width': '104.43'}], [{'text': '基本每股收益（元/股） ', 'width': '158.45'}, {'text': '0.0273', 'width': '106.1'}, {'text': ' 0.0179', 'width': '106.08'}, {'text': ' 52.51', 'width': '104.43'}], [{'text': '稀释每股收益（元/股） ', 'width': '158.45'}, {'text': '0.0273', 'width': '106.1'}, {'text': ' 0.0179', 'width': '106.08'}, {'text': ' 52.51', 'width': '104.43'}], [{'text': '加权平均净资产收益率 ', 'width': '158.45'}, {'text': '0.44', 'width': '104.54'}, {'text': ' 0.70', 'width': '104.52'}, {'text': ' -0.26', 'width': '104.43'}], [{'text': ' ', 'width': '158.45'}, {'text': '本报告期末 ', 'width': '104.54'}, {'text': '上年度末 ', 'width': '104.52'}, {'text': '本报告期末比上年度末增减 ', 'width': '104.43'}], [{'text': '总资产（元） ', 'width': '158.45'}, {'text': '7,404,615,771.60', 'width': '106.1'}, {'text': ' 7,585,793,010.97', 'width': '106.08'}, {'text': ' -2.39', 'width': '104.43'}], [{'text': '归属于上市公司股东的净资产（元） ', 'width': '158.45'}, {'text': '5,399,896,057.60', 'width': '106.1'}, {'text': ' 5,375,152,530.17', 'width': '106.08'}, {'text': ' 0.46', 'width': '104.43'}]]}]\n"
     ]
    },
    {
     "name": "stderr",
     "output_type": "stream",
     "text": [
      "/opt/anaconda/anaconda3/lib/python3.5/site-packages/simplejson/encoder.py:291: DeprecationWarning: Interpreting naive datetime as local 2018-02-05 17:47:09.801510. Please add timezone info to timestamps.\n",
      "  chunks = self.iterencode(o, _one_shot=True)\n"
     ]
    }
   ],
   "source": [
    "print(json.loads(items[3]['tables']))"
   ]
  },
  {
   "cell_type": "code",
   "execution_count": 73,
   "metadata": {
    "collapsed": false,
    "deletable": true,
    "editable": true
   },
   "outputs": [
    {
     "name": "stdout",
     "output_type": "stream",
     "text": [
      "http://disclosure.szse.cn/finalpage/2017-04-26/1203387778.PDF\n",
      "<class 'str'>\n",
      "{'业绩变动原因': ['1、本期主营业务收入为30,593.59万元，上年同期为18,638.03万元，增长64.15%，主要是因为立思辰主'], '主营业务': [], '导语': ['芥末堆2月5日讯，近日，立思辰发布2017年第一季度报告， 报告期内，立思辰营业收入为3.06亿元， 同比增长64.15%， 归属于上市公司股东的净利润为2384.87万元， 同比增长94.36%。截至报告期末，立思辰总资产74.05亿元。'], '业务进展': [], '未来计划': []}\n"
     ]
    },
    {
     "name": "stderr",
     "output_type": "stream",
     "text": [
      "/opt/anaconda/anaconda3/lib/python3.5/site-packages/simplejson/encoder.py:291: DeprecationWarning: Interpreting naive datetime as local 2018-02-05 17:54:27.168551. Please add timezone info to timestamps.\n",
      "  chunks = self.iterencode(o, _one_shot=True)\n"
     ]
    }
   ],
   "source": [
    "fin_A_bnb = FinancePreprocessV2()\n",
    "print(items[3]['url'])\n",
    "print(type(items[3]['quarter']))\n",
    "print(fin_A_bnb.feature_process(items[3]))"
   ]
  },
  {
   "cell_type": "code",
   "execution_count": 286,
   "metadata": {
    "collapsed": false,
    "deletable": true,
    "editable": true
   },
   "outputs": [
    {
     "data": {
      "text/plain": [
       "['1、本期主营业务收入为30,593.59万元，上年同期为18,638.03万元，增长64.15%，主要是因为公司主']"
      ]
     },
     "execution_count": 286,
     "metadata": {},
     "output_type": "execute_result"
    },
    {
     "name": "stderr",
     "output_type": "stream",
     "text": [
      "/opt/anaconda/anaconda3/lib/python3.5/site-packages/simplejson/encoder.py:291: DeprecationWarning: Interpreting naive datetime as local 2018-01-30 14:23:46.745563. Please add timezone info to timestamps.\n",
      "  chunks = self.iterencode(o, _one_shot=True)\n"
     ]
    }
   ],
   "source": [
    "paras = [p['content'] for p in items[3]['paragraphs'] if fin_A_bnb._match(['变动的情况及原因'], p['parents']) \n",
    "         if '营业收入' in p['content'] or '净利润' in p['content'] or '主营业务收入' in p['content']]\n",
    "# para = [p['content'] for p in items[3]['paragraphs'] if '本期主营业务收入']\n",
    "paras"
   ]
  },
  {
   "cell_type": "code",
   "execution_count": 116,
   "metadata": {
    "collapsed": false,
    "deletable": true,
    "editable": true
   },
   "outputs": [
    {
     "name": "stdout",
     "output_type": "stream",
     "text": [
      "{'业绩变动原因': [], '导语': ['芥末堆2月6日讯，近日，立思辰发布2017年半年度报告， 报告期内，立思辰营业收入为6.81亿元， 同比增长35.71%， 归属于上市公司股东的净利润为3496.11万元， 同比增长15.62%。截至报告期末，立思辰总资产73.77亿元。'], '业务进展': ['2017 年上半年，立思辰管理层紧密围绕年初制定的经营计划，贯彻立思辰的战略部署，坚持积极进取，强化协同整合，各项经营任务稳步推进，为实现全年的经营目标奠定了坚实的基础。报告期内，立思辰实现营业收入 68,077.05 万元，比上年同期增长 35.71%；实现归属于上市立思辰股东的净利润 3,496.11 万元，比上年同期增长 15.62%；归属于上市立思辰股东的扣除非经常性损益后的净利润 3,072.40 万元，比上年同期增长15.49%。', '2017 年度是立思辰发布并实施新教育战略的开局之年，立思辰秉承“以科技和人文改变教育”的历史使命，坚持“做大智慧教育，做强教育服务，做精未来学校，做实教育生态”的发展路径，利用科技手段打通校内校外、线上线下、国内国外的学习场景，让学生们高效学习、快乐成长，最终实现“激发成就亿万青少年”的宏伟愿景。报告期内，立思辰成立智慧教育、教学服务、学习服务三大事业群，充分整合资源并继续深入推动“智慧教育+教育服务”的双轮驱动策略，巩固既有优势并扩大市场，立思辰教育业务上半年实现营业收入31,532.37 万元，同比增长 47.54%，目前立思辰在手的教育业务订单金额超过 7 亿元。', '立思辰扎根教育行业多年，经过坚持不懈的市场推广，业务在全国广泛铺开，尤其在北京地区经过多年来的深耕细作，充分赢得了客户的信任，与部分学校形成了长期稳定的合作关系。在保持原有各地市场领先的同时，立思辰加快渠道建设，积极开拓各地市场，报告期内，立思辰于北京怀柔、张家口、保定、石家庄、沧州、青岛、乌鲁木齐、成都、玉溪、福州、太原、济南、南京等地新建分支机构，极大的促进了立思辰各项业务在更多地市的落地推进。截至报告期末，立思辰智慧教育业务已累计进入 27 个省、16000 余所学校、累计覆盖 2100 多万中小学生。立思辰教育服务业务也在全国各地全面展开，立思辰“教育云规模化应用项目”已完成 9 个区域单独培训，其中包括：嘉兴、上犹、福州、昭通、新疆克拉玛依、伊犁、昌吉、乌苏、河北沧州；完成片区培训 3 场，包括大足、福州、陕西；下半年将继续通过区域培训、区域竞赛等多种方式开展项目。报告期内，立思辰开展“全国百所学校高考升学规划讲座公益行”，已组织 40 场次的进校讲座，覆盖辽宁、黑龙江、吉林、河北、宁夏、安徽、天津等省市，为立思辰升学规划服务业务的开展打下了良好的基础。'], '未来计划': [], 'title': '立思辰2017半年度财报: 营收6.81亿元，净利润3496.11万元', '主营业务': ['立思辰主营业务分教育与信息安全两大业务，教育业务主要产品包括面向 B 端用户的区域教育云平台、智慧校园整体解决方案、K12 领域的学科应用产品等以及面向 C 端用户的高考升学咨询服务、留学咨询服务、线上辅导等；信息安全业务主要为客户提供围绕数据全生命周期的数据安全解决方案、工控安全产品及解决方案、面向多行业的自主可控产品及解决方案等。']}\n"
     ]
    },
    {
     "name": "stderr",
     "output_type": "stream",
     "text": [
      "/opt/anaconda/anaconda3/lib/python3.5/site-packages/simplejson/encoder.py:291: DeprecationWarning: Interpreting naive datetime as local 2018-02-06 17:21:01.080567. Please add timezone info to timestamps.\n",
      "  chunks = self.iterencode(o, _one_shot=True)\n"
     ]
    }
   ],
   "source": [
    "fin_A_bnb = FinancePreprocessV2()\n",
    "print(fin_A_bnb.feature_process(items[0]))"
   ]
  },
  {
   "cell_type": "code",
   "execution_count": 96,
   "metadata": {
    "collapsed": false
   },
   "outputs": [
    {
     "name": "stdout",
     "output_type": "stream",
     "text": [
      "300010_2017_2 hushen\n",
      "839264_2016_4 xsb\n",
      "300010_2016_4 hushen\n",
      "300010_2017_1 hushen\n",
      "839264_2017_2 xsb\n",
      "300010_2017_3 hushen\n"
     ]
    },
    {
     "name": "stderr",
     "output_type": "stream",
     "text": [
      "/opt/anaconda/anaconda3/lib/python3.5/site-packages/simplejson/encoder.py:291: DeprecationWarning: Interpreting naive datetime as local 2018-02-06 16:41:30.799804. Please add timezone info to timestamps.\n",
      "  chunks = self.iterencode(o, _one_shot=True)\n"
     ]
    }
   ],
   "source": [
    "for i in items:\n",
    "    print (i['pdf_id'], i['finance_type'])"
   ]
  },
  {
   "cell_type": "code",
   "execution_count": 110,
   "metadata": {
    "collapsed": false,
    "deletable": true,
    "editable": true,
    "scrolled": true
   },
   "outputs": [
    {
     "name": "stderr",
     "output_type": "stream",
     "text": [
      "/opt/anaconda/anaconda3/lib/python3.5/site-packages/simplejson/encoder.py:291: DeprecationWarning: Interpreting naive datetime as local 2018-02-06 17:03:23.020571. Please add timezone info to timestamps.\n",
      "  chunks = self.iterencode(o, _one_shot=True)\n"
     ]
    }
   ],
   "source": [
    "intents = ['导语', '业绩变动原因', '主营业务', '业务进展', '未来计划']\n",
    "processor = FinancePreprocessV2()\n",
    "for intent in intents:\n",
    "    A_bnb = ''\n",
    "    res = processor.feature_process(items[4])\n",
    "    for intent in intents:\n",
    "        for content in res[intent]:\n",
    "            A_bnb += content + '\\n'\n",
    "\n"
   ]
  },
  {
   "cell_type": "code",
   "execution_count": 111,
   "metadata": {
    "collapsed": false
   },
   "outputs": [
    {
     "name": "stdout",
     "output_type": "stream",
     "text": [
      "http://www.cninfo.com.cn/finalpage/2017-08-21/1203841042.PDF\n",
      "芥末堆2月6日讯，近日，世纪明德发布2017年半年度报告， 报告期内，世纪明德营业收入为1.22亿元， 同比增长48.52%， 归属于挂牌公司股东的净利润为1109.54万元， 同比增长42.95%。截至报告期末，世纪明德总资产3.92亿元。\n",
      "（1）报告期，营业收入增长的主要原因是：报告期内行业政策进一步开放，世纪明德国内研学、国际\n",
      "游学及教师培训等主营业务均稳步增长；上半年世纪明德继续加强游学课程研发，增加了课程数量，丰富了\n",
      "游学课程内容，提升了服务品质，同时通过品牌的大力推广及市场开发方面的大力投入，使得营业收入\n",
      "继续稳定增长。\n",
      "（3）报告期内，世纪明德净利润增长的原因是：2017  年上半年经营收入的稳定增长，世纪明德对供应链的\n",
      "不断整合以及内部控制的加强，期间费用的年均增长速度低于营业毛利的年均增长速度，使得营业利润\n",
      "增长了 40.03%；日常资金的有效管理，使得投资收益增增长率高达 108.95%。\n",
      "2）经营活动产生的现金流量净额同比增长  60,927,325.28  元，较上年同期增加的主要原因是:  报告\n",
      "期内，世纪明德丰富产品种类、大力发展销售业务，世纪明德业务收入较上年同期增长  48.52%，客户数量大幅\n",
      "增长，世纪明德营业收入增加，导致经营活动产生的现金流量净额大幅增长。\n",
      "世纪明德为游学服务商龙头企业，为 3 至 18 岁青少年提供国内研学、国际游学、夏冬令营服务；为广\n",
      "大教育工作者提供教师培训、教育论坛服务。业务涵盖游学产品研发、销售推广、业务接待和后续服务\n",
      "全套流程。\n",
      "世纪明德的研学产品，将青少年的成长和收获置于产品价值的首要位置。报告期内，世纪明德继续加大产品\n",
      "课程设计的投入，以研学主题、研学课程、研学导师、研学基地、研学线路、安全管理六大要素为基础，\n",
      "以学生为中心，以课程为核心，以接待为关键，寓教于游，用一种知识整合的形式将各种学科内容的传\n",
      "授和实践能力的培养融入到研学活动之中。\n",
      "世纪明德的教师培训业务主要为教育工作者提供学习交流论坛。通过了解客户对于教育培训方面的需\n",
      "求，为客户定制一整套培训方案，包括设计培训内容、邀请知名教育专家，安排培训场地、交通食宿等。\n",
      "世纪明德为客户提供的教育培训是基于世纪明德在教育领域的长期运作经验，常年积累的教育领域专家、学者资\n",
      "源。报告期内，中国教育明德论坛相继在各地举办，取得了良好的社会效益和经济效益。\n",
      "得益于世纪明德快速的研发能力，世纪明德的服务流程进一步升级。基于完善的整体化、综合化和数据化的\n",
      "信息管理系统，各部门进行采购管理、产品研发、销售推广、团队运作、后续跟踪等一站式操作。世纪明德\n",
      "秉承战略升级方针，持续加强游学产品的研发巩固领先优势，不断优化接待流程体系提高服务质量，通\n",
      "过客户高度的满意度体现企业核心竞争实力，达成业绩确定性的目标，最终实现综合性的素质教育集团\n",
      "这一长远战略目标。\n",
      "1.主要财务指标分析 \n",
      "1）报告期内，世纪明德实现营业收入  121,841,407.75 元，较上年同期上升  48.52%；实现净利润11,193,494.96 元，同比上升 46.36%；世纪明德营业成本为  89,972,805.82 元，同比增长  61.58%。\n",
      "2.经营情况回顾 \n",
      "上半年，世纪明德正式进入新三板创新层。 \n",
      "在研学政策持续向好的环境下，世纪明德坚守“教育+旅游”的战略定位，抓紧“产品研发、市场布局”\n",
      "两条业务主线，游学业务稳步增长，品牌影响逐渐扩大。报告期内，世纪明德加大对外投资力度，在重要的\n",
      "国内游学目的地新设立了 4 家全资子世纪明德，并对业绩优异的控股或参股的世纪明德追加了投资，集团化效应\n",
      "初显。此外，世纪明德开始布局营地建设，与陕西省地方政府合作共同开发的营地已经开始筹建。营地建设\n",
      "是世纪明德未来发展计划中重点推进的项目，世纪明德将通过营地的建设与运营管理，与政府、教育局、学校等\n",
      "深度合作，引领营地教育行业的发展，进一步助力青少年的成长。报告期内，世纪明德各业务板块业绩均达\n",
      "到预期目标。\n",
      "（1）加强产品研发投入，定制路线百花齐放 \n",
      "课程设计是研学旅行的重要组成部分及核心竞争力之一。报告期内，聚焦产品研发，新增的研学路\n",
      "线全面开花。世纪明德从年级、主题、目的地三个方面为核心，逐步增强课程、路线、住房、餐饮、车辆等\n",
      "接待服务的灵活性，更进一步满足客户的独特化需求。此外，明德在线 app 全面上线，规范工作再迈入\n",
      "新台阶，明德接待升级为明德服务。\n",
      "（2）开展品牌推广活动，持续助力教育发展 \n",
      "2017 年 4 月 8 日，世纪明德在兰州成功举办了“2017‘一带一路’中国西部基础教育改革与发展论坛”，\n",
      "来自甘肃全省以及周边省份的局长、校长等一线教育工作者参加了此次论坛。此次论坛的举办，教育界\n",
      "的工作者们汇聚兰州，济济一堂，深入交流，分享资源和经验，为促进西部基础教育改革和发展作出了\n",
      "积极的贡献。\n",
      "此外，世纪明德还举办了研学旅行课程设计交流会以及全国征文大赛等活动，以 APP 为原点，联动官网、\n",
      "官方微信、微博、贴吧等平台综合发布，打造研学之声矩阵，明德品牌宣传全资源覆盖，进一步宣扬“研\n",
      "学旅行在中国”，为促进素质教育的不断深入和落实发挥出推动的力量。\n",
      "（3）深耕细作主营业务，接待业绩再创新高 \n",
      "报告期内，世纪明德从产品、销售、地域、时间四个维度进行业务拓展，保持业绩强势增长的势头，进\n",
      "一步凸显行业龙头绝对性的优势。具体措施为加大新产品开发力度、销售团队扩编及细化管理、深耕已\n",
      "有合作渠道及开发空白城市、学期中研学旅行拓展。2017 业务年度接待量再创新高，国际营业绩大放异\n",
      "彩。\n",
      "借助政策红利，越来越多的城市开始启动中小学研学旅行试点工作，将研学旅行正式纳入教学教育\n",
      "计划。游学业务不再仅仅局限于寒暑假期中。同时，越来越多的著名景区成为世纪明德战略合作伙伴，相应\n",
      "推出“研学旅游”优惠政策，为研学旅行团提供绿色通道，并在餐饮、 门票、住房等方面提供优惠。\n",
      "（4）巩固健全安全管理，安全机制全面升级 \n",
      "安全是游学的基础服务保障，没有安全，就没有游学。报告期内，世纪明德加强安全管理的建设与监控。\n",
      "接待过程中，世纪明德安全中心、应急处理小组时刻待命，安全基金、安全预案、各种形式的安全提示愈加\n",
      "完善。世纪明德做到了在每个出行的团队里都配备小安全员，协助队医和志愿者进行安全管理并及时反馈可\n",
      "能出现的安全隐患。小安全员行动，安全带每日提醒，安全信息每日播报，安全提示每日宣传，为营员\n",
      "的安全出行提供了全方位的安全保障。\n",
      "\n"
     ]
    },
    {
     "name": "stderr",
     "output_type": "stream",
     "text": [
      "/opt/anaconda/anaconda3/lib/python3.5/site-packages/simplejson/encoder.py:291: DeprecationWarning: Interpreting naive datetime as local 2018-02-06 17:03:27.314504. Please add timezone info to timestamps.\n",
      "  chunks = self.iterencode(o, _one_shot=True)\n"
     ]
    }
   ],
   "source": [
    "print(items[4]['url'])\n",
    "print(A_bnb)"
   ]
  },
  {
   "cell_type": "code",
   "execution_count": null,
   "metadata": {
    "collapsed": false,
    "deletable": true,
    "editable": true
   },
   "outputs": [],
   "source": [
    "fin_xsb_bnb = FinancePreprocessV2()\n",
    "print(items[4]['url'])\n",
    "print(fin_xsb_bnb.feature_process(items[4])['业务进展'])"
   ]
  },
  {
   "cell_type": "code",
   "execution_count": 298,
   "metadata": {
    "collapsed": false,
    "deletable": true,
    "editable": true
   },
   "outputs": [
    {
     "name": "stdout",
     "output_type": "stream",
     "text": [
      "True\n"
     ]
    },
    {
     "name": "stderr",
     "output_type": "stream",
     "text": [
      "/opt/anaconda/anaconda3/lib/python3.5/site-packages/simplejson/encoder.py:291: DeprecationWarning: Interpreting naive datetime as local 2018-01-30 14:36:01.180362. Please add timezone info to timestamps.\n",
      "  chunks = self.iterencode(o, _one_shot=True)\n"
     ]
    }
   ],
   "source": [
    "fin_xsb_nb = FinancePreprocessV2()\n",
    "docs = fin_xsb_nb.feature_process(items[1])\n",
    "text1 = '''1.营业收入：报告期较上年同期增长 56.52%，主要原因系：（1）市场环境向好：国家研学旅行政策\n",
    "不断落地，政策环境向好，市场需求大增，客户人数增长迅速；（2）产品线丰富：报告期间世纪明德加强了国\n",
    "内研学、国际游学、社会实践以及教师培训产品的研发，产品可以覆盖更大客户群，可以为存量客户提供\n",
    "更多的产品服务内容；（3）市场开拓方面，世纪明德制定积极的销售政策，重点突破市场薄弱区域，客户范围\n",
    "不断扩大。重点突破春秋季研学旅行市场，从客户参营时间上进行延展，从一年中寒暑假的游学旺季拓展\n",
    "为全年旺季。'''\n",
    "print(text1 in docs)"
   ]
  },
  {
   "cell_type": "code",
   "execution_count": null,
   "metadata": {
    "collapsed": false,
    "deletable": true,
    "editable": true
   },
   "outputs": [],
   "source": [
    "item = items[1]['paragraphs']\n",
    "[i for i in item if i['name'] == 'Paragraph' if fin._match(['总体回顾'], i['parents'])]"
   ]
  },
  {
   "cell_type": "code",
   "execution_count": 279,
   "metadata": {
    "collapsed": false,
    "deletable": true,
    "editable": true
   },
   "outputs": [
    {
     "name": "stdout",
     "output_type": "stream",
     "text": [
      "http://disclosure.szse.cn/finalpage/2017-04-26/1203387778.PDF\n",
      "300010_2017_1\n"
     ]
    },
    {
     "name": "stderr",
     "output_type": "stream",
     "text": [
      "/opt/anaconda/anaconda3/lib/python3.5/site-packages/simplejson/encoder.py:291: DeprecationWarning: Interpreting naive datetime as local 2018-01-30 14:14:09.717339. Please add timezone info to timestamps.\n",
      "  chunks = self.iterencode(o, _one_shot=True)\n"
     ]
    }
   ],
   "source": [
    "print(items[3]['url'])\n",
    "print(items[3]['pdf_id'])\n",
    "[p['content'] for p in items[3]['paragraphs'] if p[]]"
   ]
  },
  {
   "cell_type": "code",
   "execution_count": 93,
   "metadata": {
    "collapsed": false,
    "deletable": true,
    "editable": true,
    "scrolled": true
   },
   "outputs": [
    {
     "name": "stderr",
     "output_type": "stream",
     "text": [
      "/opt/anaconda/anaconda3/lib/python3.5/site-packages/simplejson/encoder.py:291: DeprecationWarning: Interpreting naive datetime as local 2018-02-06 16:39:31.819958. Please add timezone info to timestamps.\n",
      "  chunks = self.iterencode(o, _one_shot=True)\n"
     ]
    }
   ],
   "source": [
    "import json\n",
    "itemlist = ['000001_0', '000004_0', '000006_0']\n",
    "keys = ['pdf_id', 'year', 'quarter', 'name', 'code', 'finance_type', 'pubdate', 'url', 'tables', 'paragraphs']\n",
    "items = []\n",
    "for item in itemlist:\n",
    "    f = open('/data/xueyou/finance/pdf_content_test/' + item)\n",
    "    for line in f:\n",
    "        data = line.split('\\x01')\n",
    "        tmp = {}\n",
    "        for i, key in enumerate(keys):\n",
    "            tmp[key] = data[i]\n",
    "        items.append(tmp)\n",
    "    f.close()"
   ]
  },
  {
   "cell_type": "code",
   "execution_count": 277,
   "metadata": {
    "collapsed": false,
    "deletable": true,
    "editable": true
   },
   "outputs": [
    {
     "name": "stderr",
     "output_type": "stream",
     "text": [
      "/opt/anaconda/anaconda3/lib/python3.5/site-packages/simplejson/encoder.py:291: DeprecationWarning: Interpreting naive datetime as local 2018-01-29 14:56:50.715807. Please add timezone info to timestamps.\n",
      "  chunks = self.iterencode(o, _one_shot=True)\n"
     ]
    }
   ],
   "source": [
    "with open('/data/share/items.pkl', 'wb') as pickle_file:\n",
    "    pickle.dump(items, pickle_file)"
   ]
  },
  {
   "cell_type": "code",
   "execution_count": 278,
   "metadata": {
    "collapsed": false,
    "deletable": true,
    "editable": true
   },
   "outputs": [
    {
     "data": {
      "text/plain": [
       "dict_keys(['quarter', 'url', 'year', 'finance_type', 'pubdate', 'name', 'code', 'pdf_id', 'paragraphs', 'tables'])"
      ]
     },
     "execution_count": 278,
     "metadata": {},
     "output_type": "execute_result"
    },
    {
     "name": "stderr",
     "output_type": "stream",
     "text": [
      "/opt/anaconda/anaconda3/lib/python3.5/site-packages/simplejson/encoder.py:291: DeprecationWarning: Interpreting naive datetime as local 2018-01-29 14:57:50.969544. Please add timezone info to timestamps.\n",
      "  chunks = self.iterencode(o, _one_shot=True)\n"
     ]
    }
   ],
   "source": [
    "f = open('/data/share/items.pkl', 'rb')\n",
    "import pickle\n",
    "items_ = pickle.load(f)\n",
    "items_[0].keys()"
   ]
  },
  {
   "cell_type": "code",
   "execution_count": 37,
   "metadata": {
    "collapsed": false,
    "deletable": true,
    "editable": true
   },
   "outputs": [
    {
     "name": "stderr",
     "output_type": "stream",
     "text": [
      "/opt/anaconda/anaconda3/lib/python3.5/site-packages/simplejson/encoder.py:291: DeprecationWarning: Interpreting naive datetime as local 2018-01-26 17:23:56.036668. Please add timezone info to timestamps.\n",
      "  chunks = self.iterencode(o, _one_shot=True)\n"
     ]
    }
   ],
   "source": [
    "labels = ['导语', '业绩变动原因', '主营业务$业务进展', '未来计划', 'other']\n",
    "labelmap = {\n",
    "                 '导语': ['导语','意图_企业基本信息介绍_企业基本信息介绍', '意图_企业活动_公司公告信息', '意图_企业业绩_现状偏好', '意图_企业业绩_现状偏坏'],\n",
    "                 '业绩变动原因': ['意图_企业业绩_业绩变动原因'],\n",
    "                 '主营业务$业务进展': ['意图_企业业务_业务介绍', '意图_企业业务_业务规模', '意图_企业业务_业务规划'],\n",
    "                 '未来计划': ['意图_企业业务_业务前景', '意图_企业业绩_前景偏好','意图_企业业绩_前景偏坏'],\n",
    "                 'other': ['其他', '意图_评论_风险提示','意图_评论_投资建议', '意图_评论_盈利预测', '意图_企业活动_人事活动', '意图_企业活动_融资活动','意图_企业活动_投资活动']\n",
    "                }\n",
    "labelmapR = {}\n",
    "for key, value in labelmap.items():\n",
    "    for v in value:\n",
    "        labelmapR[v] = key"
   ]
  },
  {
   "cell_type": "code",
   "execution_count": 389,
   "metadata": {
    "collapsed": false,
    "deletable": true,
    "editable": true
   },
   "outputs": [
    {
     "name": "stdout",
     "output_type": "stream",
     "text": [
      "[{'立思辰教育秉承“以科技和人文改变教育”的历史使命，坚持“做大智慧教育，做强教育服务，做精未来\\n学校，做实教育生态”的发展路径，利用科技手段打通校内校外、线上线下、国内国外的学习场景，让学生\\n们高效学习、快乐成长，最终实现“激发成就亿万青少年”的宏伟愿景。': '意图_企业业务_业务介绍'}, {'老鼠开的房间啊手动阀': '意图_评论_风险提示'}]\n",
      "['立思辰教育秉承“以科技和人文改变教育”的历史使命，坚持“做大智慧教育，做强教育服务，做精未来\\n学校，做实教育生态”的发展路径，利用科技手段打通校内校外、线上线下、国内国外的学习场景，让学生\\n们高效学习、快乐成长，最终实现“激发成就亿万青少年”的宏伟愿景。', '老鼠开的房间啊手动阀']\n"
     ]
    },
    {
     "name": "stderr",
     "output_type": "stream",
     "text": [
      "/opt/anaconda/anaconda3/lib/python3.5/site-packages/simplejson/encoder.py:291: DeprecationWarning: Interpreting naive datetime as local 2018-01-31 16:22:50.240493. Please add timezone info to timestamps.\n",
      "  chunks = self.iterencode(o, _one_shot=True)\n"
     ]
    }
   ],
   "source": [
    "import operator\n",
    "def intentMap(predict):\n",
    "        \"\"\"\n",
    "        将现有意图映射到芥末堆所给的意图上去, 并将权重求和\n",
    "        \"\"\"\n",
    "        result = {}\n",
    "        for l in labels:\n",
    "            result[l] = 0\n",
    "        for key in predict.keys():\n",
    "            result[labelmapR[key]] += predict[key]\n",
    "        return result       \n",
    "    \n",
    "def getParabyIntent(docs, itt, num, threshold = 0.5):\n",
    "    intent = {x['content']: x['features']['intents'] for x in docs}\n",
    "    for key, value in intent.items():\n",
    "        intent[key] = {x['name']: x['prob'] for x in value}\n",
    "        intent[key] = intentMap(intent[key])\n",
    "    intentL = {}\n",
    "    for l in labels:\n",
    "        intentL[l] = {}\n",
    "    for k, v in intent.items():\n",
    "        for i, p in v.items():\n",
    "            intentL[i][k] = p\n",
    "    for i in intentL.keys():\n",
    "        intentL[i] = sorted(intentL[i].items(), key=operator.itemgetter(1))\n",
    "    return [p[0] for p in intentL[itt][-num:] if (p[1] > threshold)]\n",
    "import requests\n",
    "text = [{'content':'''立思辰教育秉承“以科技和人文改变教育”的历史使命，坚持“做大智慧教育，做强教育服务，做精未来\n",
    "学校，做实教育生态”的发展路径，利用科技手段打通校内校外、线上线下、国内国外的学习场景，让学生\n",
    "们高效学习、快乐成长，最终实现“激发成就亿万青少年”的宏伟愿景。'''}, {'content': '老鼠开的房间啊手动阀'}]\n",
    "query = requests.post(\"https://surreal.aidigger.com/api/v1/du/finance\",json=text).json()\n",
    "predict = query\n",
    "# print(predict)\n",
    "paras2_intent = [{x['content']: x['features']['intents']} for x in predict]\n",
    "paras2_intent = [{x: {z['name']: z['prob'] for z in y} for x, y in p.items()} for p in paras2_intent]\n",
    "paras2_intent = [{x: sorted(y.items(), key = operator.itemgetter(1))[-1][0] for x, y in p.items()} for p in paras2_intent]\n",
    "print(paras2_intent)\n",
    "paras = [x for p in paras2_intent for x, y in p.items() ]\n",
    "print(paras)\n",
    "# print(sorted({'意图_企业业务_业务介绍': 0.47018682423239766, '意图_企业活动_人事活动': 0.0009334563805220739}, key = operator.itemgetter(1)))"
   ]
  },
  {
   "cell_type": "code",
   "execution_count": null,
   "metadata": {
    "collapsed": false,
    "deletable": true,
    "editable": true
   },
   "outputs": [],
   "source": [
    "paragraphs = items[1]['paragraphs']\n",
    "paras_raw = [p for p in paragraphs if p['name'] == 'Paragraph' \n",
    "                if p['parents'] if fin_xsb_bnb._match(['总体回顾'], p['parents'])\n",
    "                if not p['content'].startswith('公司是否需要')]\n",
    "paras = [p['content'] for p in paras_raw]\n",
    "\n",
    "index = len(paras)\n",
    "indexcontent = ''\n",
    "flag = False\n",
    "for i in range(len(paras)):\n",
    "    for parent in paras_raw[i]['parents']:\n",
    "        if '主营业务分析' in parent:\n",
    "            indexcontent = paras_raw[i]['content']\n",
    "            flag = True\n",
    "    if flag is True:\n",
    "        break\n",
    "if indexcontent != '':\n",
    "    index = paras.index(indexcontent)\n",
    "paras = paras[0:index]\n",
    "paras_raw = paras_raw[0:index]\n",
    "print(paras_raw[:5])\n",
    "for p in paras:\n",
    "    print(p)\n",
    "    print ('-')"
   ]
  },
  {
   "cell_type": "code",
   "execution_count": 395,
   "metadata": {
    "collapsed": false,
    "deletable": true,
    "editable": true
   },
   "outputs": [
    {
     "data": {
      "text/plain": [
       "[[1, 2], [3, 4], [4, 5]]"
      ]
     },
     "execution_count": 395,
     "metadata": {},
     "output_type": "execute_result"
    },
    {
     "name": "stderr",
     "output_type": "stream",
     "text": [
      "/opt/anaconda/anaconda3/lib/python3.5/site-packages/simplejson/encoder.py:291: DeprecationWarning: Interpreting naive datetime as local 2018-01-31 19:38:34.445476. Please add timezone info to timestamps.\n",
      "  chunks = self.iterencode(o, _one_shot=True)\n"
     ]
    }
   ],
   "source": [
    "a = [[1,2], [4,5], [3,4]]\n",
    "sorted(a, key = operator.itemgetter(1))"
   ]
  },
  {
   "cell_type": "code",
   "execution_count": 75,
   "metadata": {
    "collapsed": false
   },
   "outputs": [
    {
     "data": {
      "text/plain": [
       "False"
      ]
     },
     "execution_count": 75,
     "metadata": {},
     "output_type": "execute_result"
    },
    {
     "name": "stderr",
     "output_type": "stream",
     "text": [
      "/opt/anaconda/anaconda3/lib/python3.5/site-packages/simplejson/encoder.py:291: DeprecationWarning: Interpreting naive datetime as local 2018-02-05 18:40:40.968004. Please add timezone info to timestamps.\n",
      "  chunks = self.iterencode(o, _one_shot=True)\n"
     ]
    }
   ],
   "source": [
    "type([1,2]) != list"
   ]
  },
  {
   "cell_type": "code",
   "execution_count": null,
   "metadata": {
    "collapsed": true
   },
   "outputs": [],
   "source": []
  }
 ],
 "metadata": {
  "anaconda-cloud": {},
  "kernelspec": {
   "display_name": "anaconda3",
   "language": "python",
   "name": "anaconda3"
  },
  "language_info": {
   "codemirror_mode": {
    "name": "ipython",
    "version": 3
   },
   "file_extension": ".py",
   "mimetype": "text/x-python",
   "name": "python",
   "nbconvert_exporter": "python",
   "pygments_lexer": "ipython3",
   "version": "3.5.2"
  }
 },
 "nbformat": 4,
 "nbformat_minor": 2
}

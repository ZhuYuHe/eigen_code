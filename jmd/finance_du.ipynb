{
 "cells": [
  {
   "cell_type": "code",
   "execution_count": 288,
   "metadata": {
    "collapsed": false,
    "deletable": true,
    "editable": true
   },
   "outputs": [
    {
     "name": "stderr",
     "output_type": "stream",
     "text": [
      "/opt/anaconda/anaconda3/lib/python3.5/site-packages/simplejson/encoder.py:291: DeprecationWarning: Interpreting naive datetime as local 2018-01-30 14:28:52.902394. Please add timezone info to timestamps.\n",
      "  chunks = self.iterencode(o, _one_shot=True)\n"
     ]
    }
   ],
   "source": [
    "# -*- coding: utf-8 -*-\n",
    "from __future__ import division\n",
    "import pickle\n",
    "import requests\n",
    "\n",
    "import jieba\n",
    "import re\n",
    "import operator\n",
    "\n",
    "import eigen_config\n",
    "from simplex import utils, logger\n",
    "from simplex.model import KeyWordClassifier\n",
    "from simplex.utils.finance_util import parse_report\n",
    "\n",
    "class FinancePreprocessV2(object):\n",
    "    '''\n",
    "    财报文章生成V2\n",
    "    - 添加规则辅助生成文章\n",
    "    '''\n",
    "    def __init__(self):\n",
    "#         config = app_config\n",
    "#         self.finance_du_host = config.get(\"finance_du_host\")\n",
    "        self.finance_du_host = \"https://surreal.aidigger.com/api/v1/du/finance\"\n",
    "#         self.version = config.get('version')\n",
    "        \n",
    "        self.labels = ['导语', '业绩变动原因', '主营业务$业务进展', '未来计划', 'other']\n",
    "        self.labelmap = {\n",
    "                         '导语': ['导语','意图_企业基本信息介绍_企业基本信息介绍', '意图_企业活动_公司公告信息', '意图_企业业绩_现状偏好', '意图_企业业绩_现状偏坏'],\n",
    "                         '业绩变动原因': ['意图_企业业绩_业绩变动原因'],\n",
    "                         '主营业务$业务进展': ['意图_企业业务_业务介绍', '意图_企业业务_业务规模', '意图_企业业务_业务规划'],\n",
    "                         '未来计划': ['意图_企业业务_业务前景', '意图_企业业绩_前景偏好','意图_企业业绩_前景偏坏'],\n",
    "                         'other': ['其他', '意图_评论_风险提示','意图_评论_投资建议', '意图_评论_盈利预测', '意图_企业活动_人事活动', '意图_企业活动_融资活动','意图_企业活动_投资活动']\n",
    "                        }\n",
    "        self.labelmapR = {}\n",
    "        for key, value in self.labelmap.items():\n",
    "            for v in value:\n",
    "                self.labelmapR[v] = key\n",
    "    \n",
    "    def _get_features_from_du_host(self, docs):\n",
    "        '''\n",
    "        根据docs，返回其预测的类别及概率\n",
    "        '''\n",
    "        try:\n",
    "            ret = requests.post(self.finance_du_host, json = docs, timeout = 30)\n",
    "        except requests.ReadTimeout:\n",
    "            print('Timeout')\n",
    "            logger.warning(\"Time out when try to get finance docs features\")\n",
    "            return []\n",
    "        if ret.status_code == 200:\n",
    "            return ret.json()\n",
    "        \n",
    "    def get_features(self, docs):\n",
    "        \"\"\"\n",
    "        20一组调用分类api\n",
    "        \"\"\"\n",
    "        batch_size = 20\n",
    "        batch = []\n",
    "        results = []\n",
    "        for doc in docs:\n",
    "            batch.append(doc)\n",
    "            if len(batch) == batch_size:\n",
    "                ret = self._get_features_from_du_host(batch)\n",
    "                if ret:\n",
    "                    results.extend(ret)\n",
    "                batch = []\n",
    "        if len(batch) != 0:\n",
    "            ret = self._get_features_from_du_host(batch)\n",
    "            if ret:\n",
    "                results.extend(ret)\n",
    "        return results\n",
    "    \n",
    "    def _match(self, pattern, lst):\n",
    "        for l in lst:\n",
    "            for p in pattern:\n",
    "                if p in l:\n",
    "                    return True\n",
    "        return False\n",
    "    \n",
    "    def _intentMap(self, predict):\n",
    "        \"\"\"\n",
    "        将现有意图映射到芥末堆所给的意图上去, 并将权重求和\n",
    "        \"\"\"\n",
    "        result = {}\n",
    "        for l in self.labels:\n",
    "            result[l] = 0\n",
    "        for key in predict.keys():\n",
    "            result[self.labelmapR[key]] += predict[key]\n",
    "        return result       \n",
    "    \n",
    "    def _getParabyIntent(self, docs, itt, num, threshold = 0.5):\n",
    "        \"\"\"\n",
    "        返回给定意图概率（>threshold）前num的文本，\n",
    "        \"\"\"\n",
    "        intent = {x['content']: x['features']['intents'] for x in docs}\n",
    "        for key, value in intent.items():\n",
    "            intent[key] = {x['name']: x['prob'] for x in value}\n",
    "            intent[key] = self._intentMap(intent[key])\n",
    "        intentL = {}\n",
    "        for l in self.labels:\n",
    "            intentL[l] = {}\n",
    "        for k, v in intent.items():\n",
    "            for i, p in v.items():\n",
    "                intentL[i][k] = p\n",
    "        for i in intentL.keys():\n",
    "            intentL[i] = sorted(intentL[i].items(), key=operator.itemgetter(1))\n",
    "        return [p[0] for p in intentL[itt][-num:] if (p[1] > threshold)]\n",
    "    \n",
    "    def _getPara(self, match, style, paragraphs, filter_headline = True, crap = None):\n",
    "        \"\"\"\n",
    "        给定条件，返回符合条件的段落。\n",
    "        \"\"\"\n",
    "        paras_raw = [p for p in paragraphs if p['name'] == style \n",
    "                if p['parents'] if self._match(match, p['parents'])\n",
    "                if not p['content'].startswith('公司是否需要')]\n",
    "        paras = [p['content'] for p in paras_raw]\n",
    "        if not crap is None:\n",
    "            index = len(paras)\n",
    "            indexcontent = ''\n",
    "            flag = False\n",
    "            for i in range(len(paras)):\n",
    "                for parent in paras_raw[i]['parents']:\n",
    "                    if crap in parent:\n",
    "                        indexcontent = paras_raw[i]['content']\n",
    "                        flag = True\n",
    "                if flag is True:\n",
    "                    break\n",
    "            if indexcontent != '':\n",
    "                index = paras.index(indexcontent)\n",
    "            paras = paras[0:index]\n",
    "            paras_raw = paras_raw[0:index]\n",
    "        if not filter_headline:\n",
    "            for i, p in enumerate(paras_raw):\n",
    "                if not p['parents'][0] in paras:\n",
    "                    index = paras.index(p['content'])\n",
    "                    paras.insert(index, p['parents'][0])\n",
    "        return paras\n",
    "\n",
    "    def _filter_text(self, text):\n",
    "        if '商业模式' in text and '未发生' in text:\n",
    "            return True\n",
    "        if '年度内变化统计' in text:\n",
    "            return True\n",
    "        if len(text) <= 15:\n",
    "            return True\n",
    "        if u'□' in text or u'√' in text:\n",
    "            return True\n",
    "        return False    \n",
    "        \n",
    "    def _get_reason(self, finance_type, style, paragraphs, mode = None):\n",
    "        '''根据finance_type({'hushen', 'xinsanban'})和style({'season', 'year'}，目前只做year), \n",
    "        返回由规则及模型生成的 *业绩变动原因* 意图段落\n",
    "        return type: list(str)\n",
    "        '''\n",
    "        #A股规则\n",
    "        if finance_type == 'hushen':\n",
    "            if style == 'year':\n",
    "#                 paras_raw = [{'content': p} for p in self._getPara(['经营情况讨论与分析'], 'Paragraph', paragraphs)]\n",
    "#                 headline_raw = [{'content': p} for p in self._getPara(['、概述'], 'Headline', paragraphs)]\n",
    "#                 docs = self.get_features(paras_raw)\n",
    "#                 paras = self._getParabyIntent(docs, '业绩变动原因', 2)\n",
    "                paras = [p for p in self._getPara(['经营情况讨论与分析'], 'Paragraph', paragraphs)\n",
    "                     if ('营业收入' in p or '净利润' in p) and \n",
    "                     ('原因' in p or '因为' in p or '因此' in p) if not self._filter_text(p)]\n",
    "                return paras\n",
    "            else:\n",
    "                paras = [p['content'] for p in paragraphs if self._match(['变动的情况及原因'], p['parents']) \n",
    "                         if '营业收入' in p['content'] or '净利润' in p['content'] or '主营业务收入' in p['content']]\n",
    "                return paras\n",
    "        #新三板规则\n",
    "        else:\n",
    "            paras = [p['content'] for p in paragraphs if p['name'] == 'Paragraph' \n",
    "                     if ('营业收入' in p['content'] or '净利润' in p['content']) and \n",
    "                     ('原因' in p['content'] or '因为' in p['content'] or '因此' in p['content'])]\n",
    "            return paras\n",
    "    \n",
    "    def _get_mainB(self, finance_type, style, paragraphs, mode = None):\n",
    "        if finance_type == 'hushen':\n",
    "            if style == 'year':\n",
    "                paras = self._getPara(['从事的主要业务'], 'Paragraph', paragraphs)\n",
    "                return [paras[0]]\n",
    "            else:\n",
    "                return []\n",
    "        else:\n",
    "            paras = self._getPara(['商业模式'], 'Paragraph', paragraphs)\n",
    "            paras = [p for p in paras if not self._filter_text(p)]\n",
    "            return paras\n",
    "    \n",
    "    def _get_BProgress(self, finance_type, style, paragraphs, mode = None):\n",
    "        if finance_type == 'hushen':\n",
    "            if style == 'year':\n",
    "                paras1_raw = [{'content': p} for p in self._getPara(['核心竞争力分析'], 'Paragraph', paragraphs)]\n",
    "                paras1 = self._getParabyIntent(self.get_features(paras1_raw), '主营业务$业务进展', 2)\n",
    "                paras2_raw = [{'content': p} for p in self._getPara(['、概述', '经营情况的讨论与分析'], 'Paragraph', paragraphs)]\n",
    "                paras2 = self._getParabyIntent(self.get_features(paras2_raw), '主营业务$业务进展', 2)\n",
    "                paras = paras1 + paras2\n",
    "                return paras\n",
    "            else:\n",
    "                return []\n",
    "        else:\n",
    "            paras = self._getPara(['经营情况', '总体回顾'], 'Paragraph', paragraphs, filter_headline = False, crap = '主营业务分析')\n",
    "            paras = [p for p in paras if not self._filter_text(p) if not '原因' in p or '因为' in p or '因此' in p]\n",
    "            return paras\n",
    "    \n",
    "    def _get_future(self, finance_type, style, paragraphs, mode = None):\n",
    "        if finance_type == 'hushen':\n",
    "            if style == 'year':\n",
    "                return self._getPara(['经营计划', '发展计划', '经营工作计划', '经营管理计划', '发展战略'], 'Paragraph', paragraphs)\n",
    "            else:\n",
    "                return []\n",
    "        else:\n",
    "            paras = self._getPara(['发展战略', '经营计划'], 'Paragraph', paragraphs)\n",
    "            return paras\n",
    "    \n",
    "        \n",
    "    def feature_process(self, item):\n",
    "        '''处理财报pdf，解析为段落，标注意图\n",
    "        Args:\n",
    "            item: 原始财报pdf内容，应该包括\n",
    "                - pdf_id: id\n",
    "                - year: 年份\n",
    "                - quarter: 季度\n",
    "                - name：股票名称\n",
    "                - code：股票代码\n",
    "                - finance_type： hushen 和 xsb 两种类型\n",
    "                - pubdate： 发布日期\n",
    "                - url：财报链接\n",
    "                - tables： 表格数据， json string\n",
    "                - paragraphs： 段落数据，json string\n",
    "        return：\n",
    "            article：\n",
    "                根据paragraphs生成的文章\n",
    "        '''\n",
    "        finance_type = item['finance_type']\n",
    "        quarter = item['quarter']\n",
    "        paragraphs = item['paragraphs']\n",
    "        companyname = item['name']\n",
    "        style = 'year'\n",
    "        if quarter == 1 or quarter == 3:\n",
    "            style = 'season'\n",
    "        \n",
    "        #获取业绩变动原因段落\n",
    "        reason = self._get_reason(finance_type, style, paragraphs)\n",
    "        #获取主营业务段落\n",
    "        mainB = self._get_mainB(finance_type, style, paragraphs)\n",
    "        #获取业务进展段落\n",
    "        BProgress = self._get_BProgress(finance_type, style, paragraphs)\n",
    "        #获取未来计划段落\n",
    "        future = self._get_future(finance_type, style, paragraphs)\n",
    "        \n",
    "        article = reason + ['\\n'] + mainB + ['\\n'] +  BProgress + ['\\n'] + future\n",
    "        for i in range(len(article)):\n",
    "            article[i] = article[i].replace('公司', companyname)\n",
    "        return '\\n'.join(article)\n",
    "        \n",
    "\n",
    "\n",
    "class FinancePreprocessV1(object):\n",
    "    def __init__(self, app_config):\n",
    "        config = app_config\n",
    "        self.finance_parse_host = config.get(\"finance_parse_host\")\n",
    "        self.finance_du_host = config.get(\"finance_du_host\")\n",
    "        self.version = config.get(\"version\")\n",
    "        self.risk_words = ['风险提示','风险']\n",
    "\n",
    "    def _get_features_from_du_host(self, docs):\n",
    "        try:\n",
    "            ret = requests.post(self.finance_du_host, json=docs, timeout=30)\n",
    "        except requests.ReadTimeout:\n",
    "            logger.warning(\"Time out when try to get finance docs features\")\n",
    "            return []\n",
    "        if ret.status_code == 200:\n",
    "            return ret.json()\n",
    "\n",
    "    def get_features(self, docs):\n",
    "        batch_size = 20\n",
    "        batch = []\n",
    "        results = []\n",
    "        for doc in docs:\n",
    "            batch.append(doc)\n",
    "            if len(batch) == batch_size:\n",
    "                ret = self._get_features_from_du_host(batch)\n",
    "                if ret:\n",
    "                    results.extend(ret)\n",
    "                batch = []\n",
    "        if len(batch) != 0:\n",
    "            ret = self._get_features_from_du_host(batch)\n",
    "            if ret:\n",
    "                results.extend(ret)\n",
    "        return results\n",
    "\n",
    "    def parse_pdf(self, url):\n",
    "        try:\n",
    "            payload = {'url':url}\n",
    "            ret = requests.get(self.finance_parse_host, params=payload, timeout=300)\n",
    "        except:\n",
    "            return []\n",
    "        \n",
    "        if ret.status_code == 200:\n",
    "            return ret.json()\n",
    "\n",
    "    def is_risk_paragraph(self, headline):\n",
    "        headline = ' '.join(headline)\n",
    "        for word in self.risk_words:\n",
    "            if word in headline:\n",
    "                return True\n",
    "        return False\n",
    "\n",
    "    def feature_process(self, item):\n",
    "        '''处理财报pdf，解析为段落，标注意图\n",
    "        Args:\n",
    "            item: 原始财报pdf内容，应该包括\n",
    "                - url: pdf的url\n",
    "                - articleid\n",
    "                - name\n",
    "                - code\n",
    "                - year\n",
    "                - quarter\n",
    "                - 其他\n",
    "        '''\n",
    "        url = item['url']\n",
    "        paragraphs = self.parse_pdf(url)\n",
    "\n",
    "        if not paragraphs:\n",
    "            return None\n",
    "\n",
    "        docs_raw = [{'content':p['content']} for p in paragraphs]\n",
    "        headlines_raw = [{'content':p['headline'][-1] if p['headline'] else ''} for p in paragraphs]\n",
    "\n",
    "        docs = self.get_features(docs_raw)\n",
    "        headlines = self.get_features(headlines_raw)\n",
    "\n",
    "        for i,hd in enumerate(headlines):\n",
    "            docs[i]['title'] = ' ## '.join(paragraphs[i]['headline'])\n",
    "            docs[i]['seq'] = paragraphs[i]['seq']\n",
    "            docs[i]['report_type'] = 'financial'\n",
    "            risk = self.is_risk_paragraph(paragraphs[i]['headline'])\n",
    "\n",
    "            for j,intent in enumerate(hd['features']['intents']):\n",
    "                if not risk:\n",
    "                    docs[i]['features']['intents'][j]['prob'] += intent['prob']\n",
    "                else:\n",
    "                    docs[i]['features']['intents'][j]['prob'] = 0.0\n",
    "\n",
    "            # risk paragraphs\n",
    "            if risk:\n",
    "                 docs[i]['features']['intents'][15]['prob'] = 1.0\n",
    "\n",
    "            docs[i]['article'] = item['articleid']\n",
    "            docs[i]['id'] = '{0}_{1}'.format(item['articleid'],i)\n",
    "\n",
    "        # remove paragraph that is belong to '其他' intent\n",
    "        docs = [doc for doc in docs if doc['features']['intents'][14]['prob'] < 1.0]\n",
    "\n",
    "        # append other attribute back to doc\n",
    "        keys = [key for key in item.keys() if key not in [\n",
    "            'articleid', 'content']]\n",
    "        for doc in docs:\n",
    "            doc.update({k: item[k] for k in keys})\n",
    "            # add version\n",
    "            doc.update({\"model_version\":self.version})\n",
    "        return docs\n",
    "\n",
    "class FinancePreprocess(object):\n",
    "    def __init__(self, app_config):\n",
    "        config = app_config\n",
    "        self.finance_du_host = config.get(\"finance_du_host\")\n",
    "        self.version = config.get(\"version\")\n",
    "\n",
    "        self.stock_types = ['hushen', 'xinsanban']\n",
    "\n",
    "        # load stock info data\n",
    "        stock_info_oss = config.get(\"stock_info_oss\")\n",
    "        stock_info_local = utils.oss_to_local(stock_info_oss, \"/tmp\")\n",
    "        stock_info = pickle.load(open(stock_info_local, 'rb'))\n",
    "        self.stock_name2id = stock_info['n2i']\n",
    "        self.stock_name2type = stock_info['n2t']\n",
    "        self.stock_kw_classifier = KeyWordClassifier(\n",
    "            weighted=False, keywords=self.stock_name2id.keys())\n",
    "\n",
    "        key_words = ['发布', '营业收入', '营收', '归属于上市公司股东的净利润',\n",
    "                     '营业利润', '归属母公司净利润', '净利润', '归母净利润', '同比', '财务报告']\n",
    "        quarter_keys = [\n",
    "            ['q1', '第一季度', '一季度', '一季报'],\n",
    "            ['q2', '半年度', '半年报'],\n",
    "            ['q3', '第三季度', '三季度', '三季报'],\n",
    "            ['q4', '年度报告', '年报']\n",
    "        ]\n",
    "\n",
    "        self.content_kw_classifier = KeyWordClassifier(\n",
    "            weighted=False, keywords=key_words)\n",
    "        self.quarter_kw_classifiers = [KeyWordClassifier(\n",
    "            weighted=False, keywords=kws) for kws in quarter_keys]\n",
    "\n",
    "    def _get_features_from_du_host(self, docs):\n",
    "        try:\n",
    "            ret = requests.post(self.finance_du_host, json=docs, timeout=10)\n",
    "        except requests.ReadTimeout:\n",
    "            logger.warning(\"Time out when try to get finance docs features\")\n",
    "            return []\n",
    "        if ret.status_code == 200:\n",
    "            return ret.json()\n",
    "\n",
    "    def get_features(self, docs):\n",
    "        batch_size = 20\n",
    "        batch = []\n",
    "        results = []\n",
    "        for doc in docs:\n",
    "            batch.append(doc)\n",
    "            if len(batch) == batch_size:\n",
    "                ret = self._get_features_from_du_host(batch)\n",
    "                if ret:\n",
    "                    results.extend(ret)\n",
    "                batch = []\n",
    "        if len(batch) != 0:\n",
    "            ret = self._get_features_from_du_host(batch)\n",
    "            if ret:\n",
    "                results.extend(ret)\n",
    "        return results\n",
    "\n",
    "    def feature_process(self, item):\n",
    "        '''处理原始的文章，将其划分为段落，并进行意图分类\n",
    "\n",
    "        Args:\n",
    "            item: 包含原始文章的所有信息的dict,要求必须包括的内容有：\n",
    "                - articleid: 文章id\n",
    "                - content: 文本内容\n",
    "                - pubdate: 发布日期\n",
    "                - title: 文章标题\n",
    "                - source: 文章来源，要求为以下四种：\n",
    "                    - hushen: A股\n",
    "                    - xinsanban: 新三板\n",
    "                    - jiemodui*: 芥末堆研报\n",
    "                    - tonghuashun**: 同花顺研报\n",
    "                    - 未来其他的源\n",
    "                - name: 股票名称\n",
    "                - code: 股票代码\n",
    "                - year: 年份\n",
    "                - quarter: 季度\n",
    "            *如果文章类型为jiemodui，不需要包括股票名称在内之后的信息，会自动解析判断\n",
    "            **如果文章类型为tonghuashun，不需要年份、季度信息，会自动解析判断\n",
    "\n",
    "        Return:\n",
    "            如果输入是财报或者能够解析出年份季度的研报，将会返回docs。否则返回None，无需处理。\n",
    "            docs: 分段后的结果，是一个list of doc，其中每个doc包含以下这些key:\n",
    "                - id: 段落唯一标识\n",
    "                - content: 段落内容\n",
    "                - title: 段落标题\n",
    "                - pubdate: 发布日期\n",
    "                - seq: 段落在文章中的位置\n",
    "                - source: 文章来源，同输入\n",
    "                - report_type: 文章类型，包括以下两种：\n",
    "                    - financial: 公司发布的财报\n",
    "                    - research: 研报，如同花顺上的研报，芥末堆的研报\n",
    "                - name: 股票名称\n",
    "                - code: 股票代码\n",
    "                - year: 财报年份\n",
    "                - quarter: 财报季度\n",
    "                - model_version: 模型版本号\n",
    "                - article: 文章id\n",
    "                - features: 段落特征，只需要插入到SQL表格中，无需插入ES\n",
    "        '''\n",
    "        articleid = item['articleid']\n",
    "        source_type = item['source']\n",
    "        content = item['content']\n",
    "        pubdate = item['pubdate']\n",
    "        title = item['title']\n",
    "\n",
    "        stock_name = item.get('name', None)\n",
    "        stock_id = item.get('code', None)\n",
    "        year = int(item.get('year', 0))\n",
    "        quarter = int(item.get('quarter', 0))\n",
    "\n",
    "        # split the content into paragraphs\n",
    "        if source_type in self.stock_types:\n",
    "            # do nothing here\n",
    "            pass\n",
    "        elif source_type == 'tonghuashun':\n",
    "            ret = self.get_stock_info_from_research(\n",
    "                stock_name, stock_id, title, content, pubdate)\n",
    "            if ret:\n",
    "                stock_id, stock_name, year, quarter = ret\n",
    "            else:\n",
    "                return None\n",
    "\n",
    "        elif source_type == 'jiemodui':\n",
    "            ret = self.get_stock_info_from_jmd(title, content, pubdate)\n",
    "            if ret:\n",
    "                stock_id, stock_name, year, quarter = ret\n",
    "            else:\n",
    "                return None\n",
    "        else:\n",
    "            raise ValueError(\n",
    "                \"source type of {0} is not supported yet.\".format(source_type))\n",
    "\n",
    "        logger.info(u\"start to parse article {0} with source type {1}, stock name {2}, year {3}, quarter {4}, version {5}\".format(\n",
    "            articleid, source_type, stock_name, year, quarter, self.version))\n",
    "        docs = parse_report(articleid, content, source_type,\n",
    "                            stock_name, stock_id, year, quarter, pubdate, self.version)\n",
    "        if docs:\n",
    "            docs = self.get_features(docs)\n",
    "            return docs\n",
    "        else:\n",
    "            return None\n",
    "\n",
    "    def predict_year_quarter(self, pubdate):\n",
    "        '''根据文章发布日期预测大致的年份和季度\n",
    "        '''\n",
    "        # in case pubdate is YYYY-MM-DDTHH:MM:SS\n",
    "        pubdate = pubdate.split(\"T\")[0]\n",
    "        year, month, day = map(int, pubdate.split(\"-\"))\n",
    "\n",
    "        # 一般公司的报告会在季度之后才会发布，因此预测季度应该为当前发布日期季度减1\n",
    "        quarter = (month - 1) // 3\n",
    "        # 上一年年报\n",
    "        if quarter == 0:\n",
    "            quarter = 4\n",
    "            year -= 1\n",
    "        return year, quarter\n",
    "\n",
    "    def predict_from_content(self, content, pubdate):\n",
    "        '''根据文章内容进一步判断年份和季度\n",
    "        '''\n",
    "        # get the predicted year and quarter\n",
    "        year, quarter = self.predict_year_quarter(pubdate)\n",
    "\n",
    "        # only use the first two paragraphs to predict\n",
    "        content = \"\".join(content.split(\"\\n\")[:2])\n",
    "\n",
    "        predict, _ = self.content_kw_classifier.predict(content, method=1)\n",
    "        # no key words found in the content\n",
    "        if predict < 1.0:\n",
    "            return None\n",
    "\n",
    "        # if we found quarter key words in the content, return the year and quarter\n",
    "        for i in range(4):\n",
    "            predict_quarter, _ = self.quarter_kw_classifiers[i].predict(\n",
    "                content, method=1)\n",
    "            if predict_quarter >= 1.0:\n",
    "                # predicted quarter is later than pubdate quarter\n",
    "                # this should be last year's report\n",
    "                if quarter < i + 1:\n",
    "                    return year - 1, i + 1\n",
    "                return year, i + 1\n",
    "\n",
    "        # if we found at least 2 key words in the content, return the predicted year and quarter\n",
    "        # else we can not tell if this is really a article about finance report\n",
    "        if predict >= 2.0:\n",
    "            return year, quarter\n",
    "        else:\n",
    "            return None\n",
    "\n",
    "    # pubdate shoule be in format YYYY-MM-DD\n",
    "    def get_stock_info_from_jmd(self, title, content, pubdate):\n",
    "        \"\"\"解析芥末堆数据\n",
    "        \"\"\"\n",
    "        title = title.replace(\" \", \"\")\n",
    "        # 只采用财报季文章\n",
    "        if u\"【财报季】\" not in title:\n",
    "            return None\n",
    "\n",
    "        _, stocks = self.stock_kw_classifier.predict(title, method=1)\n",
    "        # 不处理没有股票，或者存在多个股票的情况\n",
    "        if len(stocks) != 1:\n",
    "            return None\n",
    "\n",
    "        ret = self.predict_from_content(content, pubdate)\n",
    "\n",
    "        if ret:\n",
    "            year = ret[0]\n",
    "            quarter = ret[1]\n",
    "            stock_name = stocks[0]\n",
    "            stock_id = self.stock_name2id[stock_name]\n",
    "            return stock_id, stock_name, year, quarter\n",
    "        return None\n",
    "\n",
    "    def get_stock_info_from_research(self, stock_name, stock_id, title, content, pubdate):\n",
    "        '''解析研报获得股票年份信息\n",
    "        '''\n",
    "        ret = self.predict_from_content(content, pubdate)\n",
    "        if ret:\n",
    "            year = ret[0]\n",
    "            quarter = ret[1]\n",
    "            return stock_id, stock_name, year, quarter\n",
    "        return None"
   ]
  },
  {
   "cell_type": "raw",
   "metadata": {
    "deletable": true,
    "editable": true
   },
   "source": [
    "问题：\n",
    "1. 意图过滤需要加进去。"
   ]
  },
  {
   "cell_type": "code",
   "execution_count": 289,
   "metadata": {
    "collapsed": false,
    "deletable": true,
    "editable": true
   },
   "outputs": [
    {
     "name": "stdout",
     "output_type": "stream",
     "text": [
      "http://disclosure.szse.cn/finalpage/2017-04-26/1203387778.PDF\n",
      "1、本期主营业务收入为30,593.59万元，上年同期为18,638.03万元，增长64.15%，主要是因为立思辰主\n",
      "\n",
      "\n",
      "\n",
      "\n",
      "\n",
      "\n"
     ]
    },
    {
     "name": "stderr",
     "output_type": "stream",
     "text": [
      "/opt/anaconda/anaconda3/lib/python3.5/site-packages/simplejson/encoder.py:291: DeprecationWarning: Interpreting naive datetime as local 2018-01-30 14:28:59.589965. Please add timezone info to timestamps.\n",
      "  chunks = self.iterencode(o, _one_shot=True)\n"
     ]
    }
   ],
   "source": [
    "fin_A_bnb = FinancePreprocessV2()\n",
    "print(items[3]['url'])\n",
    "print(fin_A_bnb.feature_process(items[3]))"
   ]
  },
  {
   "cell_type": "code",
   "execution_count": 286,
   "metadata": {
    "collapsed": false
   },
   "outputs": [
    {
     "data": {
      "text/plain": [
       "['1、本期主营业务收入为30,593.59万元，上年同期为18,638.03万元，增长64.15%，主要是因为公司主']"
      ]
     },
     "execution_count": 286,
     "metadata": {},
     "output_type": "execute_result"
    },
    {
     "name": "stderr",
     "output_type": "stream",
     "text": [
      "/opt/anaconda/anaconda3/lib/python3.5/site-packages/simplejson/encoder.py:291: DeprecationWarning: Interpreting naive datetime as local 2018-01-30 14:23:46.745563. Please add timezone info to timestamps.\n",
      "  chunks = self.iterencode(o, _one_shot=True)\n"
     ]
    }
   ],
   "source": [
    "paras = [p['content'] for p in items[3]['paragraphs'] if fin_A_bnb._match(['变动的情况及原因'], p['parents']) \n",
    "         if '营业收入' in p['content'] or '净利润' in p['content'] or '主营业务收入' in p['content']]\n",
    "# para = [p['content'] for p in items[3]['paragraphs'] if '本期主营业务收入']\n",
    "paras"
   ]
  },
  {
   "cell_type": "code",
   "execution_count": 295,
   "metadata": {
    "collapsed": false
   },
   "outputs": [
    {
     "name": "stdout",
     "output_type": "stream",
     "text": [
      "http://disclosure.szse.cn/finalpage/2017-08-29/1203888889.PDF\n"
     ]
    },
    {
     "data": {
      "text/plain": [
       "True"
      ]
     },
     "execution_count": 295,
     "metadata": {},
     "output_type": "execute_result"
    },
    {
     "name": "stderr",
     "output_type": "stream",
     "text": [
      "/opt/anaconda/anaconda3/lib/python3.5/site-packages/simplejson/encoder.py:291: DeprecationWarning: Interpreting naive datetime as local 2018-01-30 14:35:16.932386. Please add timezone info to timestamps.\n",
      "  chunks = self.iterencode(o, _one_shot=True)\n"
     ]
    }
   ],
   "source": [
    "fin_A_bnb = FinancePreprocessV2()\n",
    "print(items[0]['url'])\n",
    "text0 = '''立思辰主营业务分教育与信息安全两大业务，教育业务主要产品包括面向 B 端用户的区域教育云平台、智慧校园整体解决方案、K12 领域的学科应用产品等以及面向 C 端用户的高考升学咨询服务、留学咨询服务、线上辅导等；信息安全业务主要为客户提供围绕数据全生命周期的数据安全解决方案、工控安全产品及解决方案、面向多行业的自主可控产品及解决方案等。'''\n",
    "text0 in fin_A_bnb.feature_process(items[0])"
   ]
  },
  {
   "cell_type": "code",
   "execution_count": 299,
   "metadata": {
    "collapsed": false,
    "deletable": true,
    "editable": true,
    "scrolled": true
   },
   "outputs": [
    {
     "name": "stdout",
     "output_type": "stream",
     "text": [
      "\n",
      "\n",
      "立思辰主营业务分教育与信息安全两大业务，教育业务主要产品包括 K12 领域的学科应用产品、区域教育云平台、智慧校园整体解决方案、高考升学咨询服务、留学服务以及就业创业学分教育解决方案等；信息安全业务主要为客户提供围绕数据全生命周期的数据安全解决方案、工控安全产品及解决方案、面向多行业的自主可控产品及解决方案等。\n",
      "\n",
      "\n",
      "课程是连接学生和学习的桥梁，在教学中老师重视调动学生的动手能力，让他们去大胆创作，最大限度地发挥学生的主动性、创作性、发展性，从而达到激发兴趣、启迪心智、感悟积淀的三重境界。立思辰将开设更多校本课程，从科学技术，生活艺术，传统文化等方面提取素材，为学生提供更多选择。\n",
      "康邦校本课程解决方案分为科学技术、生活艺术、传统文化、项目主题四大类别，包含课程、师资、场景、活动四个维度，以权威名师为支撑，配备专业教材，指导手册，精品课程资源、课件、教案，并制定有针对性的教学方法和课程评价。康邦精品校本课程将结合学校的校园文化和特色课程开发，进行师资培训、师资输出、场景建设以及活动策划等服务，全方位保证精品校本课程的开设，为学校一线教学提供有力支持。\n",
      "①智慧教育\n",
      "乐易考是大学生就创业教育及服务的专业品牌，主要为高校提供就业创业学分教育解决方案，包括教材，双创MOOC平台与课程，双创线下翻转课堂以及相关的师资培训。目前，乐易考与湖南省厅共建的湖南就创业网络学院已经签约12所高校。\n",
      "\n",
      "\n",
      "立思辰是一家新生态的教育集团，秉承“以科技和人文改变教育”的历史使命，坚持“做大智慧教育，做强教育服务，做精未来学校，做实教育生态”的发展路径，利用科技手段打通校内校外、线上线下、国内国外的学习场景，让学生们高效学习、快乐成长，最终实现“激发成就亿万青少年”的宏伟愿景。\n",
      "1.做大智慧教育。智慧教育是立思辰教育业务的基石。以立思辰康邦为核心，发挥领先者优势，用科技手段构建教育信息环境，卡位和布局学校教育场景，持续扩大业务规模。\n",
      "2.做强教育服务。教育服务是立思辰教育战略的关键和重点，围绕“学习-升学”的核心诉求，提供针对公立校的教学服务解决方案（包括但不仅限于学科应用、教学评价、教师培训、专业建设等等）、针对C端市场的学习服务解决方案（包括但不仅限于学习辅导、海内外升学指导等）。通过科技打通校内校外、线上线下、国内国外，成为未来全球领先的教育服务提供商。\n",
      "3.做精未来学校。通过教育产业基金，重点投资布局打造区域性精品学校，与立思辰的智慧教育和教育服务板块协同发展。\n",
      "4.做实教育生态。持续关注立思辰教育业务上下游合作伙伴，利用人工智能、大数据、金融等手段积极探索新型教育生态，为合作伙伴提供更多优质的产品能力及服务能力输出。\n",
      "经过四年的发展，2016年度立思辰教育业务营收及利润占比均已超过50%，立思辰已成功转型为A股教育领先企业。2017年，立思辰将继续深入推动“智慧教育+教育服务”的双轮驱动战略，巩固并扩大既有的体制内教育信息化与学科应用市场领先优势，增加区域及学校的覆盖数量；同时，加大学业规划及海外留学等C端市场投入，增加学习服务产品线；加大研发投入，提升立思辰核心竞争能力。2017年，立思辰将重点围绕以下几方面开展工作：\n",
      "2017年是立思辰下一个五年规划的第一年，立思辰将在市场营销、产品创新、技术研发、组织结构优化、人力资源建设、品牌提升、投资并购等各方面进行顶层设计，以引领立思辰五年内迈向百亿级营收规模的企业，成为中国领先的教育科技集团。2017年立思辰目标营收23亿元，目标利润3.7亿元至4.7亿元。\n",
      "作为中国教育信息化领域智慧教育与校内K12互联网学科应用行业领先企业，为进一步巩固并扩大体制内教育信息化市场领先优势，加快各业务板块战略协同步伐，立思辰将建立覆盖全国的销售渠道体系，加大全国市场投入力度，并根据国家政策导向，尝试采用PPP模式快速占领市场，提高市场占有率，增加区域及学校覆盖数量。\n",
      "通过区域平台的运营，为宁夏自治区的广大师生带来先进的教育理念及优质教育资源，试水C端运营，建立线上线下相结合、校内校外相结合的教育生态，并逐步形成区域智慧教育立思辰运营模式。\n",
      "经过多年发展，围绕立思辰教育战略，已形成多条产品线。未来，立思辰将通过自主研发、投资、并购等多种方式快速布局学科应用及互联网学习产品，加强优质教育资源及内容建设，进一步提升立思辰核心竞争能力。\n",
      "立思辰已制定了未来五年战略发展规划，为加快战略落地，立思辰将进行相应的组织结构调整，在教育集团建立智慧教育事业群、教学服务事业群、学习服务事业群，统筹规划2G、2B及2C业务,，并加大互联网学习服务业务的投入力度。\n",
      "继续通过招聘、投资、并购等方式引进行业优秀人才并加强内部人才梯队建设，建立适应立思辰业务发展的管理机制和激励机制，推动立思辰各项业务的顺利发展。\n",
      "2017年，立思辰将聘请专业机构梳理现有业务品牌，根据立思辰业务发展需求制定立思辰品牌策略与体系，加大市场投入与宣传力度，打造立思辰教育领先品牌形象。同时，赋予市场部更多市场职能，加强与相关方的资源整合力度。\n",
      "加强信息安全集团的人才引进及研发投入，适时引进行业优秀人才，顺应国产替代及信息安全行业发展趋势，加强资源整合力度，加大各业务板块间的整合力度，形成强产品+强行业的核心竞争能力。\n",
      "本年度立思辰将加强各子立思辰及控股立思辰的管控力度，加大内部审计力度，确保立思辰整体经营管理的规范性，并建立覆盖全立思辰的资金集中管控体系、建设财务共享中心。\n",
      "2017年，立思辰将继续严格按照国家相关法律法规，规范立思辰内部治理结构和履行信息披露义务。持续完善投资者沟通平台，规范立思辰与投资者关系的管理工作，加强立思辰与投资者和潜在投资者之间的沟通，增进投资者对立思辰的了解和认同，建立立思辰与投资者之间长期、稳定的良好关系，从而提升立思辰的美誉度、核心竞争能力和持续发展能力，以实现立思辰价值和股东权益的双赢。\n",
      "限立思辰（名称以当地主管机关最终注册登记为准）。上述事项经立思辰于2016年3月17日召开的第三届董事会第二十四次会议审议通过。详情请见立思辰2016年3月17日发布于巨潮资讯网http://www.cninfo.com.cn的《关于对外投资设立香港子立思辰的公告》（公告号：2016-019）。截至本报告披露日，立思辰注册手续已办理完毕，实际出资手续尚在办理中。\n"
     ]
    },
    {
     "name": "stderr",
     "output_type": "stream",
     "text": [
      "/opt/anaconda/anaconda3/lib/python3.5/site-packages/simplejson/encoder.py:291: DeprecationWarning: Interpreting naive datetime as local 2018-01-30 14:37:00.290256. Please add timezone info to timestamps.\n",
      "  chunks = self.iterencode(o, _one_shot=True)\n"
     ]
    }
   ],
   "source": [
    "fin_A_nb = FinancePreprocessV2()\n",
    "print(fin_A_nb.feature_process(items[2]))"
   ]
  },
  {
   "cell_type": "code",
   "execution_count": 300,
   "metadata": {
    "collapsed": false
   },
   "outputs": [
    {
     "name": "stdout",
     "output_type": "stream",
     "text": [
      "http://www.cninfo.com.cn/finalpage/2017-08-21/1203841042.PDF\n",
      "（1）报告期，营业收入增长的主要原因是：报告期内行业政策进一步开放，世纪明德国内研学、国际\n",
      "游学及教师培训等主营业务均稳步增长；上半年世纪明德继续加强游学课程研发，增加了课程数量，丰富了\n",
      "游学课程内容，提升了服务品质，同时通过品牌的大力推广及市场开发方面的大力投入，使得营业收入\n",
      "继续稳定增长。\n",
      "（3）报告期内，世纪明德净利润增长的原因是：2017  年上半年经营收入的稳定增长，世纪明德对供应链的\n",
      "不断整合以及内部控制的加强，期间费用的年均增长速度低于营业毛利的年均增长速度，使得营业利润\n",
      "增长了 40.03%；日常资金的有效管理，使得投资收益增增长率高达 108.95%。\n",
      "2）经营活动产生的现金流量净额同比增长  60,927,325.28  元，较上年同期增加的主要原因是:  报告\n",
      "期内，世纪明德丰富产品种类、大力发展销售业务，世纪明德业务收入较上年同期增长  48.52%，客户数量大幅\n",
      "增长，世纪明德营业收入增加，导致经营活动产生的现金流量净额大幅增长。\n",
      "\n",
      "\n",
      "世纪明德为游学服务商龙头企业，为 3 至 18 岁青少年提供国内研学、国际游学、夏冬令营服务；为广\n",
      "大教育工作者提供教师培训、教育论坛服务。业务涵盖游学产品研发、销售推广、业务接待和后续服务\n",
      "全套流程。\n",
      "世纪明德的研学产品，将青少年的成长和收获置于产品价值的首要位置。报告期内，世纪明德继续加大产品\n",
      "课程设计的投入，以研学主题、研学课程、研学导师、研学基地、研学线路、安全管理六大要素为基础，\n",
      "以学生为中心，以课程为核心，以接待为关键，寓教于游，用一种知识整合的形式将各种学科内容的传\n",
      "授和实践能力的培养融入到研学活动之中。\n",
      "世纪明德的教师培训业务主要为教育工作者提供学习交流论坛。通过了解客户对于教育培训方面的需\n",
      "求，为客户定制一整套培训方案，包括设计培训内容、邀请知名教育专家，安排培训场地、交通食宿等。\n",
      "世纪明德为客户提供的教育培训是基于世纪明德在教育领域的长期运作经验，常年积累的教育领域专家、学者资\n",
      "源。报告期内，中国教育明德论坛相继在各地举办，取得了良好的社会效益和经济效益。\n",
      "得益于世纪明德快速的研发能力，世纪明德的服务流程进一步升级。基于完善的整体化、综合化和数据化的\n",
      "信息管理系统，各部门进行采购管理、产品研发、销售推广、团队运作、后续跟踪等一站式操作。世纪明德\n",
      "秉承战略升级方针，持续加强游学产品的研发巩固领先优势，不断优化接待流程体系提高服务质量，通\n",
      "过客户高度的满意度体现企业核心竞争实力，达成业绩确定性的目标，最终实现综合性的素质教育集团\n",
      "这一长远战略目标。\n",
      "\n",
      "\n",
      "1.主要财务指标分析 \n",
      "1）报告期内，世纪明德实现营业收入  121,841,407.75 元，较上年同期上升  48.52%；实现净利润11,193,494.96 元，同比上升 46.36%；世纪明德营业成本为  89,972,805.82 元，同比增长  61.58%。\n",
      "73）截至  2017  年  6  月  30  日，资产总计为  391,727,781.82 元，较上年期末增加  94.1%；负债总计 \n",
      "285,349,406.81 元，较上年期末增加  232.44%。总资产与总负债增加的主要原因为：报告期内世纪明德业务\n",
      "量增加，世纪明德通过内部销售政策调整、优化支付手段等方式引导客户在营员参营前缴纳营费，预收账款\n",
      "增长 247.61%。\n",
      "2.经营情况回顾 \n",
      "上半年，世纪明德正式进入新三板创新层。 \n",
      "在研学政策持续向好的环境下，世纪明德坚守“教育+旅游”的战略定位，抓紧“产品研发、市场布局”\n",
      "两条业务主线，游学业务稳步增长，品牌影响逐渐扩大。报告期内，世纪明德加大对外投资力度，在重要的\n",
      "国内游学目的地新设立了 4 家全资子世纪明德，并对业绩优异的控股或参股的世纪明德追加了投资，集团化效应\n",
      "初显。此外，世纪明德开始布局营地建设，与陕西省地方政府合作共同开发的营地已经开始筹建。营地建设\n",
      "是世纪明德未来发展计划中重点推进的项目，世纪明德将通过营地的建设与运营管理，与政府、教育局、学校等\n",
      "深度合作，引领营地教育行业的发展，进一步助力青少年的成长。报告期内，世纪明德各业务板块业绩均达\n",
      "到预期目标。\n",
      "（1）加强产品研发投入，定制路线百花齐放 \n",
      "课程设计是研学旅行的重要组成部分及核心竞争力之一。报告期内，聚焦产品研发，新增的研学路\n",
      "线全面开花。世纪明德从年级、主题、目的地三个方面为核心，逐步增强课程、路线、住房、餐饮、车辆等\n",
      "接待服务的灵活性，更进一步满足客户的独特化需求。此外，明德在线 app 全面上线，规范工作再迈入\n",
      "新台阶，明德接待升级为明德服务。\n",
      "（2）开展品牌推广活动，持续助力教育发展 \n",
      "2017 年 4 月 8 日，世纪明德在兰州成功举办了“2017‘一带一路’中国西部基础教育改革与发展论坛”，\n",
      "来自甘肃全省以及周边省份的局长、校长等一线教育工作者参加了此次论坛。此次论坛的举办，教育界\n",
      "的工作者们汇聚兰州，济济一堂，深入交流，分享资源和经验，为促进西部基础教育改革和发展作出了\n",
      "积极的贡献。\n",
      "此外，世纪明德还举办了研学旅行课程设计交流会以及全国征文大赛等活动，以 APP 为原点，联动官网、\n",
      "官方微信、微博、贴吧等平台综合发布，打造研学之声矩阵，明德品牌宣传全资源覆盖，进一步宣扬“研\n",
      "学旅行在中国”，为促进素质教育的不断深入和落实发挥出推动的力量。\n",
      "（3）深耕细作主营业务，接待业绩再创新高 \n",
      "报告期内，世纪明德从产品、销售、地域、时间四个维度进行业务拓展，保持业绩强势增长的势头，进\n",
      "一步凸显行业龙头绝对性的优势。具体措施为加大新产品开发力度、销售团队扩编及细化管理、深耕已\n",
      "有合作渠道及开发空白城市、学期中研学旅行拓展。2017 业务年度接待量再创新高，国际营业绩大放异\n",
      "彩。\n",
      "借助政策红利，越来越多的城市开始启动中小学研学旅行试点工作，将研学旅行正式纳入教学教育\n",
      "计划。游学业务不再仅仅局限于寒暑假期中。同时，越来越多的著名景区成为世纪明德战略合作伙伴，相应\n",
      "推出“研学旅游”优惠政策，为研学旅行团提供绿色通道，并在餐饮、 门票、住房等方面提供优惠。\n",
      "（4）巩固健全安全管理，安全机制全面升级 \n",
      "安全是游学的基础服务保障，没有安全，就没有游学。报告期内，世纪明德加强安全管理的建设与监控。\n",
      "接待过程中，世纪明德安全中心、应急处理小组时刻待命，安全基金、安全预案、各种形式的安全提示愈加\n",
      "完善。世纪明德做到了在每个出行的团队里都配备小安全员，协助队医和志愿者进行安全管理并及时反馈可\n",
      "能出现的安全隐患。小安全员行动，安全带每日提醒，安全信息每日播报，安全提示每日宣传，为营员\n",
      "的安全出行提供了全方位的安全保障。\n",
      "\n",
      "\n"
     ]
    },
    {
     "name": "stderr",
     "output_type": "stream",
     "text": [
      "/opt/anaconda/anaconda3/lib/python3.5/site-packages/simplejson/encoder.py:291: DeprecationWarning: Interpreting naive datetime as local 2018-01-30 14:39:00.265181. Please add timezone info to timestamps.\n",
      "  chunks = self.iterencode(o, _one_shot=True)\n"
     ]
    }
   ],
   "source": [
    "fin_xsb_bnb = FinancePreprocessV2()\n",
    "print(items[4]['url'])\n",
    "print(fin_xsb_bnb.feature_process(items[4]))"
   ]
  },
  {
   "cell_type": "code",
   "execution_count": 298,
   "metadata": {
    "collapsed": false,
    "deletable": true,
    "editable": true
   },
   "outputs": [
    {
     "name": "stdout",
     "output_type": "stream",
     "text": [
      "True\n"
     ]
    },
    {
     "name": "stderr",
     "output_type": "stream",
     "text": [
      "/opt/anaconda/anaconda3/lib/python3.5/site-packages/simplejson/encoder.py:291: DeprecationWarning: Interpreting naive datetime as local 2018-01-30 14:36:01.180362. Please add timezone info to timestamps.\n",
      "  chunks = self.iterencode(o, _one_shot=True)\n"
     ]
    }
   ],
   "source": [
    "fin_xsb_nb = FinancePreprocessV2()\n",
    "docs = fin_xsb_nb.feature_process(items[1])\n",
    "text1 = '''1.营业收入：报告期较上年同期增长 56.52%，主要原因系：（1）市场环境向好：国家研学旅行政策\n",
    "不断落地，政策环境向好，市场需求大增，客户人数增长迅速；（2）产品线丰富：报告期间世纪明德加强了国\n",
    "内研学、国际游学、社会实践以及教师培训产品的研发，产品可以覆盖更大客户群，可以为存量客户提供\n",
    "更多的产品服务内容；（3）市场开拓方面，世纪明德制定积极的销售政策，重点突破市场薄弱区域，客户范围\n",
    "不断扩大。重点突破春秋季研学旅行市场，从客户参营时间上进行延展，从一年中寒暑假的游学旺季拓展\n",
    "为全年旺季。'''\n",
    "print(text1 in docs)"
   ]
  },
  {
   "cell_type": "code",
   "execution_count": null,
   "metadata": {
    "collapsed": false,
    "deletable": true,
    "editable": true
   },
   "outputs": [],
   "source": [
    "item = items[1]['paragraphs']\n",
    "[i for i in item if i['name'] == 'Paragraph' if fin._match(['总体回顾'], i['parents'])]"
   ]
  },
  {
   "cell_type": "code",
   "execution_count": 279,
   "metadata": {
    "collapsed": false,
    "deletable": true,
    "editable": true
   },
   "outputs": [
    {
     "name": "stdout",
     "output_type": "stream",
     "text": [
      "http://disclosure.szse.cn/finalpage/2017-04-26/1203387778.PDF\n",
      "300010_2017_1\n"
     ]
    },
    {
     "name": "stderr",
     "output_type": "stream",
     "text": [
      "/opt/anaconda/anaconda3/lib/python3.5/site-packages/simplejson/encoder.py:291: DeprecationWarning: Interpreting naive datetime as local 2018-01-30 14:14:09.717339. Please add timezone info to timestamps.\n",
      "  chunks = self.iterencode(o, _one_shot=True)\n"
     ]
    }
   ],
   "source": [
    "print(items[3]['url'])\n",
    "print(items[3]['pdf_id'])\n",
    "[p['content'] for p in items[3]['paragraphs'] if p[]]"
   ]
  },
  {
   "cell_type": "code",
   "execution_count": 103,
   "metadata": {
    "collapsed": false,
    "deletable": true,
    "editable": true,
    "scrolled": true
   },
   "outputs": [
    {
     "name": "stderr",
     "output_type": "stream",
     "text": [
      "/opt/anaconda/anaconda3/lib/python3.5/site-packages/simplejson/encoder.py:291: DeprecationWarning: Interpreting naive datetime as local 2018-01-27 11:31:08.361913. Please add timezone info to timestamps.\n",
      "  chunks = self.iterencode(o, _one_shot=True)\n"
     ]
    }
   ],
   "source": [
    "import json\n",
    "itemlist = ['000001_0', '000004_0', '000006_0']\n",
    "keys = ['pdf_id', 'year', 'quarter', 'name', 'code', 'finance_type', 'pubdate', 'url', 'tables', 'paragraphs']\n",
    "items = []\n",
    "for item in itemlist:\n",
    "    f = open('/data/xueyou/finance/pdf_content_test/' + item)\n",
    "    for line in f:\n",
    "        data = line.split('\\x01')\n",
    "        tmp = {}\n",
    "        for i, key in enumerate(keys):\n",
    "            try:\n",
    "                js = json.loads(data[i])\n",
    "                tmp[key] = js\n",
    "            except:\n",
    "                tmp[key] = data[i]\n",
    "        items.append(tmp)\n",
    "    f.close()"
   ]
  },
  {
   "cell_type": "code",
   "execution_count": 277,
   "metadata": {
    "collapsed": false
   },
   "outputs": [
    {
     "name": "stderr",
     "output_type": "stream",
     "text": [
      "/opt/anaconda/anaconda3/lib/python3.5/site-packages/simplejson/encoder.py:291: DeprecationWarning: Interpreting naive datetime as local 2018-01-29 14:56:50.715807. Please add timezone info to timestamps.\n",
      "  chunks = self.iterencode(o, _one_shot=True)\n"
     ]
    }
   ],
   "source": [
    "with open('/data/share/items.pkl', 'wb') as pickle_file:\n",
    "    pickle.dump(items, pickle_file)"
   ]
  },
  {
   "cell_type": "code",
   "execution_count": 278,
   "metadata": {
    "collapsed": false
   },
   "outputs": [
    {
     "data": {
      "text/plain": [
       "dict_keys(['quarter', 'url', 'year', 'finance_type', 'pubdate', 'name', 'code', 'pdf_id', 'paragraphs', 'tables'])"
      ]
     },
     "execution_count": 278,
     "metadata": {},
     "output_type": "execute_result"
    },
    {
     "name": "stderr",
     "output_type": "stream",
     "text": [
      "/opt/anaconda/anaconda3/lib/python3.5/site-packages/simplejson/encoder.py:291: DeprecationWarning: Interpreting naive datetime as local 2018-01-29 14:57:50.969544. Please add timezone info to timestamps.\n",
      "  chunks = self.iterencode(o, _one_shot=True)\n"
     ]
    }
   ],
   "source": [
    "f = open('/data/share/items.pkl', 'rb')\n",
    "import pickle\n",
    "items_ = pickle.load(f)\n",
    "items_[0].keys()"
   ]
  },
  {
   "cell_type": "code",
   "execution_count": 37,
   "metadata": {
    "collapsed": false,
    "deletable": true,
    "editable": true
   },
   "outputs": [
    {
     "name": "stderr",
     "output_type": "stream",
     "text": [
      "/opt/anaconda/anaconda3/lib/python3.5/site-packages/simplejson/encoder.py:291: DeprecationWarning: Interpreting naive datetime as local 2018-01-26 17:23:56.036668. Please add timezone info to timestamps.\n",
      "  chunks = self.iterencode(o, _one_shot=True)\n"
     ]
    }
   ],
   "source": [
    "labels = ['导语', '业绩变动原因', '主营业务$业务进展', '未来计划', 'other']\n",
    "labelmap = {\n",
    "                 '导语': ['导语','意图_企业基本信息介绍_企业基本信息介绍', '意图_企业活动_公司公告信息', '意图_企业业绩_现状偏好', '意图_企业业绩_现状偏坏'],\n",
    "                 '业绩变动原因': ['意图_企业业绩_业绩变动原因'],\n",
    "                 '主营业务$业务进展': ['意图_企业业务_业务介绍', '意图_企业业务_业务规模', '意图_企业业务_业务规划'],\n",
    "                 '未来计划': ['意图_企业业务_业务前景', '意图_企业业绩_前景偏好','意图_企业业绩_前景偏坏'],\n",
    "                 'other': ['其他', '意图_评论_风险提示','意图_评论_投资建议', '意图_评论_盈利预测', '意图_企业活动_人事活动', '意图_企业活动_融资活动','意图_企业活动_投资活动']\n",
    "                }\n",
    "labelmapR = {}\n",
    "for key, value in labelmap.items():\n",
    "    for v in value:\n",
    "        labelmapR[v] = key"
   ]
  },
  {
   "cell_type": "code",
   "execution_count": 269,
   "metadata": {
    "collapsed": false,
    "deletable": true,
    "editable": true
   },
   "outputs": [
    {
     "name": "stdout",
     "output_type": "stream",
     "text": [
      "['立思辰教育秉承“以科技和人文改变教育”的历史使命，坚持“做大智慧教育，做强教育服务，做精未来\\n学校，做实教育生态”的发展路径，利用科技手段打通校内校外、线上线下、国内国外的学习场景，让学生\\n们高效学习、快乐成长，最终实现“激发成就亿万青少年”的宏伟愿景。\\n\\n']\n"
     ]
    },
    {
     "name": "stderr",
     "output_type": "stream",
     "text": [
      "/opt/anaconda/anaconda3/lib/python3.5/site-packages/simplejson/encoder.py:291: DeprecationWarning: Interpreting naive datetime as local 2018-01-29 11:21:58.526832. Please add timezone info to timestamps.\n",
      "  chunks = self.iterencode(o, _one_shot=True)\n"
     ]
    }
   ],
   "source": [
    "import operator\n",
    "def intentMap(predict):\n",
    "        \"\"\"\n",
    "        将现有意图映射到芥末堆所给的意图上去, 并将权重求和\n",
    "        \"\"\"\n",
    "        result = {}\n",
    "        for l in labels:\n",
    "            result[l] = 0\n",
    "        for key in predict.keys():\n",
    "            result[labelmapR[key]] += predict[key]\n",
    "        return result       \n",
    "    \n",
    "def getParabyIntent(docs, itt, num, threshold = 0.5):\n",
    "    intent = {x['content']: x['features']['intents'] for x in docs}\n",
    "    for key, value in intent.items():\n",
    "        intent[key] = {x['name']: x['prob'] for x in value}\n",
    "        intent[key] = intentMap(intent[key])\n",
    "    intentL = {}\n",
    "    for l in labels:\n",
    "        intentL[l] = {}\n",
    "    for k, v in intent.items():\n",
    "        for i, p in v.items():\n",
    "            intentL[i][k] = p\n",
    "    for i in intentL.keys():\n",
    "        intentL[i] = sorted(intentL[i].items(), key=operator.itemgetter(1))\n",
    "    return [p[0] for p in intentL[itt][-num:] if (p[1] > threshold)]\n",
    "import requests\n",
    "text = {'content':'''立思辰教育秉承“以科技和人文改变教育”的历史使命，坚持“做大智慧教育，做强教育服务，做精未来\n",
    "学校，做实教育生态”的发展路径，利用科技手段打通校内校外、线上线下、国内国外的学习场景，让学生\n",
    "们高效学习、快乐成长，最终实现“激发成就亿万青少年”的宏伟愿景。\n",
    "\n",
    "'''}\n",
    "query = requests.post(\"https://surreal.aidigger.com/api/v1/du/finance\",json=text).json()\n",
    "print(getParabyIntent(query, '主营业务$业务进展', 2))"
   ]
  },
  {
   "cell_type": "code",
   "execution_count": 184,
   "metadata": {
    "collapsed": false,
    "deletable": true,
    "editable": true
   },
   "outputs": [
    {
     "data": {
      "text/plain": [
       "'公司主营业务分教育与信息安全两大业务，教育业务主要产品包括 K12 领域的学科应用产品、区域教育云平台、智慧校园整体解决方案、高考升学咨询服务、留学服务以及就业创业学分教育解决方案等；信息安全业务主要为客户提供围绕数据全生命周期的数据安全解决方案、工控安全产品及解决方案、面向多行业的自主可控产品及解决方案等。'"
      ]
     },
     "execution_count": 184,
     "metadata": {},
     "output_type": "execute_result"
    },
    {
     "name": "stderr",
     "output_type": "stream",
     "text": [
      "/opt/anaconda/anaconda3/lib/python3.5/site-packages/simplejson/encoder.py:291: DeprecationWarning: Interpreting naive datetime as local 2018-01-27 16:05:28.728488. Please add timezone info to timestamps.\n",
      "  chunks = self.iterencode(o, _one_shot=True)\n"
     ]
    }
   ],
   "source": [
    "a = '公司主营业务分教育与信息安全两大业务，教育业务主要产品包括 K12 领域的学科应用产品、区域教育云平台、智慧校园整体解决方案、高考升学咨询服务、留学服务以及就业创业学分教育解决方案等；信息安全业务主要为客户提供围绕数据全生命周期的数据安全解决方案、工控安全产品及解决方案、面向多行业的自主可控产品及解决方案等。'\n",
    "a.replace('公司', '立思辰')\n",
    "a"
   ]
  },
  {
   "cell_type": "code",
   "execution_count": 224,
   "metadata": {
    "collapsed": false
   },
   "outputs": [
    {
     "name": "stdout",
     "output_type": "stream",
     "text": [
      "http://www.cninfo.com.cn/finalpage/2017-04-27/1203451818.PDF\n"
     ]
    },
    {
     "name": "stderr",
     "output_type": "stream",
     "text": [
      "/opt/anaconda/anaconda3/lib/python3.5/site-packages/simplejson/encoder.py:291: DeprecationWarning: Interpreting naive datetime as local 2018-01-29 10:36:18.077282. Please add timezone info to timestamps.\n",
      "  chunks = self.iterencode(o, _one_shot=True)\n"
     ]
    }
   ],
   "source": [
    "print( items[1]['url'])"
   ]
  },
  {
   "cell_type": "code",
   "execution_count": null,
   "metadata": {
    "collapsed": false
   },
   "outputs": [],
   "source": [
    "paragraphs = items[1]['paragraphs']\n",
    "paras_raw = [p for p in paragraphs if p['name'] == 'Paragraph' \n",
    "                if p['parents'] if fin_xsb_bnb._match(['总体回顾'], p['parents'])\n",
    "                if not p['content'].startswith('公司是否需要')]\n",
    "paras = [p['content'] for p in paras_raw]\n",
    "\n",
    "index = len(paras)\n",
    "indexcontent = ''\n",
    "flag = False\n",
    "for i in range(len(paras)):\n",
    "    for parent in paras_raw[i]['parents']:\n",
    "        if '主营业务分析' in parent:\n",
    "            indexcontent = paras_raw[i]['content']\n",
    "            flag = True\n",
    "    if flag is True:\n",
    "        break\n",
    "if indexcontent != '':\n",
    "    index = paras.index(indexcontent)\n",
    "paras = paras[0:index]\n",
    "paras_raw = paras_raw[0:index]\n",
    "print(paras_raw[:5])\n",
    "for p in paras:\n",
    "    print(p)\n",
    "    print ('-')"
   ]
  },
  {
   "cell_type": "code",
   "execution_count": null,
   "metadata": {
    "collapsed": true
   },
   "outputs": [],
   "source": []
  }
 ],
 "metadata": {
  "anaconda-cloud": {},
  "kernelspec": {
   "display_name": "anaconda3",
   "language": "python",
   "name": "anaconda3"
  },
  "language_info": {
   "codemirror_mode": {
    "name": "ipython",
    "version": 3
   },
   "file_extension": ".py",
   "mimetype": "text/x-python",
   "name": "python",
   "nbconvert_exporter": "python",
   "pygments_lexer": "ipython3",
   "version": "3.5.2"
  }
 },
 "nbformat": 4,
 "nbformat_minor": 2
}

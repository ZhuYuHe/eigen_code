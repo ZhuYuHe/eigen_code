{
 "cells": [
  {
   "cell_type": "code",
   "execution_count": 7,
   "metadata": {
    "collapsed": false,
    "deletable": true,
    "editable": true
   },
   "outputs": [],
   "source": [
    "# -*- coding: utf-8 -*-\n",
    "from __future__ import division\n",
    "import pickle\n",
    "import requests\n",
    "\n",
    "import jieba\n",
    "import re\n",
    "import operator\n",
    "import time\n",
    "import json\n",
    "\n",
    "import eigen_config\n",
    "from simplex import utils, logger\n",
    "# from simplex.model import KeyWordClassifier\n",
    "# from simplex.utils.finance_util import parse_report,edit_distance\n",
    "\n",
    "class FinanceParagraphDUV2(object):\n",
    "    '''\n",
    "    财报文章段落获取v2，这是为了弥补自动生成不准确，给用户提供推荐段落。完全基于FinancePreprocessV2\n",
    "    '''\n",
    "    def __init__(self, app_config):\n",
    "        app_config['mode'] = 'full'\n",
    "        self.model = FinancePreprocessV2(app_config)\n",
    "\n",
    "    def feature_process(self, item):\n",
    "        '''处理财报pdf，解析为段落，标注意图\n",
    "        Args:\n",
    "            item: 原始财报pdf内容，应该包括\n",
    "                - pdf_id: id\n",
    "                - year: 年份\n",
    "                - quarter: 季度\n",
    "                - name：股票名称\n",
    "                - code：股票代码\n",
    "                - finance_type： hushen 和 xsb 两种类型\n",
    "                - pubdate： 发布日期\n",
    "                - url：财报链接\n",
    "                - tables： 表格数据， json string\n",
    "                - paragraphs： 段落数据，json string\n",
    "        return：\n",
    "            docs：a list of paragraph documents, each doc contains:\n",
    "                - intent: 意图名称\n",
    "                - seq: 段落位置（在意图内部的）\n",
    "                - other metadata in item\n",
    "        '''\n",
    "        article = self.model.feature_process(item)\n",
    "        content = article['content']\n",
    "        docs = []\n",
    "        metadata_keys = [key for key in article.keys() if key not in ['content']]\n",
    "        cnt = 0\n",
    "        for key in ['导语','业绩变动原因', '主营业务', '业务进展', '未来计划']:\n",
    "            paragraphs = content[key]\n",
    "            tmp_docs = [{\"content\":p} for p in paragraphs]\n",
    "            tmp_docs = self.model.get_features(tmp_docs)\n",
    "            for i,doc in enumerate(tmp_docs):\n",
    "                doc['intent'] = key\n",
    "                doc['seq'] = i\n",
    "                doc['id'] = \"{0}_{1}\".format(article['pdf_id'],cnt)\n",
    "                cnt += 1\n",
    "                doc.update({k:article[k] for k in metadata_keys})\n",
    "            docs.extend(tmp_docs)\n",
    "        return docs\n",
    "\n",
    "class FinancePreprocessV2(object):\n",
    "    '''\n",
    "    财报文章生成V2\n",
    "    - 添加规则辅助生成文章\n",
    "    '''\n",
    "    def __init__(self, app_config = {}):\n",
    "        config = app_config\n",
    "        self.finance_du_host = config.get(\"finance_du_host\", \"https://surreal.aidigger.com/api/v1/du/finance\")\n",
    "        self.reason = config.get('reason', ['原因', '因此', '因为', '所致'])\n",
    "        self.mode = config.get('mode','article')\n",
    "        self.version = config.get('version', 0)\n",
    "        self.min_text_length = config.get(\"min_text_length\",5)\n",
    "        \n",
    "        self.labels = ['导语', '业绩变动原因', '主营业务$业务进展', '未来计划', 'other']\n",
    "        self.labelmap = {\n",
    "                         '导语': ['导语','意图_企业基本信息介绍_企业基本信息介绍', '意图_企业活动_公司公告信息', '意图_企业业绩_现状偏好', '意图_企业业绩_现状偏坏'],\n",
    "                         '业绩变动原因': ['意图_企业业绩_业绩变动原因'],\n",
    "                         '主营业务$业务进展': ['意图_企业业务_业务介绍', '意图_企业业务_业务规模', '意图_企业业务_业务规划'],\n",
    "                         '未来计划': ['意图_企业业务_业务前景', '意图_企业业绩_前景偏好','意图_企业业绩_前景偏坏'],\n",
    "                         'other': ['其他', '意图_评论_风险提示','意图_评论_投资建议', '意图_评论_盈利预测', '意图_企业活动_人事活动', '意图_企业活动_融资活动','意图_企业活动_投资活动']\n",
    "                        }\n",
    "        self.labelmapR = {}\n",
    "        for key, value in self.labelmap.items():\n",
    "            for v in value:\n",
    "                self.labelmapR[v] = key\n",
    "\n",
    "        # pattern like 一、（一）、1. 第一节\n",
    "        self.heading_pattern = [re.compile('^(一|二|三|四|五|六|七|八|九|十|\\d+)(、| )'), re.compile('^(（|\\()(一|二|三|四|五|六|七|八|九|十|\\d+)(）|\\))'),\n",
    "                                re.compile('^\\d+(、|.)'), re.compile('^第(一|二|三|四|五|六|七|八|九|十|\\d+)节(、| )')]\n",
    "    \n",
    "    def _get_features_from_du_host(self, docs):\n",
    "        '''\n",
    "        根据docs，返回其预测的类别及概率\n",
    "        '''\n",
    "        try:\n",
    "            ret = requests.post(self.finance_du_host, json = docs, timeout = 30)\n",
    "        except requests.ReadTimeout:\n",
    "            print('Timeout')\n",
    "            logger.warning(\"Time out when try to get finance docs features\")\n",
    "            return []\n",
    "        if ret.status_code == 200:\n",
    "            return ret.json()\n",
    "        \n",
    "    def get_features(self, docs):\n",
    "        \"\"\"\n",
    "        20一组调用分类api\n",
    "        \"\"\"\n",
    "        batch_size = 20\n",
    "        batch = []\n",
    "        results = []\n",
    "        for doc in docs:\n",
    "            batch.append(doc)\n",
    "            if len(batch) == batch_size:\n",
    "                ret = self._get_features_from_du_host(batch)\n",
    "                if ret:\n",
    "                    results.extend(ret)\n",
    "                batch = []\n",
    "        if len(batch) != 0:\n",
    "            ret = self._get_features_from_du_host(batch)\n",
    "            if ret:\n",
    "                results.extend(ret)\n",
    "        return results\n",
    "    \n",
    "    def _fuzzy_match_ed(self, pattern, lst, min_edit_distance=3):\n",
    "        '''\n",
    "        Match pattern by edit distance\n",
    "        '''\n",
    "        refine_lst = [self._remove_heading(l) for l in lst]\n",
    "        for p in pattern:\n",
    "            for l in refine_lst:\n",
    "                ed = edit_distance(p,l)\n",
    "                # in case string length is less than min_edit_distance\n",
    "                # for example: 'abc' and 'qwe', ed will be 3, but they are not similar at all\n",
    "                if ed / min(len(p),len(l)) < 0.6 and ed <= min_edit_distance:\n",
    "                    return True\n",
    "        return False\n",
    "\n",
    "    def _remove_heading(self, content):\n",
    "        for pattern in self.heading_pattern:\n",
    "            content = pattern.sub('',content)\n",
    "        return content\n",
    "\n",
    "    def _merge_paragraphs(self, paras):\n",
    "        '''\n",
    "        主要解决pdf解析出现的错误分段，如下：\n",
    "        ['（2）产品线丰富：报告期间世纪明德加强了国', '内研学、国际游学、社会实践以及教师培训产品的研发，产品可以覆盖更大客户群，可以为存量客户提供', '更多的产品服务内容；']\n",
    "        主要发生在新三板财报中，基于规则来合并: \n",
    "        1. 段落以 。？！” 结尾\n",
    "        2. 非标题句子合并到上一个段落\n",
    "        3. 标题句子不合并到上一个段落\n",
    "        4. 标题句子如果以空格结尾，则单独成段（这个规则只基于个别新三板的解析结果发现，有待进一步考证）\n",
    "        '''\n",
    "        end_tokens = tuple('。？！”')\n",
    "        merged_paras = []\n",
    "        para = ''\n",
    "        for p in paras:\n",
    "            find = False\n",
    "            for pattern in self.heading_pattern:\n",
    "                if pattern.match(p):\n",
    "                    find = True\n",
    "                    merged_paras.append(para)\n",
    "                    para = p\n",
    "                    if para.endswith(\" \"):\n",
    "                        merged_paras.append(para)\n",
    "                        para = ''\n",
    "                    break\n",
    "            if not find:\n",
    "                if para.endswith(end_tokens):\n",
    "                    merged_paras.append(para)\n",
    "                    para = p\n",
    "                else:\n",
    "                    para += p\n",
    "        merged_paras.append(para)\n",
    "        return [p.replace(\" \",'') for p in merged_paras if p]\n",
    "\n",
    "    def _match(self, pattern, lst):\n",
    "        l = ' '.join(lst)\n",
    "        for p in pattern:\n",
    "            if p in l:\n",
    "                return True\n",
    "#         if fuzzy_match:\n",
    "#             return self._fuzzy_match_ed(pattern, lst)\n",
    "        return False\n",
    "\n",
    "    def _isReason(self, text):\n",
    "        for r in self.reason:\n",
    "            if r in text:\n",
    "                return True\n",
    "        return False\n",
    "    \n",
    "    def _intentMap(self, predict):\n",
    "        \"\"\"\n",
    "        将现有意图映射到芥末堆所给的意图上去, 并将权重求和\n",
    "        return:\n",
    "            {content1: {intent1: prob1, intent2: prob2}, content2: ...}\n",
    "        \"\"\"\n",
    "        intent = {x['content']: x['features']['intents'] for x in predict}\n",
    "        for key, value in intent.items():\n",
    "            intent[key] = {x['name']: x['prob'] for x in value}\n",
    "            result = {}\n",
    "            for l in self.labels:\n",
    "                result[l] = 0\n",
    "            for k in intent[key].keys():\n",
    "                result[self.labelmapR[k]] += intent[key][k]\n",
    "            intent[key] = result\n",
    "        return intent\n",
    "    \n",
    "    def _getParabyIntent(self, docs, itt, num, threshold = 0.5):\n",
    "        \"\"\"\n",
    "        返回给定意图概率（>threshold）前num的文本，\n",
    "        \"\"\"\n",
    "        intent = self._intentMap(docs)\n",
    "        intentL = {}\n",
    "        for l in self.labels:\n",
    "            intentL[l] = {}\n",
    "        for k, v in intent.items():\n",
    "            for i, p in v.items():\n",
    "                intentL[i][k] = p\n",
    "        for i in intentL.keys():\n",
    "            intentL[i] = sorted(intentL[i].items(), key=operator.itemgetter(1))\n",
    "        return [p[0] for p in intentL[itt][-num:] if (p[1] > threshold)]\n",
    "\n",
    "    def _getPara(self, match, style, paragraphs, filter_headline = True, crap = None):\n",
    "        \"\"\"\n",
    "        给定条件，返回符合条件的段落。\n",
    "        \"\"\"\n",
    "        paras_raw = [p for p in paragraphs if p['name'] == style \n",
    "                if p['parents'] if self._match(match, p['parents'])\n",
    "                if not p['content'].startswith('公司是否需要')]\n",
    "        paras = [p['content'] for p in paras_raw]\n",
    "        if crap is not None:\n",
    "            index = len(paras)\n",
    "            indexcontent = ''\n",
    "            flag = False\n",
    "            for i in range(len(paras)):\n",
    "                for parent in paras_raw[i]['parents']:\n",
    "                    if crap in parent:\n",
    "                        indexcontent = paras_raw[i]['content']\n",
    "                        flag = True\n",
    "                if flag is True:\n",
    "                    break\n",
    "            if indexcontent != '':\n",
    "                index = paras.index(indexcontent)\n",
    "            paras = paras[:index]\n",
    "            paras_raw = paras_raw[:index]\n",
    "        if not filter_headline:\n",
    "            for i, p in enumerate(paras_raw):\n",
    "                if not p['parents'][0] in paras:\n",
    "                    index = paras.index(p['content'])\n",
    "                    paras.insert(index, p['parents'][0])\n",
    "        return paras\n",
    "\n",
    "    def _filter_by_intent(self, paras):\n",
    "        docs = [{\"content\":p} for p in paras]\n",
    "        docs = self.get_features(docs)\n",
    "        paras = [p['content'] for p in docs if max(p['features']['intents'],key=lambda item:item['prob'])['name']!='其他']\n",
    "        return paras\n",
    "\n",
    "    def _filter_text(self, text):\n",
    "        if len(text) <= self.min_text_length:\n",
    "            return True\n",
    "        if '商业模式' in text and '未发生' in text:\n",
    "            return True\n",
    "        if '年度内变化统计' in text:\n",
    "            return True\n",
    "        if u'□' in text or u'√' in text:\n",
    "            return True\n",
    "        return False\n",
    "        \n",
    "    def extractFromRow(self, row, changeIndex = 3):\n",
    "        try:\n",
    "            num = float(row[1]['text'].strip('）元 ').replace(',', ''))\n",
    "            income = ''\n",
    "            change = ''\n",
    "            if num >= 100000000:\n",
    "                income = str(round(num / 100000000, 2)) + '亿元'\n",
    "            else:\n",
    "                income = str(round(num / 10000, 2)) + '万元'\n",
    "            if '-' in row[changeIndex]['text']:\n",
    "                change = '减少' + row[changeIndex]['text'].strip('%- ') + '%'\n",
    "            else:\n",
    "                change = '增长' + row[changeIndex]['text'].strip('% ') + '%'\n",
    "        except:\n",
    "            return '__', '__'\n",
    "        return income, change\n",
    "        \n",
    "    def _getLeadLanguage(self, table, finance_type, companyname, year, quarter):\n",
    "        localtime = time.localtime(time.time()) \n",
    "        finance_data = {'营业收入': '', '营业收入变动': '', '净利润': '', '净利润变动': '', '总资产': ''}\n",
    "        profit_type = {'hushen': '归属于上市公司股东的净利润', 'xsb': '归属于挂牌公司股东的净利润'}\n",
    "        quarter_map = {'1': '第一季度', '2': '半年度', '3': '第三季度', '4': '年度'}\n",
    "        if len(table) <= 1:\n",
    "            return companyname + year + quarter_map[quarter] + '财报: 营业收入__元, 净利润__元', []\n",
    "        changeIndex = 3\n",
    "        for t in table:\n",
    "            for i in range(len(t)):\n",
    "                if '增减' in t[i]['text']:\n",
    "                    changeIndex = i\n",
    "                    break\n",
    "            if '营业收入' in t[0]['text'] or '收入（元）' in t[0]['text']:\n",
    "                finance_data['营业收入'], finance_data['营业收入变动'] = self.extractFromRow(t, changeIndex)\n",
    "            elif '归属于上市公司股东的净利润' in t[0]['text'] or '归属于挂牌公司股东的净利润' == t[0]['text'].strip():\n",
    "                finance_data['净利润'], finance_data['净利润变动'] = self.extractFromRow(t, changeIndex)\n",
    "            elif '总资产' in t[0]['text'] or '资产总' in t[0]['text']:\n",
    "                finance_data['总资产'], _ = self.extractFromRow(t)\n",
    "        ll = '芥末堆' + str(localtime.tm_mon) + '月' + str(localtime.tm_mday) + '日讯，近日，' + companyname + '发布' + year + '年' + quarter_map[quarter] + '报告， 报告期内，' + companyname +  '营业收入为' + finance_data['营业收入'] + '， 同比' + finance_data['营业收入变动'] + '， ' + profit_type[finance_type] + '为'  +  finance_data['净利润'] + '， 同比' + finance_data['净利润变动'] + '。'\n",
    "        title = companyname + year + quarter_map[quarter] + '财报: 营收' + finance_data['营业收入'] + '，净利润' + finance_data['净利润']\n",
    "        if finance_data['总资产'] == '':\n",
    "            return title, [ll]\n",
    "        else:\n",
    "            ll = ll + '截至报告期末，' + companyname + '总资产' + finance_data['总资产'] + '。'\n",
    "            return title, [ll]    \n",
    "        \n",
    "    def _get_reason(self, finance_type, style, paragraphs, mode = None):\n",
    "        '''根据finance_type({'hushen', 'xinsanban'}), style({'season', 'year'}和mode({'article', 'full'})), \n",
    "        返回由规则及模型生成的 *业绩变动原因* 意图段落\n",
    "        return type: list(str)\n",
    "        '''\n",
    "        #A股规则\n",
    "        if finance_type == 'hushen':\n",
    "            if style == 'year':\n",
    "                paras = [p for p in self._getPara(['经营情况讨论与分析'], 'Paragraph', paragraphs)\n",
    "                     if ('营业收入' in p or '净利润' in p) and self._isReason(p)\n",
    "                     if not self._filter_text(p)]\n",
    "                return paras\n",
    "            else:\n",
    "                paras = [p['content'] for p in paragraphs if self._match(['变动的情况及原因'], p['parents']) \n",
    "                         if '营业收入' in p['content'] or '净利润' in p['content'] or '主营业务收入' in p['content']]\n",
    "                return paras\n",
    "        #新三板规则\n",
    "        else:\n",
    "            # TODO: 是否需要加入标题过滤？\n",
    "            paras = [p for p in self._getPara(['经营情况','重大变动原因'],\"Paragraph\", paragraphs)\n",
    "                     if ('营业收入' in p or '净利润' in p) and \n",
    "                     self._isReason(p)]\n",
    "            return paras\n",
    "    \n",
    "    def _get_mainB(self, finance_type, style, paragraphs, mode = None):\n",
    "        if finance_type == 'hushen':\n",
    "            if style == 'year':\n",
    "                if mode == 'article':\n",
    "                    paras = self._getPara(['从事的主要业务'], 'Paragraph', paragraphs)\n",
    "                    if len(paras) > 0:\n",
    "                        return [paras[0]]\n",
    "                    else:\n",
    "                        return []\n",
    "                else:\n",
    "                    paras = self._getPara(['从事的主要业务'], 'Paragraph', paragraphs, filter_headline = False)\n",
    "                    return paras\n",
    "            else:\n",
    "                return []\n",
    "        else:\n",
    "            paras = self._getPara(['商业模式'], 'Paragraph', paragraphs)\n",
    "            paras = [p for p in paras if not self._filter_text(p)]\n",
    "            return paras\n",
    "    \n",
    "    def _get_BProgress(self, finance_type, style, paragraphs, mode = None):\n",
    "        if finance_type == 'hushen':\n",
    "            if style == 'year':\n",
    "                if mode == 'article':\n",
    "                    paras_raw = [p for p in self._getPara(['概述', '经营情况的讨论与分析'], 'Paragraph', paragraphs)]\n",
    "                    paras = self._filter_by_intent(paras_raw)\n",
    "                    if len(paras) >= 3:\n",
    "                        return paras[:3]\n",
    "                    else:\n",
    "                        return paras\n",
    "                else:\n",
    "                    paras1 = [p for p in self._getPara(['概述', '经营情况的讨论与分析'], 'Paragraph', paragraphs, filter_headline = False, crap = '主营业务分析')]\n",
    "                    paras2 = [p for p in self._getPara(['核心竞争力分析'], 'Paragraph', paragraphs, filter_headline=False)]\n",
    "                    return [p for p in paras1 + paras2 if not self._filter_text(p)]\n",
    "            else:\n",
    "                return []\n",
    "        else:\n",
    "            paras = self._getPara(['经营情况', '总体回顾', '经营计划'], 'Paragraph', paragraphs, filter_headline = False, crap = '主营业务分析')\n",
    "            paras = [p for p in paras if not self._filter_text(p) if not self._isReason(p)]\n",
    "            return paras\n",
    "    \n",
    "    def _get_future(self, finance_type, style, paragraphs, mode = None):\n",
    "        if finance_type == 'hushen':\n",
    "            if style == 'year':\n",
    "                paras = self._getPara(['经营计划', '发展计划', '经营工作计划', '经营管理计划', '发展战略'], 'Paragraph', paragraphs, filter_headline = False)\n",
    "                if mode == 'article':\n",
    "                    return self._filter_by_intent(paras)\n",
    "                return paras\n",
    "            else:\n",
    "                return []\n",
    "        else:\n",
    "            paras = self._getPara(['发展战略', '经营计划或目标'], 'Paragraph', paragraphs, filter_headline = False )\n",
    "            if mode == 'article':\n",
    "                return self._filter_by_intent(paras)\n",
    "            return paras\n",
    "        \n",
    "    def _split_paragraphs(self, paras):\n",
    "        ret = []\n",
    "        for p in paras:\n",
    "            ps = p.split(\"\\n\")\n",
    "            ret.extend(ps)\n",
    "        return ret\n",
    "\n",
    "    def feature_process(self, item):\n",
    "        '''处理财报pdf，解析为段落，标注意图\n",
    "        Args:\n",
    "            item: 原始财报pdf内容，应该包括\n",
    "                - pdf_id: id\n",
    "                - year: 年份\n",
    "                - quarter: 季度\n",
    "                - name：股票名称\n",
    "                - code：股票代码\n",
    "                - finance_type： hushen 和 xsb 两种类型\n",
    "                - pubdate： 发布日期\n",
    "                - url：财报链接\n",
    "                - tables： 表格数据， json string\n",
    "                - paragraphs： 段落数据，json string\n",
    "                - meta: 季报才有的key，存放最近年报或半年报数据\n",
    "        return：\n",
    "            article：\n",
    "                根据paragraphs生成的文章\n",
    "        '''\n",
    "        if item['paragraphs'] is None:\n",
    "            paragraphs = []\n",
    "        elif type(item['paragraphs']) == str:\n",
    "            paragraphs = json.loads(item['paragraphs'])\n",
    "        else:\n",
    "            paragraphs = item['paragraphs']\n",
    "\n",
    "        if item.get('meta') is None:\n",
    "            paragraphs_meta = []\n",
    "        elif item.get('meta').get('paragraphs') is None:\n",
    "            paragraphs_meta = []\n",
    "        elif type(item['meta']['paragraphs']) == str:\n",
    "            paragraphs_meta = json.loads(item['meta']['paragraphs'])\n",
    "        else:\n",
    "            paragraphs_meta = item['meta']['paragraphs'] \n",
    "        \n",
    "        if item['tables'] is None:\n",
    "            tables = []\n",
    "        elif type(item['tables']) == str:\n",
    "            tables = json.loads(item['tables'])\n",
    "        else:\n",
    "            tables = item['tables']\n",
    "\n",
    "        finance_type = item['finance_type']\n",
    "        quarter = item['quarter']\n",
    "        companyname = item['name']\n",
    "\n",
    "        table = [t['body'] for t in tables if t['name'] == 'finance-main']\n",
    "        if len(table) != 0:\n",
    "            table = table[0]\n",
    "\n",
    "        year = item['year']\n",
    "        style = 'year'\n",
    "        if int(quarter) == 1 or int(quarter) == 3:\n",
    "            style = 'season'\n",
    "            \n",
    "        \n",
    "        #获取导语\n",
    "        title, ll = self._getLeadLanguage(table, finance_type, companyname, str(year), str(quarter)) \n",
    "        #获取业绩变动原因段落\n",
    "        reason = self._get_reason(finance_type, style, paragraphs, self.mode)\n",
    "        reason = self._split_paragraphs(reason)\n",
    "\n",
    "        #获取主营业务段落\n",
    "        if style == 'year':\n",
    "            mainB = self._get_mainB(finance_type, style, paragraphs, self.mode)\n",
    "        else:\n",
    "            mainB = self._get_mainB(finance_type, 'year', paragraphs_meta, self.mode)\n",
    "        mainB = self._split_paragraphs(mainB)\n",
    "\n",
    "        #获取业务进展段落\n",
    "        BProgress = self._get_BProgress(finance_type, style, paragraphs, self.mode)\n",
    "        BProgress = self._split_paragraphs(BProgress)\n",
    "\n",
    "        #获取未来计划段落\n",
    "        future = self._get_future(finance_type, style, paragraphs, self.mode)\n",
    "        future = self._split_paragraphs(future)\n",
    "\n",
    "        result = {'标题': title, '导语': ll, '业绩变动原因': reason, '主营业务': mainB, '业务进展': BProgress, '未来计划': future}       \n",
    "        for key in ['业绩变动原因', '主营业务', '业务进展', '未来计划']:\n",
    "            for i in range(len(result[key])):\n",
    "                result[key][i] = result[key][i].replace('公司', companyname)\n",
    "        doc = {'version': self.version, 'quarter': quarter, 'url': item['url'], 'year': year, 'finance_type': finance_type, 'pubdate': item['pubdate'], 'name': companyname, 'code': item['code'], 'pdf_id': item['pdf_id'], 'content': result}\n",
    "        return doc"
   ]
  },
  {
   "cell_type": "code",
   "execution_count": 8,
   "metadata": {
    "collapsed": false,
    "deletable": true,
    "editable": true
   },
   "outputs": [
    {
     "data": {
      "text/plain": [
       "{'code': '300010',\n",
       " 'content': {'业务进展': [],\n",
       "  '业绩变动原因': ['1、本期主营业务收入为30,593.59万元，上年同期为18,638.03万元，增长64.15%，主要是因为立思辰主'],\n",
       "  '主营业务': ['立思辰主营业务分教育与信息安全两大业务，教育业务主要产品包括面向 B 端用户的区域教育云平台、智慧校园整体解决方案、K12 领域的学科应用产品等以及面向 C 端用户的高考升学咨询服务、留学咨询服务、线上辅导等；信息安全业务主要为客户提供围绕数据全生命周期的数据安全解决方案、工控安全产品及解决方案、面向多行业的自主可控产品及解决方案等。'],\n",
       "  '导语': ['芥末堆2月27日讯，近日，立思辰发布2017年第一季度报告， 报告期内，立思辰营业收入为3.06亿元， 同比增长64.15%， 归属于上市公司股东的净利润为2384.87万元， 同比增长94.36%。截至报告期末，立思辰总资产74.05亿元。'],\n",
       "  '未来计划': [],\n",
       "  '标题': '立思辰2017第一季度财报: 营收3.06亿元，净利润2384.87万元'},\n",
       " 'finance_type': 'hushen',\n",
       " 'name': '立思辰',\n",
       " 'pdf_id': '300010_2017_1',\n",
       " 'pubdate': '2017-04-26',\n",
       " 'quarter': '1',\n",
       " 'url': 'http://disclosure.szse.cn/finalpage/2017-04-26/1203387778.PDF',\n",
       " 'version': 0,\n",
       " 'year': '2017'}"
      ]
     },
     "execution_count": 8,
     "metadata": {},
     "output_type": "execute_result"
    }
   ],
   "source": [
    "item5 = items[3]\n",
    "item5['meta'] = items[0]\n",
    "FinancePreprocessV2().feature_process(item5)"
   ]
  },
  {
   "cell_type": "code",
   "execution_count": 286,
   "metadata": {
    "collapsed": false,
    "deletable": true,
    "editable": true
   },
   "outputs": [
    {
     "data": {
      "text/plain": [
       "['1、本期主营业务收入为30,593.59万元，上年同期为18,638.03万元，增长64.15%，主要是因为公司主']"
      ]
     },
     "execution_count": 286,
     "metadata": {},
     "output_type": "execute_result"
    },
    {
     "name": "stderr",
     "output_type": "stream",
     "text": [
      "/opt/anaconda/anaconda3/lib/python3.5/site-packages/simplejson/encoder.py:291: DeprecationWarning: Interpreting naive datetime as local 2018-01-30 14:23:46.745563. Please add timezone info to timestamps.\n",
      "  chunks = self.iterencode(o, _one_shot=True)\n"
     ]
    }
   ],
   "source": [
    "paras = [p['content'] for p in items[3]['paragraphs'] if fin_A_bnb._match(['变动的情况及原因'], p['parents']) \n",
    "         if '营业收入' in p['content'] or '净利润' in p['content'] or '主营业务收入' in p['content']]\n",
    "# para = [p['content'] for p in items[3]['paragraphs'] if '本期主营业务收入']\n",
    "paras"
   ]
  },
  {
   "cell_type": "code",
   "execution_count": 116,
   "metadata": {
    "collapsed": false,
    "deletable": true,
    "editable": true
   },
   "outputs": [
    {
     "name": "stdout",
     "output_type": "stream",
     "text": [
      "{'业绩变动原因': [], '导语': ['芥末堆2月6日讯，近日，立思辰发布2017年半年度报告， 报告期内，立思辰营业收入为6.81亿元， 同比增长35.71%， 归属于上市公司股东的净利润为3496.11万元， 同比增长15.62%。截至报告期末，立思辰总资产73.77亿元。'], '业务进展': ['2017 年上半年，立思辰管理层紧密围绕年初制定的经营计划，贯彻立思辰的战略部署，坚持积极进取，强化协同整合，各项经营任务稳步推进，为实现全年的经营目标奠定了坚实的基础。报告期内，立思辰实现营业收入 68,077.05 万元，比上年同期增长 35.71%；实现归属于上市立思辰股东的净利润 3,496.11 万元，比上年同期增长 15.62%；归属于上市立思辰股东的扣除非经常性损益后的净利润 3,072.40 万元，比上年同期增长15.49%。', '2017 年度是立思辰发布并实施新教育战略的开局之年，立思辰秉承“以科技和人文改变教育”的历史使命，坚持“做大智慧教育，做强教育服务，做精未来学校，做实教育生态”的发展路径，利用科技手段打通校内校外、线上线下、国内国外的学习场景，让学生们高效学习、快乐成长，最终实现“激发成就亿万青少年”的宏伟愿景。报告期内，立思辰成立智慧教育、教学服务、学习服务三大事业群，充分整合资源并继续深入推动“智慧教育+教育服务”的双轮驱动策略，巩固既有优势并扩大市场，立思辰教育业务上半年实现营业收入31,532.37 万元，同比增长 47.54%，目前立思辰在手的教育业务订单金额超过 7 亿元。', '立思辰扎根教育行业多年，经过坚持不懈的市场推广，业务在全国广泛铺开，尤其在北京地区经过多年来的深耕细作，充分赢得了客户的信任，与部分学校形成了长期稳定的合作关系。在保持原有各地市场领先的同时，立思辰加快渠道建设，积极开拓各地市场，报告期内，立思辰于北京怀柔、张家口、保定、石家庄、沧州、青岛、乌鲁木齐、成都、玉溪、福州、太原、济南、南京等地新建分支机构，极大的促进了立思辰各项业务在更多地市的落地推进。截至报告期末，立思辰智慧教育业务已累计进入 27 个省、16000 余所学校、累计覆盖 2100 多万中小学生。立思辰教育服务业务也在全国各地全面展开，立思辰“教育云规模化应用项目”已完成 9 个区域单独培训，其中包括：嘉兴、上犹、福州、昭通、新疆克拉玛依、伊犁、昌吉、乌苏、河北沧州；完成片区培训 3 场，包括大足、福州、陕西；下半年将继续通过区域培训、区域竞赛等多种方式开展项目。报告期内，立思辰开展“全国百所学校高考升学规划讲座公益行”，已组织 40 场次的进校讲座，覆盖辽宁、黑龙江、吉林、河北、宁夏、安徽、天津等省市，为立思辰升学规划服务业务的开展打下了良好的基础。'], '未来计划': [], 'title': '立思辰2017半年度财报: 营收6.81亿元，净利润3496.11万元', '主营业务': ['立思辰主营业务分教育与信息安全两大业务，教育业务主要产品包括面向 B 端用户的区域教育云平台、智慧校园整体解决方案、K12 领域的学科应用产品等以及面向 C 端用户的高考升学咨询服务、留学咨询服务、线上辅导等；信息安全业务主要为客户提供围绕数据全生命周期的数据安全解决方案、工控安全产品及解决方案、面向多行业的自主可控产品及解决方案等。']}\n"
     ]
    },
    {
     "name": "stderr",
     "output_type": "stream",
     "text": [
      "/opt/anaconda/anaconda3/lib/python3.5/site-packages/simplejson/encoder.py:291: DeprecationWarning: Interpreting naive datetime as local 2018-02-06 17:21:01.080567. Please add timezone info to timestamps.\n",
      "  chunks = self.iterencode(o, _one_shot=True)\n"
     ]
    }
   ],
   "source": [
    "fin_A_bnb = FinancePreprocessV2()\n",
    "print(fin_A_bnb.feature_process(items[0]))"
   ]
  },
  {
   "cell_type": "code",
   "execution_count": 96,
   "metadata": {
    "collapsed": false,
    "deletable": true,
    "editable": true
   },
   "outputs": [
    {
     "name": "stdout",
     "output_type": "stream",
     "text": [
      "300010_2017_2 hushen\n",
      "839264_2016_4 xsb\n",
      "300010_2016_4 hushen\n",
      "300010_2017_1 hushen\n",
      "839264_2017_2 xsb\n",
      "300010_2017_3 hushen\n"
     ]
    },
    {
     "name": "stderr",
     "output_type": "stream",
     "text": [
      "/opt/anaconda/anaconda3/lib/python3.5/site-packages/simplejson/encoder.py:291: DeprecationWarning: Interpreting naive datetime as local 2018-02-06 16:41:30.799804. Please add timezone info to timestamps.\n",
      "  chunks = self.iterencode(o, _one_shot=True)\n"
     ]
    }
   ],
   "source": [
    "for i in items:\n",
    "    print (i['pdf_id'], i['finance_type'])"
   ]
  },
  {
   "cell_type": "code",
   "execution_count": 110,
   "metadata": {
    "collapsed": false,
    "deletable": true,
    "editable": true,
    "scrolled": true
   },
   "outputs": [
    {
     "name": "stderr",
     "output_type": "stream",
     "text": [
      "/opt/anaconda/anaconda3/lib/python3.5/site-packages/simplejson/encoder.py:291: DeprecationWarning: Interpreting naive datetime as local 2018-02-06 17:03:23.020571. Please add timezone info to timestamps.\n",
      "  chunks = self.iterencode(o, _one_shot=True)\n"
     ]
    }
   ],
   "source": [
    "intents = ['导语', '业绩变动原因', '主营业务', '业务进展', '未来计划']\n",
    "processor = FinancePreprocessV2()\n",
    "for intent in intents:\n",
    "    A_bnb = ''\n",
    "    res = processor.feature_process(items[4])\n",
    "    for intent in intents:\n",
    "        for content in res[intent]:\n",
    "            A_bnb += content + '\\n'\n",
    "\n"
   ]
  },
  {
   "cell_type": "code",
   "execution_count": null,
   "metadata": {
    "collapsed": false,
    "deletable": true,
    "editable": true
   },
   "outputs": [],
   "source": [
    "fin_xsb_bnb = FinancePreprocessV2()\n",
    "print(items[4]['url'])\n",
    "print(fin_xsb_bnb.feature_process(items[4])['业务进展'])"
   ]
  },
  {
   "cell_type": "code",
   "execution_count": 298,
   "metadata": {
    "collapsed": false,
    "deletable": true,
    "editable": true
   },
   "outputs": [
    {
     "name": "stdout",
     "output_type": "stream",
     "text": [
      "True\n"
     ]
    },
    {
     "name": "stderr",
     "output_type": "stream",
     "text": [
      "/opt/anaconda/anaconda3/lib/python3.5/site-packages/simplejson/encoder.py:291: DeprecationWarning: Interpreting naive datetime as local 2018-01-30 14:36:01.180362. Please add timezone info to timestamps.\n",
      "  chunks = self.iterencode(o, _one_shot=True)\n"
     ]
    }
   ],
   "source": [
    "fin_xsb_nb = FinancePreprocessV2()\n",
    "docs = fin_xsb_nb.feature_process(items[1])\n",
    "text1 = '''1.营业收入：报告期较上年同期增长 56.52%，主要原因系：（1）市场环境向好：国家研学旅行政策\n",
    "不断落地，政策环境向好，市场需求大增，客户人数增长迅速；（2）产品线丰富：报告期间世纪明德加强了国\n",
    "内研学、国际游学、社会实践以及教师培训产品的研发，产品可以覆盖更大客户群，可以为存量客户提供\n",
    "更多的产品服务内容；（3）市场开拓方面，世纪明德制定积极的销售政策，重点突破市场薄弱区域，客户范围\n",
    "不断扩大。重点突破春秋季研学旅行市场，从客户参营时间上进行延展，从一年中寒暑假的游学旺季拓展\n",
    "为全年旺季。'''\n",
    "print(text1 in docs)"
   ]
  },
  {
   "cell_type": "code",
   "execution_count": null,
   "metadata": {
    "collapsed": false,
    "deletable": true,
    "editable": true
   },
   "outputs": [],
   "source": [
    "item = items[1]['paragraphs']\n",
    "[i for i in item if i['name'] == 'Paragraph' if fin._match(['总体回顾'], i['parents'])]"
   ]
  },
  {
   "cell_type": "code",
   "execution_count": 279,
   "metadata": {
    "collapsed": false,
    "deletable": true,
    "editable": true
   },
   "outputs": [
    {
     "name": "stdout",
     "output_type": "stream",
     "text": [
      "http://disclosure.szse.cn/finalpage/2017-04-26/1203387778.PDF\n",
      "300010_2017_1\n"
     ]
    },
    {
     "name": "stderr",
     "output_type": "stream",
     "text": [
      "/opt/anaconda/anaconda3/lib/python3.5/site-packages/simplejson/encoder.py:291: DeprecationWarning: Interpreting naive datetime as local 2018-01-30 14:14:09.717339. Please add timezone info to timestamps.\n",
      "  chunks = self.iterencode(o, _one_shot=True)\n"
     ]
    }
   ],
   "source": [
    "print(items[3]['url'])\n",
    "print(items[3]['pdf_id'])\n",
    "[p['content'] for p in items[3]['paragraphs'] if p[]]"
   ]
  },
  {
   "cell_type": "code",
   "execution_count": 5,
   "metadata": {
    "collapsed": false,
    "deletable": true,
    "editable": true,
    "scrolled": true
   },
   "outputs": [],
   "source": [
    "import json\n",
    "itemlist = ['000001_0', '000004_0', '000006_0']\n",
    "keys = ['pdf_id', 'year', 'quarter', 'name', 'code', 'finance_type', 'pubdate', 'url', 'tables', 'paragraphs']\n",
    "items = []\n",
    "for item in itemlist:\n",
    "    f = open('/data/xueyou/finance/pdf_content_test/' + item)\n",
    "    for line in f:\n",
    "        data = line.split('\\x01')\n",
    "        tmp = {}\n",
    "        for i, key in enumerate(keys):\n",
    "            tmp[key] = data[i]\n",
    "        items.append(tmp)\n",
    "    f.close()"
   ]
  },
  {
   "cell_type": "code",
   "execution_count": 277,
   "metadata": {
    "collapsed": false,
    "deletable": true,
    "editable": true
   },
   "outputs": [
    {
     "name": "stderr",
     "output_type": "stream",
     "text": [
      "/opt/anaconda/anaconda3/lib/python3.5/site-packages/simplejson/encoder.py:291: DeprecationWarning: Interpreting naive datetime as local 2018-01-29 14:56:50.715807. Please add timezone info to timestamps.\n",
      "  chunks = self.iterencode(o, _one_shot=True)\n"
     ]
    }
   ],
   "source": [
    "with open('/data/share/items.pkl', 'wb') as pickle_file:\n",
    "    pickle.dump(items, pickle_file)"
   ]
  },
  {
   "cell_type": "code",
   "execution_count": 278,
   "metadata": {
    "collapsed": false,
    "deletable": true,
    "editable": true
   },
   "outputs": [
    {
     "data": {
      "text/plain": [
       "dict_keys(['quarter', 'url', 'year', 'finance_type', 'pubdate', 'name', 'code', 'pdf_id', 'paragraphs', 'tables'])"
      ]
     },
     "execution_count": 278,
     "metadata": {},
     "output_type": "execute_result"
    },
    {
     "name": "stderr",
     "output_type": "stream",
     "text": [
      "/opt/anaconda/anaconda3/lib/python3.5/site-packages/simplejson/encoder.py:291: DeprecationWarning: Interpreting naive datetime as local 2018-01-29 14:57:50.969544. Please add timezone info to timestamps.\n",
      "  chunks = self.iterencode(o, _one_shot=True)\n"
     ]
    }
   ],
   "source": [
    "f = open('/data/share/items.pkl', 'rb')\n",
    "import pickle\n",
    "items_ = pickle.load(f)\n",
    "items_[0].keys()"
   ]
  },
  {
   "cell_type": "code",
   "execution_count": 37,
   "metadata": {
    "collapsed": false,
    "deletable": true,
    "editable": true
   },
   "outputs": [
    {
     "name": "stderr",
     "output_type": "stream",
     "text": [
      "/opt/anaconda/anaconda3/lib/python3.5/site-packages/simplejson/encoder.py:291: DeprecationWarning: Interpreting naive datetime as local 2018-01-26 17:23:56.036668. Please add timezone info to timestamps.\n",
      "  chunks = self.iterencode(o, _one_shot=True)\n"
     ]
    }
   ],
   "source": [
    "labels = ['导语', '业绩变动原因', '主营业务$业务进展', '未来计划', 'other']\n",
    "labelmap = {\n",
    "                 '导语': ['导语','意图_企业基本信息介绍_企业基本信息介绍', '意图_企业活动_公司公告信息', '意图_企业业绩_现状偏好', '意图_企业业绩_现状偏坏'],\n",
    "                 '业绩变动原因': ['意图_企业业绩_业绩变动原因'],\n",
    "                 '主营业务$业务进展': ['意图_企业业务_业务介绍', '意图_企业业务_业务规模', '意图_企业业务_业务规划'],\n",
    "                 '未来计划': ['意图_企业业务_业务前景', '意图_企业业绩_前景偏好','意图_企业业绩_前景偏坏'],\n",
    "                 'other': ['其他', '意图_评论_风险提示','意图_评论_投资建议', '意图_评论_盈利预测', '意图_企业活动_人事活动', '意图_企业活动_融资活动','意图_企业活动_投资活动']\n",
    "                }\n",
    "labelmapR = {}\n",
    "for key, value in labelmap.items():\n",
    "    for v in value:\n",
    "        labelmapR[v] = key"
   ]
  },
  {
   "cell_type": "code",
   "execution_count": 389,
   "metadata": {
    "collapsed": false,
    "deletable": true,
    "editable": true
   },
   "outputs": [
    {
     "name": "stdout",
     "output_type": "stream",
     "text": [
      "[{'立思辰教育秉承“以科技和人文改变教育”的历史使命，坚持“做大智慧教育，做强教育服务，做精未来\\n学校，做实教育生态”的发展路径，利用科技手段打通校内校外、线上线下、国内国外的学习场景，让学生\\n们高效学习、快乐成长，最终实现“激发成就亿万青少年”的宏伟愿景。': '意图_企业业务_业务介绍'}, {'老鼠开的房间啊手动阀': '意图_评论_风险提示'}]\n",
      "['立思辰教育秉承“以科技和人文改变教育”的历史使命，坚持“做大智慧教育，做强教育服务，做精未来\\n学校，做实教育生态”的发展路径，利用科技手段打通校内校外、线上线下、国内国外的学习场景，让学生\\n们高效学习、快乐成长，最终实现“激发成就亿万青少年”的宏伟愿景。', '老鼠开的房间啊手动阀']\n"
     ]
    },
    {
     "name": "stderr",
     "output_type": "stream",
     "text": [
      "/opt/anaconda/anaconda3/lib/python3.5/site-packages/simplejson/encoder.py:291: DeprecationWarning: Interpreting naive datetime as local 2018-01-31 16:22:50.240493. Please add timezone info to timestamps.\n",
      "  chunks = self.iterencode(o, _one_shot=True)\n"
     ]
    }
   ],
   "source": [
    "import operator\n",
    "def intentMap(predict):\n",
    "        \"\"\"\n",
    "        将现有意图映射到芥末堆所给的意图上去, 并将权重求和\n",
    "        \"\"\"\n",
    "        result = {}\n",
    "        for l in labels:\n",
    "            result[l] = 0\n",
    "        for key in predict.keys():\n",
    "            result[labelmapR[key]] += predict[key]\n",
    "        return result       \n",
    "    \n",
    "def getParabyIntent(docs, itt, num, threshold = 0.5):\n",
    "    intent = {x['content']: x['features']['intents'] for x in docs}\n",
    "    for key, value in intent.items():\n",
    "        intent[key] = {x['name']: x['prob'] for x in value}\n",
    "        intent[key] = intentMap(intent[key])\n",
    "    intentL = {}\n",
    "    for l in labels:\n",
    "        intentL[l] = {}\n",
    "    for k, v in intent.items():\n",
    "        for i, p in v.items():\n",
    "            intentL[i][k] = p\n",
    "    for i in intentL.keys():\n",
    "        intentL[i] = sorted(intentL[i].items(), key=operator.itemgetter(1))\n",
    "    return [p[0] for p in intentL[itt][-num:] if (p[1] > threshold)]\n",
    "import requests\n",
    "text = [{'content':'''立思辰教育秉承“以科技和人文改变教育”的历史使命，坚持“做大智慧教育，做强教育服务，做精未来\n",
    "学校，做实教育生态”的发展路径，利用科技手段打通校内校外、线上线下、国内国外的学习场景，让学生\n",
    "们高效学习、快乐成长，最终实现“激发成就亿万青少年”的宏伟愿景。'''}, {'content': '老鼠开的房间啊手动阀'}]\n",
    "query = requests.post(\"https://surreal.aidigger.com/api/v1/du/finance\",json=text).json()\n",
    "predict = query\n",
    "# print(predict)\n",
    "paras2_intent = [{x['content']: x['features']['intents']} for x in predict]\n",
    "paras2_intent = [{x: {z['name']: z['prob'] for z in y} for x, y in p.items()} for p in paras2_intent]\n",
    "paras2_intent = [{x: sorted(y.items(), key = operator.itemgetter(1))[-1][0] for x, y in p.items()} for p in paras2_intent]\n",
    "print(paras2_intent)\n",
    "paras = [x for p in paras2_intent for x, y in p.items() ]\n",
    "print(paras)\n",
    "# print(sorted({'意图_企业业务_业务介绍': 0.47018682423239766, '意图_企业活动_人事活动': 0.0009334563805220739}, key = operator.itemgetter(1)))"
   ]
  },
  {
   "cell_type": "code",
   "execution_count": null,
   "metadata": {
    "collapsed": false,
    "deletable": true,
    "editable": true
   },
   "outputs": [],
   "source": [
    "paragraphs = items[1]['paragraphs']\n",
    "paras_raw = [p for p in paragraphs if p['name'] == 'Paragraph' \n",
    "                if p['parents'] if fin_xsb_bnb._match(['总体回顾'], p['parents'])\n",
    "                if not p['content'].startswith('公司是否需要')]\n",
    "paras = [p['content'] for p in paras_raw]\n",
    "\n",
    "index = len(paras)\n",
    "indexcontent = ''\n",
    "flag = False\n",
    "for i in range(len(paras)):\n",
    "    for parent in paras_raw[i]['parents']:\n",
    "        if '主营业务分析' in parent:\n",
    "            indexcontent = paras_raw[i]['content']\n",
    "            flag = True\n",
    "    if flag is True:\n",
    "        break\n",
    "if indexcontent != '':\n",
    "    index = paras.index(indexcontent)\n",
    "paras = paras[0:index]\n",
    "paras_raw = paras_raw[0:index]\n",
    "print(paras_raw[:5])\n",
    "for p in paras:\n",
    "    print(p)\n",
    "    print ('-')"
   ]
  },
  {
   "cell_type": "code",
   "execution_count": 395,
   "metadata": {
    "collapsed": false,
    "deletable": true,
    "editable": true
   },
   "outputs": [
    {
     "data": {
      "text/plain": [
       "[[1, 2], [3, 4], [4, 5]]"
      ]
     },
     "execution_count": 395,
     "metadata": {},
     "output_type": "execute_result"
    },
    {
     "name": "stderr",
     "output_type": "stream",
     "text": [
      "/opt/anaconda/anaconda3/lib/python3.5/site-packages/simplejson/encoder.py:291: DeprecationWarning: Interpreting naive datetime as local 2018-01-31 19:38:34.445476. Please add timezone info to timestamps.\n",
      "  chunks = self.iterencode(o, _one_shot=True)\n"
     ]
    }
   ],
   "source": [
    "a = [[1,2], [4,5], [3,4]]\n",
    "sorted(a, key = operator.itemgetter(1))"
   ]
  },
  {
   "cell_type": "code",
   "execution_count": 75,
   "metadata": {
    "collapsed": false,
    "deletable": true,
    "editable": true
   },
   "outputs": [
    {
     "data": {
      "text/plain": [
       "False"
      ]
     },
     "execution_count": 75,
     "metadata": {},
     "output_type": "execute_result"
    },
    {
     "name": "stderr",
     "output_type": "stream",
     "text": [
      "/opt/anaconda/anaconda3/lib/python3.5/site-packages/simplejson/encoder.py:291: DeprecationWarning: Interpreting naive datetime as local 2018-02-05 18:40:40.968004. Please add timezone info to timestamps.\n",
      "  chunks = self.iterencode(o, _one_shot=True)\n"
     ]
    }
   ],
   "source": [
    "type([1,2]) != list"
   ]
  },
  {
   "cell_type": "code",
   "execution_count": 27,
   "metadata": {
    "collapsed": false,
    "deletable": true,
    "editable": true
   },
   "outputs": [
    {
     "name": "stderr",
     "output_type": "stream",
     "text": [
      "/opt/anaconda/anaconda3/lib/python3.5/site-packages/simplejson/encoder.py:291: DeprecationWarning: Interpreting naive datetime as local 2018-02-26 20:48:35.269612. Please add timezone info to timestamps.\n",
      "  chunks = self.iterencode(o, _one_shot=True)\n"
     ]
    }
   ],
   "source": [
    "ss = 'zhuyuhe'\n",
    "charlist = list(ss)"
   ]
  },
  {
   "cell_type": "code",
   "execution_count": 30,
   "metadata": {
    "collapsed": false,
    "deletable": true,
    "editable": true
   },
   "outputs": [
    {
     "data": {
      "text/plain": [
       "['e', 'h', 'h', 'u', 'u', 'y', 'z']"
      ]
     },
     "execution_count": 30,
     "metadata": {},
     "output_type": "execute_result"
    },
    {
     "name": "stderr",
     "output_type": "stream",
     "text": [
      "/opt/anaconda/anaconda3/lib/python3.5/site-packages/simplejson/encoder.py:291: DeprecationWarning: Interpreting naive datetime as local 2018-02-26 20:48:53.255674. Please add timezone info to timestamps.\n",
      "  chunks = self.iterencode(o, _one_shot=True)\n"
     ]
    }
   ],
   "source": [
    "charlist = sorted(charlist)\n",
    "charlist"
   ]
  },
  {
   "cell_type": "code",
   "execution_count": null,
   "metadata": {
    "collapsed": true,
    "deletable": true,
    "editable": true
   },
   "outputs": [],
   "source": []
  }
 ],
 "metadata": {
  "anaconda-cloud": {},
  "kernelspec": {
   "display_name": "Python [zhuyuheEnv]",
   "language": "python",
   "name": "Python [zhuyuheEnv]"
  },
  "language_info": {
   "codemirror_mode": {
    "name": "ipython",
    "version": 3
   },
   "file_extension": ".py",
   "mimetype": "text/x-python",
   "name": "python",
   "nbconvert_exporter": "python",
   "pygments_lexer": "ipython3",
   "version": "3.6.2"
  }
 },
 "nbformat": 4,
 "nbformat_minor": 2
}

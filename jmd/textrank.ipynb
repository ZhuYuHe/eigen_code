{
 "cells": [
  {
   "cell_type": "code",
   "execution_count": 4,
   "metadata": {
    "collapsed": true,
    "scrolled": true
   },
   "outputs": [],
   "source": [
    "import textrank4zh"
   ]
  },
  {
   "cell_type": "code",
   "execution_count": 5,
   "metadata": {
    "collapsed": true,
    "scrolled": true
   },
   "outputs": [],
   "source": [
    "from textrank4zh import TextRank4Keyword, TextRank4Sentence"
   ]
  },
  {
   "cell_type": "code",
   "execution_count": 33,
   "metadata": {
    "collapsed": false,
    "scrolled": true
   },
   "outputs": [],
   "source": [
    "f = open('/home/zhuyuhe/mydata/jmd/predict/test.txt', 'r')\n",
    "l = f.read()\n",
    "tr4s = TextRank4Sentence()\n",
    "tr4s.analyze(text = l, lower = True, source = 'all_filters')"
   ]
  },
  {
   "cell_type": "code",
   "execution_count": 36,
   "metadata": {
    "collapsed": false,
    "scrolled": true
   },
   "outputs": [
    {
     "name": "stdout",
     "output_type": "stream",
     "text": [
      "0.217967599417 一晃眼之间，私房菜的基础篇已经进入第三版了\n",
      "0.147941806271 因此有必要随着时间的推移将linux相关文件数据做个修订\n",
      "0.142857142857 距离第一版2002年已经隔了7年\n",
      "0.142857142857 这次大改版其实从2008年7月就开始进行了\n",
      "0.142857142857 百度一下，你就知道\n"
     ]
    }
   ],
   "source": [
    "for item in tr4s.get_key_sentences(num = 5):\n",
    "    print item.weight, item.sentence"
   ]
  },
  {
   "cell_type": "code",
   "execution_count": null,
   "metadata": {
    "collapsed": true
   },
   "outputs": [],
   "source": []
  }
 ],
 "metadata": {
  "anaconda-cloud": {},
  "kernelspec": {
   "display_name": "Python [zhuEnv2]",
   "language": "python",
   "name": "Python [zhuEnv2]"
  },
  "language_info": {
   "codemirror_mode": {
    "name": "ipython",
    "version": 2
   },
   "file_extension": ".py",
   "mimetype": "text/x-python",
   "name": "python",
   "nbconvert_exporter": "python",
   "pygments_lexer": "ipython2",
   "version": "2.7.13"
  }
 },
 "nbformat": 4,
 "nbformat_minor": 2
}
